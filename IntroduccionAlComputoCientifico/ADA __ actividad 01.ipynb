{
 "cells": [
  {
   "cell_type": "markdown",
   "id": "a1035935",
   "metadata": {},
   "source": [
    "<p  align=\"center\" style=\"margin-left: 10%; margin-right: 10%; font-family: 'Times New Roman'; font-size: 18px; line-height: 2;\">\n",
    "</p>\n",
    "<p  align=\"center\" style=\"margin-left: 10%; margin-right: 10%; font-family: 'Times New Roman'; font-size: 18px; line-height: 2;\">Universidad Autónoma de Yucatán - Facultad de Matemáticas</p>\n",
    "<p  align=\"center\" style=\"margin-left: 10%; margin-right: 10%; font-family: 'Times New Roman'; font-size: 18px; line-height: 2;\">Licenciatura en Ciencias de la Computación</p>\n",
    "\n",
    "<p  align=\"center\" style=\"margin-left: 10%; margin-right: 10%; font-family: 'Times New Roman'; font-size: 18px; line-height: 2;\">11 de enero de 2024</p>"
   ]
  },
  {
   "cell_type": "markdown",
   "id": "c5ba7c30",
   "metadata": {},
   "source": [
    "<p  align=\"justify\" style=\"margin-left: 10%; margin-right: 10%; font-family: 'Times New Roman'; font-size: 16px; line-height: 2;\">Introducción</p>\n",
    "<p align=\"justify\" style=\"margin-left: 10%; margin-right: 10%; font-family: 'Times New Roman'; font-size: 16px; line-height: 2;\">   En este conjunto de ejercicios, exploramos conceptos fundamentales de la aritmética y representación numérica. Comenzamos desglosando la expansión decimal de 147,3 en términos de potencias de 10, ilustrando la construcción del número en relación con sus posiciones en la escala numérica. Luego, nos sumergimos en la representación del número 131 en base 3, evidenciando cómo un mismo valor puede expresarse de manera diferente en distintos sistemas numéricos. Continuamos con la conversión de los números 37 y 17 del sistema decimal al binario, descomponiéndolos en la suma de potencias de 2 y destacando las posiciones de los bits activos. Finalmente, demostramos el comportamiento de una variable y al asignarle el valor 2 y multiplicarla por 3, ilustrando la interacción entre variables y operaciones matemáticas junto con otro programa de lenguje de programación.</p>"
   ]
  },
  {
   "cell_type": "markdown",
   "id": "a3fd451f",
   "metadata": {},
   "source": [
    "<p  align=\"justify\" style=\"margin-left: 10%; margin-right: 10%; font-family: 'Times New Roman'; font-size: 16px; line-height: 2;\">Ejercicio 1. Muestre la expansión decimal de 147,3.</p>\n",
    "<p  align=\"justify\" style=\"margin-left: 10%; margin-right: 10%; font-family: 'Times New Roman'; font-size: 16px; line-height: 2;\">La expansión decimal de 147,3 se descompone en términos de potencias de 10. En este caso, se representa como la suma de cuatro términos: el primer término es 1 multiplicado por 10 elevado a la potencia de 2, el segundo término es 4 multiplicado por 10 elevado a la potencia de 1, el tercer término es 7 multiplicado por 10 elevado a la potencia de 0, y el cuarto término es 3 multiplicado por 10 elevado a la potencia de - 1. Esta representación desglosada ilustra cómo se construye el número 147,3 considerando cada dígito en relación con sus posiciones en la escala de potencias de 10.</p>\n",
    "<p  align=\"justify\" style=\"margin-left: 10%; margin-right: 10%; font-family: 'Times New Roman'; font-size: 16px; line-height: 2;\">147,3 = ( 1 * 10 ^ 2 ) + ( 4 * 10 ^ 1 ) + ( 7 * 10 ^ 0 ) + ( 3 * 10 ^ ( - 1 ) )</p>\n",
    "\n",
    "<p  align=\"justify\" style=\"margin-left: 10%; margin-right: 10%; font-family: 'Times New Roman'; font-size: 16px; line-height: 2;\">Ejercicio 2. Represente el numero 131 en base 3.</p>\n",
    "<p  align=\"justify\" style=\"margin-left: 10%; margin-right: 10%; font-family: 'Times New Roman'; font-size: 16px; line-height: 2;\">Para convertir el número decimal 131 a la base 3 y obtener la representación 11212, se sigue un proceso de descomposición en potencias de la base. Primero, se divide el número decimal por 3 sucesivamente, registrando los residuos en cada paso. En el caso de 131, los residuos son 2, 1, 2, 1, y 1, respectivamente. Luego, al leer estos residuos de abajo hacia arriba, se obtiene el número en base 3, que es 11212. Este método de descomposición proporciona una forma eficiente de expresar un número en otra base al identificar los coeficientes asociados a las potencias de la base en orden descendente.</p>\n",
    "<p  align=\"justify\" style=\"margin-left: 10%; margin-right: 10%; font-family: 'Times New Roman'; font-size: 16px; line-height: 2;\">131 / 3 = 43 ( residuo: 2 )</p>\n",
    "<p  align=\"justify\" style=\"margin-left: 10%; margin-right: 10%; font-family: 'Times New Roman'; font-size: 16px; line-height: 2;\">43 / 3 = 14 ( residuo: 1 )</p>\n",
    "<p  align=\"justify\" style=\"margin-left: 10%; margin-right: 10%; font-family: 'Times New Roman'; font-size: 16px; line-height: 2;\">14 / 3 = 4 ( residuo: 2 )</p>\n",
    "<p  align=\"justify\" style=\"margin-left: 10%; margin-right: 10%; font-family: 'Times New Roman'; font-size: 16px; line-height: 2;\">4 / 3 = 1 ( residuo: 1 )</p>\n",
    "<p  align=\"justify\" style=\"margin-left: 10%; margin-right: 10%; font-family: 'Times New Roman'; font-size: 16px; line-height: 2;\">1 / 3 = 0 ( residuo: 1 )</p>\n",
    "<p  align=\"justify\" style=\"margin-left: 10%; margin-right: 10%; font-family: 'Times New Roman'; font-size: 16px; line-height: 2;\">131 ( base10 ) en base 3 es 11212</p>\n",
    "\n",
    "<p  align=\"justify\" style=\"margin-left: 10%; margin-right: 10%; font-family: 'Times New Roman'; font-size: 16px; line-height: 2;\">Ejercicio 3. Convierta 37 ( base10 ) y 17 ( base10 ) a binario.</p>\n",
    "<p  align=\"justify\" style=\"margin-left: 10%; margin-right: 10%; font-family: 'Times New Roman'; font-size: 16px; line-height: 2;\">Para convertir el número 37 del sistema decimal al sistema binario, se descompone en la suma de potencias de 2. El proceso implica expresar 37 como la combinación de las potencias de 2, que resulta en ( 1 * 2 ^ 5 ) + ( 0 * 2 ^ 4 ) + ( 0 * 2 ^ 3 ) + ( 1 * 2 ^ 2 ) + ( 0 * 2 ^ 1 ) + ( 1 * 2 ^ 0 ). Simplificando cada término, se obtiene 32 + 4 + 1, equivalente a 37 en base 10. La representación binaria de este número es 100101, donde cada posición indica la presencia ( 1 ) o ausencia ( 0 ) de la potencia correspondiente de 2.</p>\n",
    "<p  align=\"justify\" style=\"margin-left: 10%; margin-right: 10%; font-family: 'Times New Roman'; font-size: 16px; line-height: 2;\">37 = 32 + 4 + 1</p>\n",
    "<p  align=\"justify\" style=\"margin-left: 10%; margin-right: 10%; font-family: 'Times New Roman'; font-size: 16px; line-height: 2;\">37 = ( 1 * 2 ^ 5 ) + ( 0 * 2 ^ 4 ) + ( 0 * 2 ^ 3 ) + ( 1 * 2 ^ 2 ) + ( 0 * 2 ^ 1 ) + ( 1 * 2 ^ 0 )</p>\n",
    "<p  align=\"justify\" style=\"margin-left: 10%; margin-right: 10%; font-family: 'Times New Roman'; font-size: 16px; line-height: 2;\">37 ( base10 ) = 100101 ( binario )</p>\n",
    "<p  align=\"justify\" style=\"margin-left: 10%; margin-right: 10%; font-family: 'Times New Roman'; font-size: 16px; line-height: 2;\">Para convertir el número 17 del sistema decimal al sistema binario, se descompone en la suma de potencias de 2. El proceso implica expresar 17 como la combinación de las potencias de 2, lo que resulta en ( 1 * 2 ^ 4 ) + ( 0 * 2 ^ 3 ) + ( 0 * 2 ^ 2 ) + ( 0 * 2 ^ 1 ) + ( 1 * 2 ^ 0 ). Al simplificar cada término, se obtiene 16 + 1, equivalente a 17 en base 10. La representación binaria de este número es 10001, donde cada posición indica la presencia ( 1 ) o ausencia ( 0 ) de la potencia correspondiente de 2. Este resultado muestra cómo el número 17 se expresa de manera binaria, resaltando las posiciones de los bits activos.</p>\n",
    "<p  align=\"justify\" style=\"margin-left: 10%; margin-right: 10%; font-family: 'Times New Roman'; font-size: 16px; line-height: 2;\">17 = 16 + 1</p>\n",
    "<p  align=\"justify\" style=\"margin-left: 10%; margin-right: 10%; font-family: 'Times New Roman'; font-size: 16px; line-height: 2;\">17 = ( 1 * 2 ^ 4 ) + ( 0 * 2 ^ 3 ) + ( 0 * 2 ^ 2 ) + ( 0 * 2 ^ 1 ) + ( 1 * 2 ^ 0 )</p>\n",
    "<p  align=\"justify\" style=\"margin-left: 10%; margin-right: 10%; font-family: 'Times New Roman'; font-size: 16px; line-height: 2;\">17 ( base10 ) = 10001 ( binario )</p>\n",
    "\n",
    "<p  align=\"justify\" style=\"margin-left: 10%; margin-right: 10%; font-family: 'Times New Roman'; font-size: 16px; line-height: 2;\">Ejercicio 4. Asigne el valor 2 a la variable y. Multiplica y por 3 para mostrar que se comporta como el valor 2.</p>\n",
    "<p  align=\"justify\" style=\"margin-left: 10%; margin-right: 10%; font-family: 'Times New Roman'; font-size: 16px; line-height: 2;\">En el primer enunciado, se establece que el valor de la variable y es igual a 2. En el segundo enunciado, se realiza una operación matemática multiplicando el valor actual de y por 3. Por lo tanto, el resultado de la expresión y * 3 sería 2 multiplicado por 3, que es igual a 6. En resumen, se asigna inicialmente el valor 2 a y, y luego se multiplica ese valor por 3, obteniendo como resultado final el número 6.</p>"
   ]
  },
  {
   "cell_type": "code",
   "execution_count": 1,
   "id": "37810fdd",
   "metadata": {},
   "outputs": [
    {
     "data": {
      "text/plain": [
       "6"
      ]
     },
     "execution_count": 1,
     "metadata": {},
     "output_type": "execute_result"
    }
   ],
   "source": [
    "y = 2\n",
    "y * 3"
   ]
  },
  {
   "cell_type": "markdown",
   "id": "24dc7734",
   "metadata": {},
   "source": [
    "<p  align=\"justify\" style=\"margin-left: 10%; margin-right: 10%; font-family: 'Times New Roman'; font-size: 16px; line-height: 2;\">Ejercicio 5. El enunciado matemático x = x + 1 no tiene solución para ningún valor de x. En programación, si inicializamos el valor de x en 1, entonces la afirmación tiene perfecto sentido. Significa suma x y 1, que es 2, luego asigna ese valor a la variable x. Tenga en cuenta que esta operación sobrescribe el valor anterior almacenado en x.</p>\n",
    "<p  align=\"justify\" style=\"margin-left: 10%; margin-right: 10%; font-family: 'Times New Roman'; font-size: 16px; line-height: 2;\">En el contexto matemático, el enunciado x = x + 1 plantea una paradoja, ya que no tiene solución para ningún valor de x. Esto se debe a que la igualdad implica que x debería ser igual a su propio valor incrementado en 1, lo cual es inherentemente contradictorio. Sin embargo, en el ámbito de la programación, esta afirmación cobra sentido práctico. Supongamos que inicializamos la variable x con el valor 1, mediante la instrucción x = 1. Posteriormente, al ejecutar la instrucción x = x + 1, lo que estamos haciendo es sumar 1 al valor actual de x (que es 1), obteniendo como resultado 2. Luego, asignamos este nuevo valor a la variable x, lo que significa que x ahora es igual a 2. Es crucial tener en cuenta que esta operación de asignación sobrescribe el valor anterior almacenado en x.</p>"
   ]
  },
  {
   "cell_type": "code",
   "execution_count": 3,
   "id": "cd0a9503",
   "metadata": {},
   "outputs": [
    {
     "data": {
      "text/plain": [
       "2"
      ]
     },
     "execution_count": 3,
     "metadata": {},
     "output_type": "execute_result"
    }
   ],
   "source": [
    "x = 1\n",
    "x = x + 1\n",
    "x"
   ]
  },
  {
   "cell_type": "markdown",
   "id": "64c26206",
   "metadata": {},
   "source": [
    "<p  align=\"justify\" style=\"margin-left: 10%; margin-right: 10%; font-family: 'Times New Roman'; font-size: 16px; line-height: 2;\">Conclusión</p>\n",
    "<p  align=\"justify\" style=\"margin-left: 10%; margin-right: 10%; font-family: 'Times New Roman'; font-size: 16px; line-height: 2;\">Este conjunto de ejercicios ha proporcionado una visión integral de conceptos fundamentales en aritmética y representación numérica. Desde la descomposición de la expansión decimal de 147,3 en potencias de 10 hasta la representación del número 131 en base 3, hemos explorado la versatilidad de expresar valores en distintos sistemas numéricos. La conversión de los números 37 y 17 al sistema binario nos ha permitido comprender cómo se representan estos valores en términos de potencias de 2. Finalmente, al asignar el valor 2 a la variable y y multiplicarla por 3, hemos visualizado la interacción entre variables y operaciones matemáticas. Este recorrido ha contribuido a fortalecer la comprensión de la naturaleza de los números y su manipulación en diversos contextos, sentando las bases para un entendimiento más profundo de conceptos matemáticos fundamentales.</p>"
   ]
  }
 ],
 "metadata": {
  "kernelspec": {
   "display_name": "Python 3 (ipykernel)",
   "language": "python",
   "name": "python3"
  },
  "language_info": {
   "codemirror_mode": {
    "name": "ipython",
    "version": 3
   },
   "file_extension": ".py",
   "mimetype": "text/x-python",
   "name": "python",
   "nbconvert_exporter": "python",
   "pygments_lexer": "ipython3",
   "version": "3.11.0"
  },
  "nbTranslate": {
   "displayLangs": [
    "*"
   ],
   "hotkey": "alt-t",
   "langInMainMenu": true,
   "sourceLang": "en",
   "targetLang": "fr",
   "useGoogleTranslate": true
  }
 },
 "nbformat": 4,
 "nbformat_minor": 5
}
