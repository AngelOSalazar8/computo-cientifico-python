{
 "cells": [
  {
   "cell_type": "markdown",
   "id": "da937177",
   "metadata": {},
   "source": [
    "<p  align=\"center\" style=\"margin-left: 10%; margin-right: 10%; font-family: 'Cascadia Mono'; font-size: 18px; line-height: 2; font-style: italic;\">\n",
    "</p>\n",
    "<p  align=\"center\" style=\"margin-left: 10%; margin-right: 10%; font-family: 'Cascadia Mono'; font-size: 18px; line-height: 2; font-style: italic;\">Universidad Autónoma de Yucatán - Facultad de Matemáticas</p>\n",
    "<p  align=\"center\" style=\"margin-left: 10%; margin-right: 10%; font-family: 'Cascadia Mono'; font-size: 18px; line-height: 2; font-style: italic;\">Licenciatura en Ciencias de la Computación</p>\n",
    "\n",
    "<p  align=\"center\" style=\"margin-left: 10%; margin-right: 10%; font-family: 'Cascadia Mono'; font-size: 18px; line-height: 2; font-style: italic;\">17 de enero de 2024</p>"
   ]
  },
  {
   "cell_type": "markdown",
   "id": "d89b86cf",
   "metadata": {},
   "source": [
    "<p  align=\"justify\" style=\"margin-left: 10%; margin-right: 10%; font-family: 'Cascadia Mono'; font-size: 16px; line-height: 2; font-style: italic;\"><span style=\"color: orange;\">Introducción.</span> En el contexto de la representación de punto flotante de los números reales en la computadora, se plantean diversas situaciones que involucran patrones de representación IEEE-754 de 32 o 64 bits. Se abordan cuestiones como la conversión entre representaciones binarias y decimales, la determinación de números positivos y negativos más grandes y más pequeños en forma normalizada de 32 bits, junto con la ejecución de operaciones acumuladas en una computadora. Además, se exploran conversiones de fracciones y números binarios a su forma decimal en base 10. Se plantea el análisis de aproximaciones a números irracionales como √2 y π, evaluando el error en dichas aproximaciones. El documento continúa con la revisión y corrección de código, incluyendo la implementación de funciones para convertir entre representaciones binarias y decimales, así como la manipulación de números en el estándar IEEE-754 de 64 bits.</p>"
   ]
  },
  {
   "cell_type": "markdown",
   "id": "2695e1b2",
   "metadata": {},
   "source": [
    "<p  align=\"justify\" style=\"margin-left: 10%; margin-right: 10%; font-family: 'Cascadia Mono'; font-size: 16px; line-height: 2; font-style: italic;\"><span style=\"color: orange;\">Ejercicio 1.</span> Supongamos que el patrón de representación de punto flotante IEEE-754 de 32 bits es 0 10000000 110 0000 0000 0000 0000 0000. Represente el número decimal correspondiente.</p>\n",
    "\n",
    "<p  align=\"justify\" style=\"margin-left: 10%; margin-right: 10%; font-family: 'Cascadia Mono'; font-size: 16px; line-height: 2;font-style: italic;\">En el patrón de representación de punto flotante IEEE-754 de 32 bits proporcionado en el ejercicio (0 10000000 110 0000 0000 0000 0000 0000), los primeros 32 bits se dividen en tres partes: el bit de signo (S), el exponente (E) y la fracción (F). Aquí, el bit de signo es 0, lo que indica que el número es positivo. El exponente es 10000000, que en binario es 128. Para calcular el valor decimal del exponente, se resta 127 de 128, lo que da como resultado 1.</p>\n",
    "\n",
    "<p  align=\"center\" style=\"color: orange; margin-left: 10%; margin-right: 10%; font-family: 'Cascadia Mono'; font-size: 16px; line-height: 2;font-style: italic;\">10000000 (base 2) = (1 * 2 ^ (7)) + (0 * 2 ^ (6)) + (0 * 2 ^ (5)) + ... + (0 * 2 ^ (0)) = 128 (base 10)</p>\n",
    "\n",
    "<p  align=\"justify\" style=\"margin-left: 10%; margin-right: 10%; font-family: 'Cascadia Mono'; font-size: 16px; line-height: 2;font-style: italic;\">Luego, la fracción F es 110 0000 0000 0000 0000 0000, que en binario es equivalente a 1.110 en notación fraccional. Para calcular el valor decimal de la fracción, se suma 1 (implícito) con las potencias negativas de 2 correspondientes a los bits establecidos en 1. En este caso, 1.110 se traduce a 1 + (1 * 2 ^ (-1)) + (1 * 2 ^ (-2)) + 0, lo que da como resultado 1.75. Finalmente, el número decimal correspondiente se calcula utilizando la fórmula de punto flotante IEEE-754: N = (-1) ^ S * 1.F * 2 ^ (E-127). En este caso, S es 0 (positivo), F es 1.75 y E-127 es 1. Sustituyendo estos valores, obtenemos N = (1) * 1.75 * 2 ^ 1 = 3.5. Por lo tanto, el número decimal representado por el patrón dado es <span style=\"color: orange;\">3.5</span>.</p>\n",
    "\n",
    "<p  align=\"center\" style=\"color: orange; margin-left: 10%; margin-right: 10%; font-family: 'Cascadia Mono'; font-size: 16px; line-height: 2;font-style: italic;\"> 1.1100...000 (base 2) = 1 + (1 * 2 ^ (-1)) + (1 * 2 ^ (-2)) + (0 * 2 ^ (-3)) + (0 * 2 ^ (-4)) + ... + (0 * 2 ^ (-23)) = 1.75 (base 10)</p>"
   ]
  },
  {
   "cell_type": "markdown",
   "id": "eac09e1d",
   "metadata": {},
   "source": [
    "<p  align=\"justify\" style=\"margin-left: 10%; margin-right: 10%; font-family: 'Cascadia Mono'; font-size: 16px; line-height: 2; font-style: italic;\"><span style=\"color: orange;\">Ejercicio 2.</span> Supongamos que el patrón de representación de punto flotante IEEE-754 de 32 bits es 1 01111110 100 0000 0000 0000 0000 0000. Represente el número decimal correspondiente.</p>\n",
    "\n",
    "<p  align=\"justify\" style=\"margin-left: 10%; margin-right: 10%; font-family: 'Cascadia Mono'; font-size: 16px; line-height: 2;font-style: italic;\">En el patrón de representación de punto flotante IEEE-754 de 32 bits proporcionado en el ejercicio (1 01111110 100 0000 0000 0000 0000 0000), los primeros 32 bits también se dividen en tres partes: el bit de signo (S), el exponente (E) y la fracción (F). Aquí, el bit de signo es 1, lo que indica que el número es negativo. El exponente es 01111110, que en binario es 126. Para calcular el valor decimal del exponente, se resta 127 de 126, lo que da como resultado -1.<p>\n",
    "\n",
    "<p  align=\"center\" style=\" color: orange; margin-left: 10%; margin-right: 10%; font-family: 'Cascadia Mono'; font-size: 16px; line-height: 2;font-style: italic;\">01111110 (base 2) = (0 * 2 ^ (7)) + (1 * 2 ^ (6)) + (1 * 2 ^ (5)) + (1 * 2 ^ (4)) + (1 * 2 ^ (3)) + (1 * 2 ^ (2)) + (1 * 2 ^ (1)) + (0 * 2 ^ (0)) = 126 (base 10)</p>\n",
    "\n",
    "<p  align=\"justify\" style=\"margin-left: 10%; margin-right: 10%; font-family: 'Cascadia Mono'; font-size: 16px; line-height: 2;font-style: italic;\">Luego, la fracción F es 100 0000 0000 0000 0000 0000, que en binario es equivalente a 1.1 en notación fraccional. Para calcular el valor decimal de la fracción, se suma 1 (implícito) con las potencias negativas de 2 correspondientes a los bits establecidos en 1. En este caso, 1.1 se traduce a 1 + (1 * 2 ^ (-1)) + 0, lo que da como resultado 1.5. Finalmente, el número decimal correspondiente se calcula utilizando la fórmula de punto flotante IEEE-754: N = (-1) ^ S * 1.F * 2 ^ (E-127). En este caso, S es 1 (negativo), F es 1.5 y E-127 es -1. Sustituyendo estos valores, obtenemos N = (-1) * 1.5 * 2 ^ (-1) = -0.75. Por lo tanto, el número decimal representado por el patrón dado es <span style=\"color: orange;\">-0.75</span>.</p>\n",
    "\n",
    "<p  align=\"center\" style=\"color: orange; margin-left: 10%; margin-right: 10%; font-family: 'Cascadia Mono'; font-size: 16px; line-height: 2;font-style: italic;\"> 1.1000...000 (base 2) = 1 + (1 * 2 ^ (-1)) + (0 * 2 ^ (-2)) + (0 * 2 ^ (-3)) + (0 * 2 ^ (-4)) + ... + (0 * 2 ^ (-23)) = 1.50 (base 10)</p>\n"
   ]
  },
  {
   "cell_type": "markdown",
   "id": "e5f79980",
   "metadata": {},
   "source": [
    "<p  align=\"justify\" style=\"margin-left: 10%; margin-right: 10%; font-family: 'Cascadia Mono'; font-size: 16px; line-height: 2; font-style: italic;\"><span style=\"color: orange;\">Ejercicio 3.</span> Supongamos que el patrón de representación de punto flotante IEEE-754 de 32 bits es 1 01111110 000 0000 0000 0000 0000 0001. Represente el número decimal correspondiente.</p>\n",
    "\n",
    "<p  align=\"justify\" style=\"margin-left: 10%; margin-right: 10%; font-family: 'Cascadia Mono'; font-size: 16px; line-height: 2;font-style: italic;\">En el patrón de representación de punto flotante IEEE-754 de 32 bits proporcionado por el ejercicio (1 01111110 000 0000 0000 0000 0000 0001), los primeros 32 bits se dividen en tres partes: el bit de signo (S), el exponente (E) y la fracción (F). Aquí, el bit de signo es 1, lo que indica que el número es negativo. El exponente es 01111110, que en binario es 126. Para calcular el valor decimal del exponente, se resta 127 de 126, lo que da como resultado -1.</p>\n",
    "\n",
    "<p  align=\"center\" style=\" color: orange; margin-left: 10%; margin-right: 10%; font-family: 'Cascadia Mono'; font-size: 16px; line-height: 2;font-style: italic;\">01111110 (base 2) = (0 * 2 ^ (7)) + (1 * 2 ^ (6)) + (1 * 2 ^ (5)) + (1 * 2 ^ (4)) + (1 * 2 ^ (3)) + (1 * 2 ^ (2)) + (1 * 2 ^ (1)) + (0 * 2 ^ (0)) = 126 (base 10)</p>\n",
    "\n",
    "<p  align=\"justify\" style=\"margin-left: 10%; margin-right: 10%; font-family: 'Cascadia Mono'; font-size: 16px; line-height: 2;font-style: italic;\">Luego, la fracción F es 000 0000 0000 0000 0000 0001, que en binario es equivalente a 1. En este caso, la fracción es interpretada como 1.000...1, donde los puntos suspensivos representan la posibilidad de que haya más ceros después del último 1 en la representación binaria. En términos decimales, esto equivale a 1 + 2^(-23) = 1.000000119. Finalmente, el número decimal correspondiente se calcula utilizando la fórmula de punto flotante IEEE-754: N = (-1)^S * 1.F * 2^(E-127). En este caso, S es 1 (negativo), F es 1.000000119 y E-127 es -1. Sustituyendo estos valores, obtenemos N = (-1) * 1.000000119 * 2^(-1) = -0.5. Por lo tanto, el número decimal representado por el patrón dado es <span style=\"color: orange;\">-0.500000059</span>.</p>\n",
    "\n",
    "<p  align=\"center\" style=\"color: orange; margin-left: 10%; margin-right: 10%; font-family: 'Cascadia Mono'; font-size: 16px; line-height: 2;font-style: italic;\"> 1.0000...001 (base 2) = 1 + (0 * 2 ^ (-1)) + (0 * 2 ^ (-2)) + (0 * 2 ^ (-3)) + (0 * 2 ^ (-4)) + ... + (1 * 2 ^ (-23)) = 1.000000119 (base 10)</p>"
   ]
  },
  {
   "cell_type": "markdown",
   "id": "c1dca4e2",
   "metadata": {},
   "source": [
    "<p align=\"justify\" style=\"margin-left: 10%; margin-right: 10%; font-family: 'Cascadia Mono'; font-size: 16px; line-height: 2; font-style: italic;\">\n",
    "    <span style=\"color: orange;\">Ejercicio 4.</span> Calcule los números positivos más grandes y más pequeños que se pueden representar en la forma normalizada de 32 bits.\n",
    "</p>\n",
    "\n",
    "<p align=\"justify\" style=\"margin-left: 10%; margin-right: 10%; font-family: 'Cascadia Mono'; font-size: 16px; line-height: 2; font-style: italic;\">\n",
    "    En la representación normalizada de 32 bits para números de punto flotante, se utilizan 1 bit para el signo, 8 bits para el exponente y 23 bits para la mantisa. Para el número positivo más pequeño, el cual es 2 ^ (-126), el bit de signo es 0, el exponente se establece en 00000001 (equivalente a 1 en decimal) y la mantisa se completa con 23 bits de ceros. La fórmula resultante, <span style=\"color: orange;\">2 ^ (1 - 127) * 1.0</span>, representa el valor mínimo positivo que puede ser representado en esta forma normalizada.\n",
    "</p>\n",
    "\n",
    "<p align=\"justify\" style=\"margin-left: 10%; margin-right: 10%; font-family: 'Cascadia Mono'; font-size: 16px; line-height: 2; font-style: italic;\">\n",
    "    En contraste, el número positivo más grande que puede ser representado en 32 bits se obtiene cuando el bit de signo es 0, el exponente se establece en 11111110 (equivalente a 254 en decimal) y la mantisa se llena con 23 bits de unos. La fórmula asociada, 2 ^ (254 - 127) * 1.11111111111111111111111, representa el valor máximo positivo que puede ser expresado en la forma normalizada de 32 bits. Este número resulta ser <span style=\"color: orange;\">2 ^ (127) * (2 - 2 ^ (-23))</span>, lo que refleja el límite superior de representación en la precisión de 32 bits para números de punto flotante.\n",
    "</p>"
   ]
  },
  {
   "cell_type": "markdown",
   "id": "0e72709d",
   "metadata": {},
   "source": [
    "<p align=\"justify\" style=\"margin-left: 10%; margin-right: 10%; font-family: 'Cascadia Mono'; font-size: 16px; line-height: 2; font-style: italic;\">\n",
    "    <span style=\"color: orange;\">Ejercicio 5.</span> Calcule los números negativos más grandes y más pequeños que se pueden representar en la forma normalizada de 32 bits.\n",
    "</p>\n",
    "\n",
    "<p align=\"justify\" style=\"margin-left: 10%; margin-right: 10%; font-family: 'Cascadia Mono'; font-size: 16px; line-height: 2; font-style: italic;\">\n",
    "    En la representación normalizada de 32 bits para números de punto flotante, se asigna 1 bit para el signo, 8 bits para el exponente y 23 bits para la mantisa. Para obtener el número negativo más pequeño representable, el bit de signo se establece en 1, el exponente se fija en 00000001 (equivalente a 1 en decimal), y la mantisa se llena con 23 bits de ceros. La fórmula correspondiente sería <span style=\"color: orange;\">- 2 ^ (-126)</span>, representando el valor mínimo negativo que puede ser expresado en esta forma normalizada.\n",
    "</p>\n",
    "\n",
    "<p align=\"justify\" style=\"margin-left: 10%; margin-right: 10%; font-family: 'Cascadia Mono'; font-size: 16px; line-height: 2; font-style: italic;\">\n",
    "    En cambio, para el número negativo más grande representable en 32 bits, el bit de signo es 1, el exponente se configura en 11111110 (equivalente a 254 en decimal), y la mantisa se completa con 23 bits de unos. La fórmula asociada, - 2 ^ (254 - 127) * 1.11111111111111111111111, representa el valor máximo negativo expresado en la forma normalizada de 32 bits. Este número resulta ser <span style=\"color: orange;\">- 2 ^ (127) * (2 - 2 ^ (-23))</span>, representando el límite inferior de la representación en la precisión de 32 bits para números de punto flotante.\n",
    "</p>"
   ]
  },
  {
   "cell_type": "markdown",
   "id": "2951b36b",
   "metadata": {},
   "source": [
    "<p align=\"justify\" style=\"margin-left: 10%; margin-right: 10%; font-family: 'Cascadia Mono'; font-size: 16px; line-height: 2; font-style: italic;\">\n",
    "    <span style=\"color: orange;\">Ejercicio 6.</span> Suponga que el patrón de representación de punto flotante IEEE-754 de 64 bits es 1 10000000010 10000000000000000000000000000000000000000000000000000000000. ¿Cuál es el número en base 10?\n",
    "</p>\n",
    "\n",
    "<p align=\"justify\" style=\"margin-left: 10%; margin-right: 10%; font-family: 'Cascadia Mono'; font-size: 16px; line-height: 2; font-style: italic;\">\n",
    "    En el patrón de representación de punto flotante IEEE-754 de 64 bits proporcionado por el ejercicio (1 10000000010 10000000000000000000000000000000000000000000000000000000000), los primeros 64 bits se dividen en tres partes: el bit de signo (S), el exponente (E), y la fracción (F). Aquí, el bit de signo es 1, indicando que el número es negativo. El exponente es 10000000010 en binario, que es 1026 en decimal. Para calcular el valor decimal del exponente, se resta 1023 (el sesgo de IEEE-754 para números de 64 bits) de 1026, lo que da como resultado 3.\n",
    "</p>\n",
    "\n",
    "<p align=\"center\" style=\"color: orange; margin-left: 10%; margin-right: 10%; font-family: 'Cascadia Mono'; font-size: 16px; line-height: 2; font-style: italic;\">\n",
    "    10000000010 (base 2) = (1 * 2 ^ 10) + (0 * 2 ^ 9) + (0 * 2 ^ 8) + ... + (0 * 2 ^ 0) = 1026 (base 10)\n",
    "</p>\n",
    "\n",
    "<p align=\"justify\" style=\"margin-left: 10%; margin-right: 10%; font-family: 'Cascadia Mono'; font-size: 16px; line-height: 2; font-style: italic;\">\n",
    "    Luego, la fracción F es 10000000000000000000000000000000000000000000000000000000000 en binario, que es equivalente a 1 seguido de 51 ceros. En términos decimales, esto equivale a 1 + 2^(-51). Finalmente, el número decimal correspondiente se calcula utilizando la fórmula de punto flotante IEEE-754: N = (-1)^S * 1.F * 2^(E-1023). En este caso, S es 1 (negativo), F es 1 + 2^(-51), y E-1023 es 3. Sustituyendo estos valores, obtenemos N = (-1) * (1 + 2^(-51)) * 2^3 = -8 + 2^(-48). Por lo tanto, el número decimal representado por el patrón dado es <span style=\"color: orange;\">-8.000000000000001</span>.\n",
    "</p>\n",
    "\n",
    "<p align=\"center\" style=\"color: orange; margin-left: 10%; margin-right: 10%; font-family: 'Cascadia Mono'; font-size: 16px; line-height: 2; font-style: italic;\">\n",
    "    1.0000000000000000000000000000000000000000000000000001 (base 2) = 1 + 2^(-51) = 1.000000000000001 (base 10)\n",
    "</p>"
   ]
  },
  {
   "cell_type": "markdown",
   "id": "edcded60",
   "metadata": {},
   "source": [
    "<p align=\"justify\" style=\"margin-left: 10%; margin-right: 10%; font-family: 'Cascadia Mono'; font-size: 16px; line-height: 2; font-style: italic;\">\n",
    "    <span style=\"color: orange;\">Ejercicio 7.</span> Represente el número 15.0 en el patrón de representación de punto flotante IEEE-754 de 64 bits.\n",
    "</p>\n",
    "\n",
    "<p align=\"justify\" style=\"margin-left: 10%; margin-right: 10%; font-family: 'Cascadia Mono'; font-size: 16px; line-height: 2; font-style: italic;\">\n",
    "    Para representar el número 15.0 en el formato de punto flotante IEEE-754 de 64 bits, primero debemos convertir 15.0 a su forma binaria normalizada. La representación binaria normalizada de 15.0 es 1111.0.\n",
    "</p>\n",
    "\n",
    "<p align=\"justify\" style=\"margin-left: 10%; margin-right: 10%; font-family: 'Cascadia Mono'; font-size: 16px; line-height: 2; font-style: italic;\">\n",
    "    Los bits se dividen en tres partes: el bit de signo (S), el exponente (E), y la fracción (F). El bit de signo será 0, ya que 15.0 es un número positivo. El siguiente paso es representar la fracción en formato binario normalizado, que en este caso es 1.1110. Luego, determinamos el exponente necesario para normalizar la fracción, que es 3 (el punto decimal se mueve tres lugares a la derecha para obtener 1.1110).\n",
    "</p>\n",
    "\n",
    "<p align=\"center\" style=\"color: orange; margin-left: 10%; margin-right: 10%; font-family: 'Cascadia Mono'; font-size: 16px; line-height: 2; font-style: italic;\">\n",
    "    1.1110 (base 2) = (1 * 2 ^ 0) + (1 * 2 ^ (-1)) + (1 * 2 ^ (-2)) + (1 * 2 ^ (-3)) = 1.875 (base 10)\n",
    "</p>\n",
    "\n",
    "<p align=\"justify\" style=\"margin-left: 10%; margin-right: 10%; font-family: 'Cascadia Mono'; font-size: 16px; line-height: 2; font-style: italic;\">\n",
    "    Ahora, el exponente se representa como el sesgo de IEEE-754 más el valor calculado. El sesgo para números de 64 bits es 1023. Por lo tanto, el exponente (E) será 1023 + 3 = 1026 en binario.\n",
    "</p>\n",
    "\n",
    "<p align=\"center\" style=\"color: orange; margin-left: 10%; margin-right: 10%; font-family: 'Cascadia Mono'; font-size: 16px; line-height: 2; font-style: italic;\">\n",
    "    1026 (base 10) = 10000000010 (base 2)\n",
    "</p>\n",
    "\n",
    "<p align=\"justify\" style=\"margin-left: 10%; margin-right: 10%; font-family: 'Cascadia Mono'; font-size: 16px; line-height: 2; font-style: italic;\">\n",
    "    Finalmente, juntamos todas las partes para obtener el patrón de representación de punto flotante IEEE-754 de 64 bits: <span style=\"color: orange;\">0 10000000010 1110000000000000000000000000000000000000000000000000000000000000</span>.\n",
    "</p>"
   ]
  },
  {
   "cell_type": "markdown",
   "id": "b910e3ca",
   "metadata": {},
   "source": [
    "<p align=\"justify\" style=\"margin-left: 10%; margin-right: 10%; font-family: 'Cascadia Mono'; font-size: 16px; line-height: 2; font-style: italic;\">\n",
    "    <span style=\"color: orange;\">Ejercicio 8.a.</span> Use una computaadora para realizar las siguientes operaciones de forma acumulada; la intención es que la computadora vaya haciendo las substracciones de forma repetida.\n",
    "</p>\n",
    "\n",
    "<div style=\"text-align: center; font-family: 'Cascadia Mono'; font-size: 16px; line-height: 2; font-style: italic;\">$10 000 - \\sum_{i=1}^{100 000}0.1$</div>"
   ]
  },
  {
   "cell_type": "code",
   "execution_count": 3,
   "id": "4ade45b0",
   "metadata": {},
   "outputs": [
    {
     "name": "stdout",
     "output_type": "stream",
     "text": [
      "-1.8848368199542165e-08\n"
     ]
    }
   ],
   "source": [
    "x = 0\n",
    "for i in range(100000):\n",
    "    x = x + 0.1\n",
    "x = 10000 - x\n",
    "print(x)"
   ]
  },
  {
   "cell_type": "markdown",
   "id": "f5e2e352",
   "metadata": {},
   "source": [
    "<p align=\"justify\" style=\"margin-left: 10%; margin-right: 10%; font-family: 'Cascadia Mono'; font-size: 16px; line-height: 2; font-style: italic;\">\n",
    "    <span style=\"color: orange;\">Ejercicio 8.b.</span> Use una computaadora para realizar las siguientes operaciones de forma acumulada; la intención es que la computadora vaya haciendo las substracciones de forma repetida.\n",
    "</p>\n",
    "\n",
    "<div style=\"text-align: center; font-family: 'Cascadia Mono'; font-size: 16px; line-height: 2; font-style: italic;\">$10 000-\\sum_{i=1}^{80 000}0.125$</div>"
   ]
  },
  {
   "cell_type": "code",
   "execution_count": 4,
   "id": "f37930a9",
   "metadata": {},
   "outputs": [
    {
     "name": "stdout",
     "output_type": "stream",
     "text": [
      "0.0\n"
     ]
    }
   ],
   "source": [
    "x = 0\n",
    "for i in range(80000):\n",
    "    x = x + 0.125\n",
    "x = 10000 - x\n",
    "print(x)"
   ]
  },
  {
   "cell_type": "markdown",
   "id": "99888ba2",
   "metadata": {},
   "source": [
    "<p align=\"justify\" style=\"margin-left: 10%; margin-right: 10%; font-family: 'Cascadia Mono'; font-size: 16px; line-height: 2; font-style: italic;\"><span style=\"color: orange;\">Ejercicio 9a.</span> Convierta la fracción binaria 0.11011 a su forma decimal (base 10).</p>\n",
    "\n",
    "<p align=\"justify\" style=\"margin-left: 10%; margin-right: 10%; font-family: 'Cascadia Mono'; font-size: 16px; line-height: 2; font-style: italic;\">El número binario 0.11011 en base 2 se puede convertir a decimal sumando las contribuciones de cada bit ponderado por la potencia correspondiente de 2. En este caso, el primer bit a la derecha es 1 * 2 ^ (-1), el segundo es 1 * 2 ^ (-2), el tercero es 0 * 2 ^ (-3), el cuarto es 1 * 2 ^ (-4), y el quinto es 1 * 2 ^ (-5). Sumando estas contribuciones, obtenemos <span style=\"color: orange;\">0.84375</span> en base 10 como el resultado de la conversión.</p>\n",
    "\n",
    "<p align=\"center\" style=\"color: orange; margin-left: 10%; margin-right: 10%; font-family: 'Cascadia Mono'; font-size: 16px; line-height: 2; font-style: italic;\">0.11011 (base 2) = (1 * 2 ^ (-1)) + (1 * 2 ^ (-2)) + (0 * 2 ^ (-3)) + (1 * 2 ^ (-4)) + (1 * 2 ^ (-5)) = 0.84375 (base 10)</p>"
   ]
  },
  {
   "cell_type": "markdown",
   "id": "a0e88aa0",
   "metadata": {},
   "source": [
    "<p align=\"justify\" style=\"margin-left: 10%; margin-right: 10%; font-family: 'Cascadia Mono'; font-size: 16px; line-height: 2; font-style: italic;\"><span style=\"color: orange;\">Ejercicio 9b.</span> Convierta la fracción binaria 0.11011 a su forma decimal (base 10).</p>\n",
    "\n",
    "<p align=\"justify\" style=\"margin-left: 10%; margin-right: 10%; font-family: 'Cascadia Mono'; font-size: 16px; line-height: 2; font-style: italic;\">La expresión binaria 0.10101 en base 2 se puede convertir a decimal mediante la suma de las contribuciones de cada bit multiplicado por la potencia correspondiente de 2. En este caso, el primer bit a la derecha es 1 * 2 ^ (-1), el segundo es 0 * 2 ^ (-2), el tercer bit es 1 * 2 ^ (-3), el cuarto es 0 * 2 ^ (-4), y el quinto es 1 * 2 ^ (-5). Al sumar estas contribuciones, se obtiene <span style=\"color: orange;\">0.65625</span> en base 10 como el resultado de la conversión.</p>\n",
    "\n",
    "<p align=\"center\" style=\"color: orange; margin-left: 10%; margin-right: 10%; font-family: 'Cascadia Mono'; font-size: 16px; line-height: 2; font-style: italic;\">0.10101 = (1 * 2 ^ (-1)) + (0 * 2 ^ (-2)) + (1 * 2 ^ (-3)) + (0 * 2 ^ (-4)) + (1 * 2 ^ (-5)) = 0.65625 (base 10)</p>"
   ]
  },
  {
   "cell_type": "markdown",
   "id": "5fe588b4",
   "metadata": {},
   "source": [
    "<p align=\"justify\" style=\"margin-left: 10%; margin-right: 10%; font-family: 'Cascadia Mono'; font-size: 16px; line-height: 2; font-style: italic;\"><span style=\"color: orange;\">Ejercicio 10a.</span> Convierta los siguientes numeros 1.0110101 binarios en su forma decimal (base 10).</p>\n",
    "\n",
    "<p align=\"justify\" style=\"margin-left: 10%; margin-right: 10%; font-family: 'Cascadia Mono'; font-size: 16px; line-height: 2; font-style: italic;\">El número binario 1.0110101 se representa en notación decimal como 1.4140625. Este valor se obtiene al multiplicar cada dígito binario por la potencia correspondiente de 2 y sumar los resultados. En este caso, el primer bit (1) se multiplica por 2^0, el segundo bit (0) por 2^-1, el tercer bit (1) por 2^-2, el cuarto bit (1) por 2^-3, el quinto bit (0) por 2^-4, el sexto bit (1) por 2^-5, el séptimo bit (0) por 2^-6, y el octavo bit (1) por 2^-7. La suma de estos productos da como resultado <span style=\"color: orange;\">1.4140625</span> en notación decimal.</p>\n",
    "\n",
    "<p align=\"center\" style=\"color: orange; margin-left: 10%; margin-right: 10%; font-family: 'Cascadia Mono'; font-size: 16px; line-height: 2; font-style: italic;\">1.0110101 = (1 * 2 ^ (0)) + (0 * 2 ^ (-1)) + (1 * 2 ^ (-2)) + (1 * 2 ^ (-3)) + (0 * 2 ^ (-4)) + (1 * 2 ^ (-5)) + (0 * 2 ^ (-6)) + (1 * 2 ^ (-7)) = 1.4140625</p>"
   ]
  },
  {
   "cell_type": "markdown",
   "id": "d152a7b9",
   "metadata": {},
   "source": [
    "<p align=\"justify\" style=\"margin-left: 10%; margin-right: 10%; font-family: 'Cascadia Mono'; font-size: 16px; line-height: 2; font-style: italic;\"><span style=\"color: orange;\">Ejercicio 10b.</span> Convierta los siguientes numeros binarios 11.0010010001 en su forma decimal (base 10).</p>\n",
    "\n",
    "<p align=\"justify\" style=\"margin-left: 10%; margin-right: 10%; font-family: 'Cascadia Mono'; font-size: 16px; line-height: 2; font-style: italic;\">El número binario 11.0010010001 se representa en notación decimal como 3.1416015625. La conversión implica multiplicar cada dígito binario por la potencia correspondiente de 2 y luego sumar esos productos. En este caso, el primer bit (1) se multiplica por 2^1, el segundo bit (1) por 2^0, el tercer bit (0) por 2^-1, el cuarto bit (0) por 2^-2, el quinto bit (1) por 2^-3, y así sucesivamente. La suma de estos productos da como resultado <span style=\"color: orange;\">3.1416015625</span>, que es la representación decimal del número binario dado. Este proceso demuestra cómo se realiza la conversión entre sistemas numéricos binario y decimal.</p>\n",
    "\n",
    "<p align=\"center\" style=\"color: orange; margin-left: 10%; margin-right: 10%; font-family: 'Cascadia Mono'; font-size: 16px; line-height: 2; font-style: italic;\">11.0010010001 = (1 * 2 ^ (1)) + (1 * 2 ^ (0)) + (0 * 2 ^ (-1)) + (0 * 2 ^ (-2)) + (1 * 2 ^ (-3)) + (0 * 2 ^ (-4)) + (0 * 2 ^ (-5)) + (1 * 2 ^ (-6)) + (0 * 2 ^ (-7)) + (0 * 2 ^ (-8)) + (0 * 2 ^ (-9)) + (1 * 2 ^ (-10)) = 3.1416015625</p>"
   ]
  },
  {
   "cell_type": "markdown",
   "id": "fd8414c6",
   "metadata": {},
   "source": [
    "<p align=\"justify\" style=\"margin-left: 10%; margin-right: 10%; font-family: 'Cascadia Mono'; font-size: 16px; line-height: 2; font-style: italic;\"><span style=\"color: orange;\">Ejercicio 11a. sqrt(2) - 1.0110101 (Use que sqrt(2) = 1.41421356237309).</p>\n",
    "\n"
   ]
  },
  {
   "cell_type": "markdown",
   "id": "47915bec",
   "metadata": {},
   "source": [
    "> a) $\\sqrt{2} - 1.0110101$ ( Use que $\\sqrt{2} = 1.41421356237309 $)"
   ]
  },
  {
   "cell_type": "code",
   "execution_count": 5,
   "id": "2259a409",
   "metadata": {},
   "outputs": [
    {
     "data": {
      "text/plain": [
       "0.00015106237309003845"
      ]
     },
     "execution_count": 5,
     "metadata": {},
     "output_type": "execute_result"
    }
   ],
   "source": [
    "Error = abs(1.41421356237309 - 1.4140625)\n",
    "Error"
   ]
  },
  {
   "cell_type": "markdown",
   "id": "4af291b8",
   "metadata": {},
   "source": [
    "<p align=\"justify\" style=\"margin-left: 10%; margin-right: 10%; font-family: 'Cascadia Mono'; font-size: 16px; line-height: 2; font-style: italic;\"><span style=\"color: orange;\">Ejercicio 11b. pi - 11.0010010001 (Use que pi = 3.14159265358979).</p>\n",
    "\n"
   ]
  },
  {
   "cell_type": "markdown",
   "id": "5e360d2e",
   "metadata": {},
   "source": [
    "> b) $\\pi- 11.0010010001$ (Use que $\\pi=3.14159265358979$)"
   ]
  },
  {
   "cell_type": "code",
   "execution_count": 6,
   "id": "47c551c7",
   "metadata": {},
   "outputs": [
    {
     "data": {
      "text/plain": [
       "8.908910209992627e-06"
      ]
     },
     "execution_count": 6,
     "metadata": {},
     "output_type": "execute_result"
    }
   ],
   "source": [
    "Error = abs(3.14159265358979 - 3.1416015625)\n",
    "Error"
   ]
  },
  {
   "cell_type": "markdown",
   "id": "38c0eff5",
   "metadata": {},
   "source": [
    "<p align=\"justify\" style=\"margin-left: 10%; margin-right: 10%; font-family: 'Cascadia Mono'; font-size: 16px; line-height: 2; font-style: italic;\"><span style=\"color: orange;\">Ejercicio 12. Analice las siguientes lineas de código. Encuentre los errores y después de corregir ejecute.</p>\n",
    "\n",
    "<p align=\"justify\" style=\"margin-left: 10%; margin-right: 10%; font-family: 'Cascadia Mono'; font-size: 16px; line-height: 2; font-style: italic;\">La variable binary_representation se utilizó antes de ser definida. He cambiado el orden de las líneas para solucionar este problema. En lugar de '>c', que se usa para empaquetar un solo carácter, he utilizado '>b' para empaquetar un solo byte con formato de entero con signo. Ajusté el formato en la comprensión de la lista dentro de join para asegurarme de que cada byte tenga una longitud de 8 bits (usando :08b).</p>"
   ]
  },
  {
   "cell_type": "code",
   "execution_count": 7,
   "id": "fca67b6e",
   "metadata": {},
   "outputs": [
    {
     "name": "stdout",
     "output_type": "stream",
     "text": [
      " 15 is 0 100000000010 1110000000000000000000000000000000000000000000000000000000\n"
     ]
    }
   ],
   "source": [
    "import struct\n",
    "number=15\n",
    "binary_representation = struct.pack('>d', number)\n",
    "binary_representation = \"\".join(f\"{b:09b}\" for b in binary_representation)\n",
    "binary_representation =binary_representation[1]+ ' '+ binary_representation[2:14]+ ' '+binary_representation[14:]\n",
    "print (f\" {number} is {binary_representation}\")   \n"
   ]
  },
  {
   "cell_type": "code",
   "execution_count": 8,
   "id": "a7a863a4",
   "metadata": {},
   "outputs": [
    {
     "name": "stdout",
     "output_type": "stream",
     "text": [
      " 20 is 0 100000000011 0100000000000000000000000000000000000000000000000000000000\n"
     ]
    }
   ],
   "source": [
    "\n",
    "number=20\n",
    "binary_representation = struct.pack('>d', number)\n",
    "binary_representation = \"\".join(f\"{b:09b}\" for b in binary_representation)\n",
    "binary_representation =binary_representation[1]+ ' '+ binary_representation[2:14]+ ' '+binary_representation[14:]\n",
    "print (f\" {number} is {binary_representation}\")   \n"
   ]
  },
  {
   "cell_type": "markdown",
   "id": "4c9a12e4",
   "metadata": {},
   "source": [
    "<p align=\"justify\" style=\"margin-left: 10%; margin-right: 10%; font-family: 'Cascadia Mono'; font-size: 16px; line-height: 2; font-style: italic;\"><span style=\"color: orange;\">Ejercicio 13. Escribe una función my_bin_2_dec(b) donde b es un número binario representado por una lista de unos y ceros. El último elemento de b representa el coeficiente de 2^0, el penúltimo elemento de b representa el coeficiente de 2^1\n",
    ", etcétera. La variable de salida, d , debe ser la representación decimal de b.</p>\n",
    "\n",
    "<p align=\"justify\" style=\"margin-left: 10%; margin-right: 10%; font-family: 'Cascadia Mono'; font-size: 16px; line-height: 2; font-style: italic;\">La función proporcionada, denominada my_bin_2_dec, está diseñada para convertir un número binario representado como una cadena de bits en su equivalente decimal. El algoritmo recorre la cadena de bits en sentido inverso utilizando un bucle for junto con la función enumerate para obtener tanto el índice como el valor de cada bit en la iteración. Luego, verifica si el bit actual es igual a 1; en caso afirmativo, suma a la variable decimal_value el resultado de elevar 2 a la potencia correspondiente, utilizando el índice como exponente. Esta operación se repite para cada bit en la cadena, acumulando así el valor decimal final. Es importante señalar que el código asume que la entrada binaria se proporciona como una cadena de bits. Además, hay un detalle a tener en cuenta: la condición if bit == 1 podría no funcionar como se espera, ya que el bit es un carácter en la cadena, y debería compararse con el carácter '1' en lugar del entero 1. Por lo tanto, sería más apropiado cambiar la condición a if bit == '1'.</p>"
   ]
  },
  {
   "cell_type": "code",
   "execution_count": 9,
   "id": "9db74afb",
   "metadata": {},
   "outputs": [
    {
     "name": "stdout",
     "output_type": "stream",
     "text": [
      "La representación decimal de [1, 1, 1] es 7\n"
     ]
    }
   ],
   "source": [
    "def my_bin_2_dec(b):\n",
    "    d = 0\n",
    "    for i, bit in enumerate(reversed(b)):\n",
    "        if bit == 1:\n",
    "            d += 2 ** i\n",
    "    return d\n",
    "binary_number = [1, 1, 1]\n",
    "decimal_result = my_bin_2_dec(binary_number)\n",
    "print(f\"La representación decimal de {binary_number} es {decimal_result}\")"
   ]
  },
  {
   "cell_type": "code",
   "execution_count": 10,
   "id": "7de80676",
   "metadata": {},
   "outputs": [
    {
     "name": "stdout",
     "output_type": "stream",
     "text": [
      "La representación decimal de [1, 0, 1, 0, 1, 0, 1] es 85\n"
     ]
    }
   ],
   "source": [
    "\n",
    "binary_number = [1, 0, 1, 0, 1, 0, 1] \n",
    "decimal_result = my_bin_2_dec(binary_number)\n",
    "print(f\"La representación decimal de {binary_number} es {decimal_result}\")"
   ]
  },
  {
   "cell_type": "code",
   "execution_count": 19,
   "id": "4ae7b23d",
   "metadata": {},
   "outputs": [
    {
     "name": "stdout",
     "output_type": "stream",
     "text": [
      "La representación decimal de [1, 1, 1, 1, 1, 1, 1, 1, 1, 1, 1, 1, 1, 1, 1, 1, 1, 1, 1, 1, 1, 1, 1, 1, 1] es 33554431\n"
     ]
    }
   ],
   "source": [
    "\n",
    "binary_number = [1]*25 \n",
    "decimal_result = my_bin_2_dec(binary_number)\n",
    "print(f\"La representación decimal de {binary_number} es {decimal_result}\")"
   ]
  },
  {
   "cell_type": "markdown",
   "id": "a5400da8",
   "metadata": {},
   "source": [
    "<p align=\"justify\" style=\"margin-left: 10%; margin-right: 10%; font-family: 'Cascadia Mono'; font-size: 16px; line-height: 2; font-style: italic;\"><span style=\"color: orange;\">Ejercicio 14. Escribe una función my_dec_2_bin(d) , donde d es un entero positivo en decimal y b es la representación binaria de d . La salida b debe ser una lista de unos y ceros, y el término principal debe ser 1 a menos que el valor de entrada decimal sea 0.</p>\n",
    "\n",
    "<p align=\"justify\" style=\"margin-left: 10%; margin-right: 10%; font-family: 'Cascadia Mono'; font-size: 16px; line-height: 2; font-style: italic;\">La función `my_dec_2_bin` es una implementación en Python que convierte un número decimal dado en su representación binaria. Comienza con una verificación especial para el caso en que el número decimal es cero, devolviendo una lista que contiene solo el dígito binario 0. Para otros números, utiliza un bucle while para dividir repetidamente el número decimal entre 2 y almacenar los residuos en una lista llamada `binary_representation`. Luego, invierte esta lista para obtener la representación binaria final del número decimal proporcionado.</p>"
   ]
  },
  {
   "cell_type": "code",
   "execution_count": 12,
   "id": "b59d1681",
   "metadata": {},
   "outputs": [
    {
     "name": "stdout",
     "output_type": "stream",
     "text": [
      "La representación binaria de 0 es: [0]\n"
     ]
    }
   ],
   "source": [
    "def my_dec_2_bin(d):\n",
    "    if d == 0:\n",
    "        return [0]\n",
    "    binary_representation = []\n",
    "    while d > 0:\n",
    "        binary_representation.append(d % 2)\n",
    "        d //= 2\n",
    "    binary_representation.reverse()\n",
    "    return binary_representation\n",
    "decimal_number = 0\n",
    "binary_result = my_dec_2_bin(decimal_number)\n",
    "print(f\"La representación binaria de {decimal_number} es: {binary_result}\")"
   ]
  },
  {
   "cell_type": "code",
   "execution_count": 13,
   "id": "11847152",
   "metadata": {},
   "outputs": [
    {
     "name": "stdout",
     "output_type": "stream",
     "text": [
      "La representación binaria de 2097 es: [1, 0, 0, 0, 0, 0, 1, 1, 0, 0, 0, 1]\n"
     ]
    }
   ],
   "source": [
    "def my_dec_2_bin(d):\n",
    "    if d == 0:\n",
    "        return [0]\n",
    "    binary_representation = []\n",
    "    while d > 0:\n",
    "        binary_representation.append(d % 2)\n",
    "        d //= 2\n",
    "    binary_representation.reverse()\n",
    "    return binary_representation\n",
    "decimal_number = 2097\n",
    "binary_result = my_dec_2_bin(decimal_number)\n",
    "print(f\"La representación binaria de {decimal_number} es: {binary_result}\")"
   ]
  },
  {
   "cell_type": "markdown",
   "id": "af454c02",
   "metadata": {},
   "source": [
    "<p align=\"justify\" style=\"margin-left: 10%; margin-right: 10%; font-family: 'Cascadia Mono'; font-size: 16px; line-height: 2; font-style: italic;\"><span style=\"color: orange;\">Ejercicio 15. Utilice las dos funciones que escribió en los problemas 1 y 2 para calcular d = my_bin_2_dec(my_dec_2_bin(12654)) . ¿Obtienes el mismo número?</p>\n",
    "\n",
    "<p align=\"justify\" style=\"margin-left: 10%; margin-right: 10%; font-family: 'Cascadia Mono'; font-size: 16px; line-height: 2; font-style: italic;\">El resultado es el mismo porque las funciones `my_dec_2_bin` y `my_bin_2_dec` están diseñadas para ser inversas entre sí. La función `my_dec_2_bin` convierte un número decimal a su representación binaria, mientras que la función `my_bin_2_dec` realiza la operación inversa, convirtiendo una representación binaria de nuevo a un número decimal. Durante estas conversiones, ambas funciones utilizan operaciones matemáticas que preservan la equivalencia numérica. Cuando aplicas primero `my_dec_2_bin` al número decimal 12654 y luego `my_bin_2_dec` al resultado binario, las operaciones inversas compensan, asegurando que el número final calculado sea idéntico al número de partida. Esto demuestra la consistencia y precisión de las funciones en el proceso de conversión binario-decimal.</p>"
   ]
  },
  {
   "cell_type": "code",
   "execution_count": 14,
   "id": "a6a3e99d",
   "metadata": {},
   "outputs": [
    {
     "name": "stdout",
     "output_type": "stream",
     "text": [
      "El número decimal original es: 12654\n",
      "La representación binaria es: [1, 1, 0, 0, 0, 1, 0, 1, 1, 0, 1, 1, 1, 0]\n",
      "El número decimal después de la conversión es: 12654\n"
     ]
    }
   ],
   "source": [
    "def my_dec_2_bin(d):\n",
    "    if d == 0:\n",
    "        return [0]\n",
    "    binary_representation = []\n",
    "    while d > 0:\n",
    "        binary_representation.append(d % 2)\n",
    "        d //= 2\n",
    "    binary_representation.reverse()\n",
    "    return binary_representation\n",
    "def my_bin_2_dec(b):\n",
    "    d = 0\n",
    "    for i, bit in enumerate(reversed(b)):\n",
    "        if bit == 1:\n",
    "            d += 2 ** i\n",
    "    return d\n",
    "decimal_number = 12654\n",
    "binary_result = my_dec_2_bin(decimal_number)\n",
    "decimal_result = my_bin_2_dec(binary_result)\n",
    "print(f\"El número decimal original es: {decimal_number}\")\n",
    "print(f\"La representación binaria es: {binary_result}\")\n",
    "print(f\"El número decimal después de la conversión es: {decimal_result}\")"
   ]
  },
  {
   "cell_type": "markdown",
   "id": "e4e92dda",
   "metadata": {},
   "source": [
    "<p align=\"justify\" style=\"margin-left: 10%; margin-right: 10%; font-family: 'Cascadia Mono'; font-size: 16px; line-height: 2; font-style: italic;\"><span style=\"color: orange;\">Ejercicio 16. Escriba una función my_ieee_2_dec(ieee) , donde ieee es una cadena que contiene 64 caracteres de unos y ceros que representan un número IEEE754 de 64 bits. La salida debe ser d , la representación decimal equivalente de ieee . La variable de entrada ieee siempre será una cadena de 64 elementos de unos y ceros que definen un flotante de 64 bits.</p>\n",
    "\n",
    "<p align=\"justify\" style=\"margin-left: 10%; margin-right: 10%; font-family: 'Cascadia Mono'; font-size: 16px; line-height: 2; font-style: italic;\">La función `my_ieee_2_dec` convierte una cadena de 64 bits en formato IEEE754 a su equivalente decimal. Extrae el bit de signo, el exponente y la mantisa de la cadena y utiliza la fórmula IEEE754 para calcular el valor decimal. El resultado es la representación decimal equivalente del número codificado en el formato IEEE754, que se devuelve como salida de la función.</p>"
   ]
  },
  {
   "cell_type": "code",
   "execution_count": 15,
   "id": "e77e7765",
   "metadata": {},
   "outputs": [
    {
     "name": "stdout",
     "output_type": "stream",
     "text": [
      "La representación decimal equivalente es: -48.0\n"
     ]
    }
   ],
   "source": [
    "def my_ieee_2_dec(ieee):\n",
    "    if len(ieee) != 64:\n",
    "        raise ValueError(\"La cadena debe contener exactamente 64 bits\")\n",
    "    signo = int(ieee[0])\n",
    "    exponente = int(ieee[1:12], 2)\n",
    "    mantisa = int(\"1\" + ieee[12:], 2)\n",
    "    d = (-1) ** signo * 2 ** (exponente - 1023) * mantisa / 2 ** 52\n",
    "    return d\n",
    "ieee_64_bits = \"1100000001001000000000000000000000000000000000000000000000000000\"\n",
    "decimal_result = my_ieee_2_dec(ieee_64_bits)\n",
    "print(f\"La representación decimal equivalente es: {decimal_result}\")"
   ]
  },
  {
   "cell_type": "code",
   "execution_count": 16,
   "id": "407d6d75",
   "metadata": {},
   "outputs": [
    {
     "name": "stdout",
     "output_type": "stream",
     "text": [
      "La representación decimal equivalente es: 3.4\n"
     ]
    }
   ],
   "source": [
    "def my_ieee_2_dec(ieee):\n",
    "    if len(ieee) != 64:\n",
    "        raise ValueError(\"La cadena debe contener exactamente 64 bits\")\n",
    "    signo = int(ieee[0])\n",
    "    exponente = int(ieee[1:12], 2)\n",
    "    mantisa = int(\"1\" + ieee[12:], 2)\n",
    "    d = (-1) ** signo * 2 ** (exponente - 1023) * mantisa / 2 ** 52\n",
    "    return d\n",
    "ieee_64_bits = \"0100000000001011001100110011001100110011001100110011001100110011\"\n",
    "decimal_result = my_ieee_2_dec(ieee_64_bits)\n",
    "print(f\"La representación decimal equivalente es: {decimal_result}\")"
   ]
  },
  {
   "cell_type": "markdown",
   "id": "85ce7747",
   "metadata": {},
   "source": [
    "<p align=\"justify\" style=\"margin-left: 10%; margin-right: 10%; font-family: 'Cascadia Mono'; font-size: 16px; line-height: 2; font-style: italic;\"><span style=\"color: orange;\">Ejercicio 17. Escriba una función my_dec_2_ieee(d) , donde d es un número en decimal y la variable de salida ieee es una cadena con 64 caracteres de unos y ceros que representan el IEEE754 de 64 bits más cercano a d.</p>\n",
    "\n",
    "<p align=\"justify\" style=\"margin-left: 10%; margin-right: 10%; font-family: 'Cascadia Mono'; font-size: 16px; line-height: 2; font-style: italic;\">La función `my_dec_2_ieee` convierte un número decimal `d` en su representación IEEE754 de 64 bits más cercana. Primero, determina el bit de signo según si el número es positivo o negativo. Luego, calcula el exponente y la mantisa aplicando las reglas de codificación de IEEE754. El exponente se ajusta para representar el sesgo y la mantisa se obtiene a partir de la parte fraccionaria del número. La función construye una cadena de 64 bits formateada con el bit de signo, el exponente y la mantisa, representando así el número en el estándar IEEE754. La cadena resultante se devuelve como salida de la función. Este proceso permite obtener la representación binaria de 64 bits más cercana a un número decimal dado, manteniendo la precisión establecida por el estándar de codificación en punto flotante IEEE754.</p>"
   ]
  },
  {
   "cell_type": "code",
   "execution_count": 17,
   "id": "e7009221",
   "metadata": {},
   "outputs": [
    {
     "name": "stdout",
     "output_type": "stream",
     "text": [
      "La representación IEEE754 de 1.518484199625 es: 00111111111111000010010111011011000010110100011100001110100100000\n"
     ]
    }
   ],
   "source": [
    "def my_dec_2_ieee(d):\n",
    "    if d == 0:\n",
    "        return \"0\" * 64\n",
    "    signo = \"0\" if d > 0 else \"1\"\n",
    "    d = abs(d)\n",
    "    exponente = 1023\n",
    "    while d < 1:\n",
    "        d *= 2\n",
    "        exponente -= 1\n",
    "    while d >= 2:\n",
    "        d /= 2\n",
    "        exponente += 1\n",
    "    mantisa = int(format(int(d * (2**52)), '052b'), 2)\n",
    "    ieee_64_bits = f\"{signo}{format(exponente, '011b')}{format(mantisa, '052b')}\"\n",
    "    return ieee_64_bits\n",
    "numero_decimal = 1.518484199625\n",
    "ieee_resultante = my_dec_2_ieee(numero_decimal)\n",
    "print(f\"La representación IEEE754 de {numero_decimal} es: {ieee_resultante}\")"
   ]
  },
  {
   "cell_type": "code",
   "execution_count": 18,
   "id": "a4ec4e42",
   "metadata": {},
   "outputs": [
    {
     "name": "stdout",
     "output_type": "stream",
     "text": [
      "La representación IEEE754 de -25252 es: 11000000110111000101010010000000000000000000000000000000000000000\n"
     ]
    }
   ],
   "source": [
    "def my_dec_2_ieee(d):\n",
    "    if d == 0:\n",
    "        return \"0\" * 64\n",
    "    signo = \"0\" if d > 0 else \"1\"\n",
    "    d = abs(d)\n",
    "    exponente = 1023\n",
    "    while d < 1:\n",
    "        d *= 2\n",
    "        exponente -= 1\n",
    "    while d >= 2:\n",
    "        d /= 2\n",
    "        exponente += 1\n",
    "    mantisa = int(format(int(d * (2**52)), '052b'), 2)\n",
    "    ieee_64_bits = f\"{signo}{format(exponente, '011b')}{format(mantisa, '052b')}\"\n",
    "    return ieee_64_bits\n",
    "numero_decimal = -25252\n",
    "ieee_resultante = my_dec_2_ieee(numero_decimal)\n",
    "print(f\"La representación IEEE754 de {numero_decimal} es: {ieee_resultante}\")"
   ]
  },
  {
   "cell_type": "markdown",
   "id": "0901d945",
   "metadata": {},
   "source": [
    "<p  align=\"justify\" style=\"margin-left: 10%; margin-right: 10%; font-family: 'Cascadia Mono'; font-size: 16px; line-height: 2; font-style: italic;\"><span style=\"color: orange;\">Conclusión.</span> La exploración de la representación de punto flotante de los números reales en la computadora, bajo el estándar IEEE-754, nos ha llevado a abordar diversos aspectos cruciales en la manipulación de información numérica. Desde la interpretación de patrones binarios hasta la ejecución de operaciones acumuladas en un entorno computacional, el análisis detallado de situaciones específicas nos ha permitido comprender la complejidad y precisión involucradas en este proceso. Hemos desarrollado funciones para la conversión entre representaciones binarias y decimales, así como para la determinación de la representación IEEE-754 de 64 bits más cercana a un número decimal dado. A través de ejercicios prácticos, hemos explorado la aproximación de números irracionales, evaluando el error asociado. Estos ejercicios ha resaltado la importancia de entender la representación interna de los números en la computadora, ya que impacta directamente en la precisión y la manipulación de datos en entornos digitales. La combinación de conceptos teóricos con la aplicación práctica de funciones y operaciones ha fortalecido nuestra comprensión de este aspecto fundamental de la informática.</p>"
   ]
  }
 ],
 "metadata": {
  "kernelspec": {
   "display_name": "Python 3 (ipykernel)",
   "language": "python",
   "name": "python3"
  },
  "language_info": {
   "codemirror_mode": {
    "name": "ipython",
    "version": 3
   },
   "file_extension": ".py",
   "mimetype": "text/x-python",
   "name": "python",
   "nbconvert_exporter": "python",
   "pygments_lexer": "ipython3",
   "version": "3.11.0"
  }
 },
 "nbformat": 4,
 "nbformat_minor": 5
}
