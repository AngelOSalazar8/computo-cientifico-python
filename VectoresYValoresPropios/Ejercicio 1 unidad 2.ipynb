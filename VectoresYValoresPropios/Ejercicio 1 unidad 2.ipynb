{
 "cells": [
  {
   "cell_type": "markdown",
   "id": "730d66ab",
   "metadata": {},
   "source": [
    "# Unidad 2 Tarea 1 \n",
    "### Fecha de entrega miércoles 14 de febrero del 2024. <a id=\"inicio\"></a>\n",
    "### Problema del PageRank \n",
    "Angel Mariel Osalde Salazar"
   ]
  },
  {
   "cell_type": "markdown",
   "id": "864d2aec",
   "metadata": {},
   "source": [
    "# __Introducción__\n",
    "<p style=\"text-align: justify;\">\n",
    "En estos ejercicios, exploraremos los conceptos fundamentales de los valores y vectores propios, los cuales desempeñan un papel crucial en el análisis de transformaciones lineales. Los valores propios son escalares que caracterizan cómo una transformación lineal cambia la dirección de ciertos vectores en el espacio, mientras que los vectores propios son aquellos asociados a estos valores y que conservan su dirección bajo la transformación.\n",
    "</p>\n",
    "<p style=\"text-align: justify;\">\n",
    " Además, abordaremos el Modelo de Leslie, una herramienta matricial comúnmente utilizada en ecología para estudiar el crecimiento y la dinámica de las poblaciones en relación con sus diferentes grupos de edad. En este modelo, cada elemento de la matriz representa la tasa de supervivencia o reproducción de una clase de edad específica. A través de su análisis, esperamos obtener una comprensión más profunda de cómo este modelo influye en la evolución de una población particular.\n",
    "</p>\n",
    "\n"
   ]
  },
  {
   "cell_type": "markdown",
   "id": "a0a1afb0",
   "metadata": {},
   "source": [
    "# __Índice__\n",
    "\n",
    "<ol>\n",
    "    <li><a href=\"#int\">Introducción</a></li>\n",
    "    <li><a href=\"#Indice\">Índice</a></li>\n",
    "    <li><a href=\"#voyva\">Vectores y Valores propios</a>\n",
    "        <ol type=\"i\">\n",
    "            <li><a href=\"#Rank\">RankPage</a></li>\n",
    "            <ol type=\"a\">\n",
    "            <li><a href=\"#a\">Inciso a</a></li>\n",
    "            <li><a href=\"#b\">Inciso b</a></li>\n",
    "            <li><a href=\"#c\">Inciso c</a></li>\n",
    "            <li><a href=\"#d\">Inciso d</a></li>\n",
    "            </ol>\n",
    "        </ol>\n",
    "    </li>\n",
    "    <li><a href=\"#4\">Modelo de Leslie para la dinámica de poblaciones</a></li>\n",
    "        <ol type=\"i\">\n",
    "            <li><a href=\"#I\">Ejercicio I</a></li>\n",
    "            <li><a href=\"#II\">Ejercicio II</a></li>\n",
    "            <li><a href=\"#III\">Ejercicio III</a></li>\n",
    "            <li><a href=\"#IV\">Ejercicio IV</a></li>\n",
    "            <li><a href=\"#V\">Ejercicio V</a></li>\n",
    "        </ol>\n",
    "    <li><a href = \"preguntas\">Preguntas según el modelo de Leslie</a></li>\n",
    "        <ol type =\"i\">\n",
    "        <li><a href=\"#VI\">Pregunta VI</a></li>\n",
    "        <li><a href=\"#VII\">Pregunta VII</a></li>\n",
    "        <li><a href=\"#VIII\">Pregunta VIII</a></li>\n",
    "        </ol>\n",
    "    <li><a href=\"#conclusion\">Conclusión</a></li>\n",
    "</ol>\n"
   ]
  },
  {
   "cell_type": "markdown",
   "id": "ea81ed4f",
   "metadata": {},
   "source": [
    "# __Vectores y valores propios__ <a id=\"voyva\"></a>"
   ]
  },
  {
   "cell_type": "markdown",
   "id": "b838a388",
   "metadata": {},
   "source": [
    "\n",
    "Vivimos en la era de las computadoras. Internet forma parte de nuestro día a día y la información está a sólo un clic de distancia. Simplemente abra su motor de búsqueda favorito, como Google, AltaVista, Yahoo, escriba las palabras clave y el motor de búsqueda mostrará las páginas relevantes para su búsqueda. Pero, ¿cómo funciona realmente un motor de búsqueda?\n",
    "\n",
    "\n",
    "Para este objetivo, comenzamos imaginando la red Web como un grafo dirigido, con los nodos representados por páginas web y los bordes representados por los enlaces entre ellas.\n",
    "\n",
    "\n",
    "Supongamos, por ejemplo, que tenemos una pequeña red de Internet que consta de sólo 4 sitios web www.page1.com, www.page2.com, www.page3.com, www.page4.com, referenciados entre sí en la forma sugerida en la lista :"
   ]
  },
  {
   "cell_type": "markdown",
   "id": "b347d7e6",
   "metadata": {},
   "source": [
    "<table>\n",
    "  <tr style=\"background-color: white\">\n",
    "    <td><form action=\"#\">\n",
    "      <label for=\"lang\">www.page1.com</label>\n",
    "      <select name=\"lenguajes\" id=\"lang\">\n",
    "        <option value=\"selecciona\">Selecciona una página</option>\n",
    "        <option value=\"javascript\">www.page2.com</option>\n",
    "        <option value=\"php\">www.page3.com</option>\n",
    "        <option value=\"java\">www.page4.com</option>\n",
    "      </select>\n",
    "</form></td>\n",
    "    <td><form action=\"#\">\n",
    "      <label for=\"lang\">www.page2.com</label>\n",
    "      <select name=\"lenguajes\" id=\"lang\">\n",
    "        <option value=\"selecciona\">Selecciona una página</option>\n",
    "        <option value=\"javascript\">www.page3.com</option>\n",
    "        <option value=\"php\">www.page4.com</option>\n",
    "      </select>\n",
    "</form></td>\n",
    "    <td><form action=\"#\">\n",
    "      <label for=\"lang\">www.page3.com</label>\n",
    "      <select name=\"lenguajes\" id=\"lang\">\n",
    "        <option value=\"selecciona\">Selecciona una página</option>\n",
    "        <option value=\"javascript\">www.page1.com</option>\n",
    "      </select>\n",
    "</form></td>\n",
    "    <td><form action=\"#\">\n",
    "      <label for=\"lang\">www.page4.com</label>\n",
    "      <select name=\"lenguajes\" id=\"lang\">\n",
    "        <option value=\"selecciona\">Selecciona una página</option>\n",
    "        <option value=\"javascript\">www.page3.com</option>\n",
    "        <option value=\"javascript\">www.page1.com</option>\n",
    "      </select></td>\n",
    "  </tr>\n",
    "</table>"
   ]
  },
  {
   "cell_type": "markdown",
   "id": "be921874",
   "metadata": {},
   "source": [
    "# __RankPage__<a id=\"Rank\"></a>"
   ]
  },
  {
   "cell_type": "markdown",
   "id": "06265b7c",
   "metadata": {},
   "source": [
    "<a id=\"a\"></a>\n",
    "> __a) Traduzca la lista combinada a  un grafo dirigido con 4 nodos, uno para cada sitio web. Cuando el sitio web i hace referencia a j , agregue un borde dirigido entre el nodo i y el nodo j en el grafo. Con el fin de calcular el ranking de su página, ignore cualquier enlace de navegación, como los botones Atrás y Siguiente, solo tome encuenta las conexiones entre diferentes sitios web.__"
   ]
  },
  {
   "cell_type": "markdown",
   "id": "0025b284",
   "metadata": {},
   "source": [
    "\n",
    "<center><img src=\"nodos.png\" alt=\"\"></center>\n"
   ]
  },
  {
   "cell_type": "markdown",
   "id": "4bb4b82a",
   "metadata": {},
   "source": [
    "<a id=\"b\"></a>\n",
    "> __b) En el modelo, cada página debe transferir uniformemente su importancia a las páginas a las que enlaza. Denote por $x_1$ , $x_2$ , $x_3$ y $x_4$ la importancia de las cuatro páginas. Analice la situación en cada nodo y obtenga un sistema lineal, represente su sistema en la forma $Ax=x$__"
   ]
  },
  {
   "cell_type": "markdown",
   "id": "c416473e",
   "metadata": {},
   "source": [
    "$$\n",
    "\\begin{align}\n",
    "    X_1 &= X_3 + \\frac{1}{2}X_4 \\\\ \\\\\n",
    "    X_2 &= \\frac{1}{3}X_1 \\\\ \\\\\n",
    "    X_3 &= \\frac{1}{3}X_1 + \\frac{1}{2}X_2 + \\frac{1}{2}X_4 \\\\ \\\\\n",
    "    X_4 &= \\frac{1}{3}X_1 + \\frac{1}{2}X_2\n",
    "\\end{align}\n",
    "$$"
   ]
  },
  {
   "cell_type": "markdown",
   "id": "37a3805f",
   "metadata": {},
   "source": [
    "La matriz resultante es : \n",
    "$$\n",
    "A = \\begin{pmatrix}\n",
    "0 & 0 & 1 & \\frac{1}{2} \\\\\n",
    "\\frac{1}{3\\vphantom{1/2}} & 0 & 0 & 0 \\\\\n",
    "\\frac{1}{3\\vphantom{1/2}} & \\frac{1}{2} & 0 & \\frac{1}{2} \\\\\n",
    "\\frac{1}{3\\vphantom{1/2}} & \\frac{1}{2} & 0 & 0\n",
    "\\end{pmatrix}\n",
    "$$"
   ]
  },
  {
   "cell_type": "markdown",
   "id": "7dc9bb1e",
   "metadata": {},
   "source": [
    "Dándole la forma $Ax = x $ :\n",
    "$$\n",
    "\\begin{bmatrix}\n",
    "0 & 0 & 1 & \\frac{1}{2} \\\\\n",
    "\\frac{1}{3\\vphantom{1/2}} & 0 & 0 & 0 \\\\\n",
    "\\frac{1}{3\\vphantom{1/2}} & \\frac{1}{2} & 0 & \\frac{1}{2} \\\\\n",
    "\\frac{1}{3\\vphantom{1/2}} & \\frac{1}{2} & 0 & 0\n",
    "\\end{bmatrix}\n",
    "\\begin{bmatrix}\n",
    "   X_1 \\\\\n",
    "   X_2\\\\\n",
    "   X_3\\\\\n",
    "   X_4 \n",
    "\\end{bmatrix}\n",
    "= \n",
    "\\begin{bmatrix}\n",
    "   X_1 \\\\\n",
    "   X_2\\\\\n",
    "   X_3\\\\\n",
    "   X_4 \n",
    "\\end{bmatrix}\n",
    "$$\n"
   ]
  },
  {
   "cell_type": "markdown",
   "id": "c9226f41",
   "metadata": {},
   "source": [
    "<a id=\"c\"></a>\n",
    "> __c) Hallar el vector propio de la matriz $A$ asociado al valor propio $\\lambda=1$ ¿Cuál es la razón de seleccionar $\\lambda=1$?__"
   ]
  },
  {
   "cell_type": "markdown",
   "id": "9bbf2de8",
   "metadata": {},
   "source": [
    "+ __Para__ $λ=1$\n",
    "$(A-\\lambda I)V = 0$ :\n",
    "$$\n",
    "\\begin{align}\n",
    "\\begin{pmatrix}\n",
    "-1 & 0 & 1 & \\frac{1}{2} \\\\\n",
    "\\frac{1}{3\\vphantom{1/2}} & -1 & 0 & 0 \\\\\n",
    "\\frac{1}{3\\vphantom{1/2}} & \\frac{1}{2} & -1 & \\frac{1}{2} \\\\\n",
    "\\frac{1}{3\\vphantom{1/2}} & \\frac{1}{2} & 0 & -1\n",
    "\\end{pmatrix}\n",
    "\\begin{pmatrix}\n",
    "   X_1 \\\\\n",
    "   X_2\\\\\n",
    "   X_3\\\\\n",
    "   X_4 \n",
    "\\end{pmatrix}\n",
    "=\n",
    "\\begin{pmatrix}\n",
    "   0\\\\\n",
    "   0\\\\\n",
    "   0\\\\\n",
    "   0\n",
    "\\end{pmatrix}\n",
    "\\end{align}\n",
    "$$\n",
    "\n",
    "\n",
    "Obtenemos el siguiente sistema de ecuaciones : \n",
    "$$\n",
    "\\begin{align}\n",
    "    &-x_1 + x_3 + \\frac{1}{2}x_4 = 0\\\\\n",
    "    &\\frac{1}{3}x_1 - x_2 = 0\\\\\n",
    "    &\\frac{1}{3}x_1 + \\frac{1}{2}x_2 -x_3 + \\frac{1}{2}x_4= 0\\\\\n",
    "    &\\frac{1}{3}x_1 + \\frac{1}{2}x_2 -x_4 = 0\\\\\n",
    "\\end{align}\n",
    "$$\n",
    "\n",
    "\n",
    "Resolviendo el sistema de ecuaciones obtenemos : \n",
    "$$\n",
    "\\begin{align}\n",
    "   x_1=\\frac{4x_3}{3},\\:x_4=\\frac{2x_3}{3},\\:x_2=\\frac{4x_3}{9}\n",
    "\\end{align}\n",
    "$$"
   ]
  },
  {
   "cell_type": "markdown",
   "id": "b85cb26b",
   "metadata": {},
   "source": [
    "Por lo tanto el vector propio para $λ=1$ es cualquier vector de la forma : \n",
    "$$\n",
    "V =\\begin{pmatrix}\n",
    "   \\frac{4}{3\\vphantom{1/2}}x_3\\\\\n",
    "   \\frac{4\\vphantom{1/2}}{9\\vphantom{1/2}}x_3 \\\\\n",
    "    x_3\\\\\n",
    "   \\frac{2\\vphantom{1/2}}{3}x_3\n",
    "\\end{pmatrix}\n",
    "$$\n",
    "Factorizando tenemos : \n",
    "$$\n",
    "V =\\begin{pmatrix}\n",
    "   \\frac{4}{3\\vphantom{1/2}}\\\\\n",
    "   \\frac{4\\vphantom{1/2}}{9\\vphantom{1/2}} \\\\\n",
    "    1\\\\\n",
    "   \\frac{2\\vphantom{1/2}}{3}\n",
    "\\end{pmatrix}\n",
    "$$"
   ]
  },
  {
   "cell_type": "markdown",
   "id": "b0d31e70",
   "metadata": {},
   "source": [
    "<a id=\"d\"></a>\n",
    "> __d) Suponga que inicialmente la importancia se distribuye uniformemente entre los 4 nodos y cada uno obtiene ¼. Denota por $x_0$ el vector de rango inicial, en el que todas las entradas son iguales a ¼. construya una función que tenga como entradas la matrix A, el vector inicial $x_0$ y el número de iteraciones. Use la fución para hallar el vector propio dominante (vector PageRank de del grafo web). Mencione la página de mayor relevancia. ¿Qué concluye al tener conocimiento de  la página de mayor relevancia?__"
   ]
  },
  {
   "cell_type": "code",
   "execution_count": 1,
   "id": "5b906598",
   "metadata": {},
   "outputs": [],
   "source": [
    "import numpy as np  \n",
    "from IPython.display import display, Math\n",
    "\"\"\"\n",
    "Metodo de la potencia\n",
    "x como vector\n",
    "a como matriz\n",
    "\"\"\"\n",
    "def power_method(x,a,num_iter=20):\n",
    "    resultados = []\n",
    "    for i in range(num_iter):\n",
    "        x = np.dot(a,x)\n",
    "        resultados.append(x)\n",
    "    return np.array(resultados)\n"
   ]
  },
  {
   "cell_type": "code",
   "execution_count": 2,
   "id": "319c459e",
   "metadata": {},
   "outputs": [
    {
     "data": {
      "text/plain": [
       "array([0.38709616, 0.12903205, 0.29032302, 0.19354877])"
      ]
     },
     "execution_count": 2,
     "metadata": {},
     "output_type": "execute_result"
    }
   ],
   "source": [
    "x = np.array([1/4,1/4,1/4,1/4])\n",
    "a = np.array([[0, 0, 1, 1/2],[1/3, 0, 0, 0],[1/3, 1/2, 0, 1/2],[1/3, 1/2, 0, 0]])\n",
    "vector_page_rank = power_method(x,a)\n",
    "vector_page_rank[-1]\n"
   ]
  },
  {
   "cell_type": "markdown",
   "id": "99342d93",
   "metadata": {},
   "source": [
    "El vector anterior es denominado vector PageRank del grafo web.\n",
    "$$\n",
    "\\begin{align*}\n",
    "    x = \\begin{bmatrix}\n",
    "        0.3870\\\\\n",
    "        0.1290\\\\\n",
    "        0.2903 \\\\\n",
    "        0.1935 \n",
    "    \\end{bmatrix}\n",
    "\\end{align*}\n",
    "$$\n",
    "El vector de PageRank que se ha calculado indica que la página 1 es la más relevante. Esto puede resultar sorprendente, ya que la página 1 tiene solo 2 enlaces entrantes, mientras que la página 3 tiene 3 enlaces entrantes. Al examinar el grafo, se observa  que el nodo 3 tiene únicamente un enlace saliente hacia el nodo 1, transfiriendo así toda su importancia a este último. De manera equivalente, un usuario de internet que sigue únicamente hipervínculos, al llegar a la página 3, solo puede dirigirse a la página 1.\n"
   ]
  },
  {
   "cell_type": "markdown",
   "id": "904b50de",
   "metadata": {},
   "source": [
    "\n",
    "<center><img src=\"nodos.png\" alt=\"\"></center>"
   ]
  },
  {
   "cell_type": "markdown",
   "id": "c3ee242f",
   "metadata": {},
   "source": [
    "## __EL MODELO DE LESLIE PARA LA DINÁMICA DE POBLACIONES.__ <a id=\"Leslie\"></a>\n",
    "\n"
   ]
  },
  {
   "cell_type": "markdown",
   "id": "ceb22996",
   "metadata": {},
   "source": [
    "\n",
    "Uno de los modelos que utilizan los demógrafos para predecir el crecimiento de una población es el modelo de Leslie. Este modelo se desarrolló alrededor de 1940.\n",
    "\n",
    "El modelo describe el crecimiento numérico de una población humana, animal o vegetal, la cuál es dividida en clases que se definen tomando en cuenta rangos de edad, peso, altura, u otros parámetros.\n",
    "Dividiendo la población inicial en $n$ clases, se forma un vector columna, llamado vector de la distribución inicial de clase $x^{(0)}$ es igual\n",
    "\n",
    "\\begin{pmatrix} x_{1}^{(0)}\\\\ v_{2}^{(0)} \\\\ \\vdots \\\\ x_{n}^{(0)} \\end{pmatrix}\n",
    "\n",
    "donde los $x^{(0)}_i$ $i=1,2,...,n$ son el número de elementos en cada clase, en un tiempo inicial $t=0$.\n",
    "\n",
    "\n",
    "Conforme transcurre el tiempo y debido a los procesos naturales (nacimiento, envegecimiento y muerte), cambia el número de elementos de cada una de las $n$ clases. Describiendo los procesos naturales cuantitativamente, el vector de la distribución inicial de clases puede proyectarse hacia el futuro.\n",
    "\n",
    "Denotemos al vector de la distribución de clases en cualquier tiempo $t_k$ como:\n",
    "$x^{k}$ igual\n",
    "\n",
    "$$\n",
    "\\begin{pmatrix} x_{1}^{(k)}\\\\ v_{2}^{(k)} \\\\ \\vdots \\\\ x_{n}^{(k)} \\end{pmatrix} \\\n",
    "$$\n",
    "\n",
    "donde los $x^{k}_i$ son el número de elementos de la clase de orden $i$ en el tiempo $t_k$.\n",
    "\n",
    "Los procesos naturales pueden describirse con los siguientes parámetros:\n",
    "\n",
    "* a) $a_i$ Es el número promedio de hijas que tiene una hembra de la clase de orden $i$.\n",
    "\n",
    "* b) $b_i$ Es la probabilidad de que un elemento de la clase de orden $i$ sobreviva y pase a la clase siguiente $(i+1)$.\n",
    "\n",
    "El inciso a) y b) se interpreta matemáticamente como\n",
    " \n",
    "* a) $a_i\\geq 0$\tpara $i=1,2,...,n$\n",
    "\n",
    "* b) $0  ≤ b_i ≤ 1$ para $i=1,2,...,n-1$"
   ]
  },
  {
   "cell_type": "markdown",
   "id": "6ac6c3cc",
   "metadata": {},
   "source": [
    "* __Represente en lenguaje algebraico lo siguiente:__ "
   ]
  },
  {
   "cell_type": "markdown",
   "id": "3d921e39",
   "metadata": {},
   "source": [
    "<a id=\"I\"></a>\n",
    "> __I) En el tiempo $t_k$ , el número de elementos de la primera clase, serán únicamente los elementos nacidos entre los tiempos $t_{k-1}$ y $t_{k}$.__\n",
    "\n",
    "$$\n",
    "\\begin{align}\n",
    "    x_1(k) = a_1x_1(k-1)+a_2x_2(k-1) + \\cdots + a_nx_n(k-1)\n",
    "\\end{align}\n",
    "$$"
   ]
  },
  {
   "cell_type": "markdown",
   "id": "56bbc1ef",
   "metadata": {},
   "source": [
    "<a id=\"II\"></a>\n",
    "> __II) Ahora, el número de elementos de la clase de orden $(i+1)$, en el tiempo $t_k$ , es igual al número de elementos de la clase de orden $i$ en el tiempo $t_{k-1}$, que sobreviven en el tiempo $t_k$.__\n",
    "\n",
    "$$\n",
    "\\begin{align}\n",
    "    x_{1+1}(k) = b_ix_i(k-1), \\quad i = 1,2, \\cdots, n-1\n",
    "\\end{align}\n",
    "$$"
   ]
  },
  {
   "cell_type": "markdown",
   "id": "33663bdd",
   "metadata": {},
   "source": [
    "<a id=\"III\"></a>\n",
    "> __III) Utilizando la notación matricial, escriba i) y ii) en forma matricial, la matriz que obtiene se llama matriz de Leslie.__\n",
    "\n",
    "$$\n",
    "\\begin{pmatrix}\n",
    "x_1(k)\\\\\n",
    "x_2(k)\\\\\n",
    "\\vdots \\\\\n",
    "x_n(k)\n",
    "\\end{pmatrix}\n",
    "= \n",
    "\\begin{pmatrix}\n",
    " a_1  & a_2 & \\cdots & a_{n-1} & a_n \\\\\n",
    " b_1  & 0 & \\cdots & 0 & 0 \\\\\n",
    " 0 & b_2 & \\cdots & 0 & 0 \\\\\n",
    " \\vdots  & \\vdots & \\vdots & \\vdots & \\vdots \\\\\n",
    " 0 & 0 & \\cdots  &b_{n-1} & 0 \\\\\n",
    "\\end{pmatrix}\n",
    "\\begin{pmatrix}\n",
    "x_1(k-1)\\\\\n",
    "x_2(k-1)\\\\\n",
    "x_3(k-1)\\\\\n",
    "\\vdots \\\\\n",
    "x_n(k-1)\n",
    "\\end{pmatrix}\n",
    "$$"
   ]
  },
  {
   "cell_type": "markdown",
   "id": "efbcd6e5",
   "metadata": {},
   "source": [
    "<a id=\"IV\"></a>\n",
    "> __IV) Considérese una población animal (exclusiva mente hembras) ficticia que consiste de 1000 animales con edad entre 0 y 1, 800 animales con edad entre 1 y 2  y  600 con edad entre 2 y 3. Se supone que ninguno de los animales vive más de tres años.__\n"
   ]
  },
  {
   "cell_type": "markdown",
   "id": "8a0abf59",
   "metadata": {},
   "source": [
    "$$\n",
    "x_0 = \\begin{pmatrix}\n",
    "1000 \\\\\n",
    "800 \\\\\n",
    "600\n",
    "\\end{pmatrix}\n",
    "$$"
   ]
  },
  {
   "cell_type": "markdown",
   "id": "a47f0674",
   "metadata": {},
   "source": [
    "<a id=\"V\"></a>\n",
    "> __V) Considere lo siguiente:La mitad de los animales de la clase 1 sobrevivirán para estar en la clase 2 el próximo año, la mitad de los animales de la clase 2 sobrevivirán para estar en la clase 3 el próximo año. Los animales de la clase 1 no producen hijos, cada animal de la clase 2 produce 1 hijo en promedio, y cada animal de la clase 3 produce 2 hijos en promedio. Con estos datos se forme la matriz de Leslie.__\n"
   ]
  },
  {
   "cell_type": "markdown",
   "id": "79405273",
   "metadata": {},
   "source": [
    "Organizamos los datos del ejercicio en la siguiente tabla : \n",
    "\n",
    "$$\n",
    "\\begin{array}{|c|c|c|c|}\n",
    "\\hline\n",
    "\\text{Clase} & \\text{Numero de Hembras} & \\text{Natalidad}& \\text{Tasa de supervivencia} \\\\\n",
    "\\hline\n",
    "\\text{1} & 100 & \\text{0} &\\text{0.5}\\\\\n",
    "\\text{2} & 800 & \\text{1} & \\text{0.5} \\\\\n",
    "\\text{3} & 600 & \\text{2} & \\text{1} \\\\\n",
    "\\hline\n",
    "\\end{array}\n",
    "$$\n",
    "Recordemos que : \n",
    "* $a_i :\\quad \\text{representa la tasa de natalidad de la clase de edad }i$\n",
    "* $b_i :\\quad \\text{representa la tasa de supervivencia de la clase de edad }i\\text{ a la siguiente clase de edad }i+1$\n"
   ]
  },
  {
   "cell_type": "markdown",
   "id": "1186f6ee",
   "metadata": {},
   "source": [
    "Con esto sabido rellenamos la matriz con los datos de la tabla para obtener la matriz de Leslie:\n",
    "\n",
    "$$\n",
    "A = \\begin{pmatrix}\n",
    "  0 & 1 & 2 \\\\\n",
    "  0.5 & 0 & 0 \\\\\n",
    "  0 & 0.5 & 0\n",
    "\\end{pmatrix}\n",
    "$$"
   ]
  },
  {
   "cell_type": "markdown",
   "id": "beeade02",
   "metadata": {},
   "source": [
    "## __Basados en IV), V) y usando el método de potencia responda las siguientes preguntas__\n",
    "<a id=\"preguntas\"></a>"
   ]
  },
  {
   "cell_type": "markdown",
   "id": "144c1e05",
   "metadata": {},
   "source": [
    "<a id=\"VI\"></a>\n",
    "> __VI) ¿Cuál es la distribución én las clases después de un año?__\n"
   ]
  },
  {
   "cell_type": "markdown",
   "id": "92383364",
   "metadata": {},
   "source": [
    "Pues para calcular la distribución después de un año usando el modelo de Leslie hacemos: \n",
    "\n",
    "$$\n",
    "\\begin{align}\n",
    "    x^{(1)} = A \\cdot x^{(0)}\n",
    "\\end{align}\n",
    "$$\n",
    "Entonces se puede calcular haciendo : \n",
    "\n",
    "$$\n",
    "X^{(1)} = \\begin{pmatrix}\n",
    "  0 & 1 & 2 \\\\\n",
    "  0.5 & 0 & 0 \\\\\n",
    "  0 & 0.5 & 0\n",
    "\\end{pmatrix}\n",
    "\\begin{pmatrix}\n",
    "1000 \\\\\n",
    "800 \\\\\n",
    "600\n",
    "\\end{pmatrix}\n",
    "$$"
   ]
  },
  {
   "cell_type": "code",
   "execution_count": 3,
   "id": "ae572ba3",
   "metadata": {},
   "outputs": [
    {
     "data": {
      "text/latex": [
       "$\\displaystyle x_1 = [2000.,  500.,  400.]$"
      ],
      "text/plain": [
       "<IPython.core.display.Math object>"
      ]
     },
     "metadata": {},
     "output_type": "display_data"
    }
   ],
   "source": [
    "v = np.array([1000, 800, 600])\n",
    "A = np.array([[0, 1, 2],\n",
    "              [0.5, 0, 0],\n",
    "              [0, 0.5, 0]])\n",
    "x1 = np.dot(A,v)\n",
    "display(Math(r'x_1 = ' +  np.array2string(x1, separator=', ')))"
   ]
  },
  {
   "cell_type": "markdown",
   "id": "7e33dc19",
   "metadata": {},
   "source": [
    "La distribución después de 1 años es : \n",
    "$$\n",
    "X^{(1)} = \\begin{pmatrix}\n",
    "2000 \\\\\n",
    "500 \\\\\n",
    "400\n",
    "\\end{pmatrix}\n",
    "$$"
   ]
  },
  {
   "cell_type": "markdown",
   "id": "5cc51270",
   "metadata": {},
   "source": [
    "__Usando el método de la potencia :__ "
   ]
  },
  {
   "cell_type": "code",
   "execution_count": 4,
   "id": "7c1f53a2",
   "metadata": {},
   "outputs": [
    {
     "name": "stdout",
     "output_type": "stream",
     "text": [
      "Clase 1: 2000.0\n",
      "Clase 2: 500.0\n",
      "Clase 3: 400.0\n"
     ]
    },
    {
     "data": {
      "text/latex": [
       "$\\displaystyle x_1 = [[2000.,  500.,  400.]]$"
      ],
      "text/plain": [
       "<IPython.core.display.Math object>"
      ]
     },
     "metadata": {},
     "output_type": "display_data"
    }
   ],
   "source": [
    "x_1 = power_method(v, A,1) #llamamos al metodo de la potencia\n",
    "for i, clase in enumerate(v):\n",
    "    print(f\"Clase {i+1}: {x_1[0][i]}\")\n",
    "display(Math(r'x_1 = ' +  np.array2string(x_1, separator=', ')))"
   ]
  },
  {
   "cell_type": "markdown",
   "id": "b75d3482",
   "metadata": {},
   "source": [
    "`La distribución después de 1 años usando el método de la potencia es :` \n",
    "\n",
    "$$\n",
    "X^{(1)} = \\begin{pmatrix}\n",
    "2000 \\\\\n",
    "500 \\\\\n",
    "400\n",
    "\\end{pmatrix}\n",
    "$$"
   ]
  },
  {
   "cell_type": "markdown",
   "id": "b35fcfcb",
   "metadata": {},
   "source": [
    "<a id=\"VII\"></a>\n",
    "> __VII) ¿Cuál es la distribución de edades después de 2 años?__\n"
   ]
  },
  {
   "cell_type": "markdown",
   "id": "d0b7abce",
   "metadata": {},
   "source": [
    "Usando el método de Leslie : "
   ]
  },
  {
   "cell_type": "code",
   "execution_count": 5,
   "id": "54dce84e",
   "metadata": {},
   "outputs": [
    {
     "data": {
      "text/latex": [
       "$\\displaystyle x_2 = [1300., 1000.,  250.]$"
      ],
      "text/plain": [
       "<IPython.core.display.Math object>"
      ]
     },
     "metadata": {},
     "output_type": "display_data"
    }
   ],
   "source": [
    "x2 = np.dot(A,x1)\n",
    "display(Math(r'x_2 = ' +  np.array2string(x2, separator=', ')))"
   ]
  },
  {
   "cell_type": "markdown",
   "id": "cd8d9c9c",
   "metadata": {},
   "source": [
    "La distribución después de 2 años es : \n",
    "$$\n",
    "X^{(2)} = \\begin{pmatrix}\n",
    "1300 \\\\\n",
    "1000 \\\\\n",
    "250\n",
    "\\end{pmatrix}\n",
    "$$"
   ]
  },
  {
   "cell_type": "markdown",
   "id": "38fb8ad5",
   "metadata": {},
   "source": [
    "__Usando el método de la potencia :__"
   ]
  },
  {
   "cell_type": "code",
   "execution_count": 6,
   "id": "eb1ae36c",
   "metadata": {},
   "outputs": [
    {
     "name": "stdout",
     "output_type": "stream",
     "text": [
      "Clase 1: 1300.0 \n",
      "Clase 2: 1000.0 \n",
      "Clase 3: 250.0 \n"
     ]
    },
    {
     "data": {
      "text/latex": [
       "$\\displaystyle x_2 = [[2000.,  500.,  400.],\n",
       " [1300., 1000.,  250.]]$"
      ],
      "text/plain": [
       "<IPython.core.display.Math object>"
      ]
     },
     "metadata": {},
     "output_type": "display_data"
    }
   ],
   "source": [
    "x_2 = power_method(v, A,2) #llamamos al metodo de la potencia\n",
    "for i, clase in enumerate(v):\n",
    "    print(f\"Clase {i+1}: {x_2[1][i]} \")\n",
    "display(Math(r'x_2 = ' +  np.array2string(x_2, separator=', ')))"
   ]
  },
  {
   "cell_type": "markdown",
   "id": "b39c036f",
   "metadata": {},
   "source": [
    "`La distribución después de 2 años usando el método de la potencia es :`\n",
    "\n",
    "$$\n",
    "X^{(2)} = \\begin{pmatrix}\n",
    "1300 \\\\\n",
    "1000 \\\\\n",
    "250\n",
    "\\end{pmatrix}\n",
    "$$"
   ]
  },
  {
   "cell_type": "markdown",
   "id": "52ebbc7c",
   "metadata": {},
   "source": [
    "<a id=\"VIII\"></a>\n",
    "> __VIII)¿Qué se puede decir acerca del vector de distribución__ $x^{(k)}$? __suponga__ $k=64$\n"
   ]
  },
  {
   "cell_type": "code",
   "execution_count": 7,
   "id": "dc27d4c3",
   "metadata": {},
   "outputs": [
    {
     "data": {
      "text/latex": [
       "$\\displaystyle x_{64} = [1519.99999988,  760.00000001,  380.00000005]$"
      ],
      "text/plain": [
       "<IPython.core.display.Math object>"
      ]
     },
     "metadata": {},
     "output_type": "display_data"
    }
   ],
   "source": [
    "x_64 = power_method(v,A,64)\n",
    "display(Math(r'x_{64} = ' +  np.array2string(x_64[63], separator=', '))) # imprimimos solo el resultado\n",
    "\n",
    "#descomente la linea siguiente si desea ver todas las iteraciones : \n",
    "#x_64"
   ]
  },
  {
   "cell_type": "markdown",
   "id": "14b5d682",
   "metadata": {},
   "source": [
    "La distribución de $x^{(k)}$ cuando $k=64$ es :\n",
    "$$\n",
    "X^{(64)} = \\begin{pmatrix}\n",
    "1519.999 \\\\\n",
    "760.000 \\\\\n",
    "380.000\n",
    "\\end{pmatrix}\n",
    "$$"
   ]
  },
  {
   "cell_type": "markdown",
   "id": "0b430e19",
   "metadata": {},
   "source": [
    "* El vector de distribución $ x^{(k)} $ nos proporciona información sobre cómo evoluciona la estructura de edades de la población después de $ k $ períodos de tiempo, en este caso, $ k = 64 $ años. Este vector representa el número de individuos en cada clase de edad después de transcurrir 64 años, considerando las tasas de natalidad y supervivencia definidas por el modelo de Leslie. Es una herramienta fundamental para comprender cómo cambia la composición de la población a lo largo del tiempo y cómo factores como la fertilidad y la mortalidad afectan su distribución por edad."
   ]
  },
  {
   "cell_type": "markdown",
   "id": "990c0950",
   "metadata": {},
   "source": [
    "# __Conclusión__ <a id=\"conclusion\"></a>\n",
    "\n",
    "<p style=\"text-align: justify;\">\n",
    "En conclusión, el cálculo de los autovalores y autovectores nos ha permitido comprender el comportamiento de sistemas de ecuaciones, tanto lineales como no lineales, así como entender su estructura subyacente. Del mismo modo, el estudio del modelo de Leslie nos ha proporcionado una comprensión más profunda de los cambios en la población en respuesta a factores como la natalidad y la supervivencia. A través de la aplicación de sistemas de ecuaciones, hemos podido predecir el comportamiento de la población a lo largo del tiempo. Estas herramientas nos brindan una sólida base para analizar y comprender dinámicas complejas en diversos campos. \n",
    "</p>\n",
    "<p style=\"text-align: justify;\">\n",
    "Según todo esto, pienso que es un paso más hacia el acercamiento a las ecuaciones diferenciales y posiblemente el estudio del modelo Leslie de anterior pueda permitirnos utilizar en algún momento el Sistema depredador-presa de ecuaciones diferenciales que, al igual que el modelo de Leslie, toma en cuenta la natalidad, pero este estudia también la interacción entre un depredador y una presa y cómo influye en su población respecto al tiempo.\n",
    "</p>\n",
    "\n"
   ]
  },
  {
   "cell_type": "markdown",
   "id": "d60b587c",
   "metadata": {},
   "source": [
    "# [inicio](#inicio)"
   ]
  }
 ],
 "metadata": {
  "kernelspec": {
   "display_name": "Python 3 (ipykernel)",
   "language": "python",
   "name": "python3"
  },
  "language_info": {
   "codemirror_mode": {
    "name": "ipython",
    "version": 3
   },
   "file_extension": ".py",
   "mimetype": "text/x-python",
   "name": "python",
   "nbconvert_exporter": "python",
   "pygments_lexer": "ipython3",
   "version": "3.11.0"
  },
  "nbTranslate": {
   "displayLangs": [
    "*"
   ],
   "hotkey": "alt-t",
   "langInMainMenu": true,
   "sourceLang": "en",
   "targetLang": "fr",
   "useGoogleTranslate": true
  }
 },
 "nbformat": 4,
 "nbformat_minor": 5
}
