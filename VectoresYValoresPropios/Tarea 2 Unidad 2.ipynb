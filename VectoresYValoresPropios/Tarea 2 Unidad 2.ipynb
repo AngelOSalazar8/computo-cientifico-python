{
 "cells": [
  {
   "cell_type": "markdown",
   "metadata": {},
   "source": [
    "# Unidad 2 Tarea 2\n",
    "\n",
    "# Ejercicios Método de la potencia\n",
    "\n",
    "+ ### Julian Emiliano Ortiz Rivero\n",
    "+ ### Angel Mariel Osalde Salazar\n",
    "+ ### Miguel Omar Solis Rodriguez \n",
    "\n"
   ]
  },
  {
   "cell_type": "markdown",
   "metadata": {},
   "source": [
    "# Introducción\n",
    "<p style=\"text-align: justify;\">\n",
    "En esta unidad, hemos estudiado los conceptos de eigenvalores y eigenvectores de una matriz, así como sus propiedades inherentes. Para finalizar la unidad, nos embarcamos en una serie de ejercicios que nos permiten aplicar y profundizar en este conocimiento adquirido.\n",
    "</p>\n",
    "<p style=\"text-align: justify;\">\n",
    "No solo nos limitamos a resolver problemas; también nos sumergimos en demostraciones que, al desentrañar su lógica matemática, nos brindan una comprensión más profunda de las aplicaciones de estos conceptos en diversos contextos.\n",
    "</p>\n",
    "<p style=\"text-align: justify;\">\n",
    "Finalmente, pero no menos importante, resolverenmos ejercicios de cómputo. Reconocemos que, si bien el dominio del conocimiento matemático es fundamental en nuestro campo, la capacidad de llevar estos principios a la práctica computacional es esencial. De esta manera, podemos aprovechar plenamente el poder de cálculo disponible y traducir nuestras ideas en aplicaciones de cómputo.\n",
    "</p>"
   ]
  },
  {
   "cell_type": "markdown",
   "metadata": {},
   "source": [
    "# __Índice__\n",
    "\n",
    "<ol>\n",
    "    <li><a href=\"#int\">Introducción</a></li>\n",
    "    <li><a href=\"#Indice\">Índice</a></li>\n",
    "    <li><a href=\"#voyva\">Ejercicios y demostraciones</a>\n",
    "        <ol type=\"i\">\n",
    "            <li><a href=\"#\">Ejercicio 4.1</a></li>\n",
    "            <ol type=\"a\">\n",
    "            <li><a href=\"#a\">Inciso a</a></li>\n",
    "            <li><a href=\"#b\">Inciso b</a></li>\n",
    "            </ol>\n",
    "            <li><a href=\"#\">Ejercicio 4.2</a></li>\n",
    "            <ol type=\"a\">\n",
    "            <li><a href=\"#a\">Inciso a</a></li>\n",
    "            <li><a href=\"#b\">Inciso b</a></li>\n",
    "            </ol>\n",
    "            <li><a href=\"#\">Ejercicio 4.3</a></li>\n",
    "            <ol type=\"a\">\n",
    "            <li><a href=\"#a\">Inciso a</a></li>\n",
    "            <li><a href=\"#b\">Inciso b</a></li>\n",
    "            <li><a href=\"#a\">Inciso c</a></li>\n",
    "            <li><a href=\"#b\">Inciso d</a></li>\n",
    "            <li><a href=\"#a\">Inciso e</a></li>\n",
    "            <li><a href=\"#b\">Inciso f</a></li>\n",
    "            <li><a href=\"#a\">Inciso g</a></li>\n",
    "            <li><a href=\"#b\">Inciso h</a></li>\n",
    "            <li><a href=\"#a\">Inciso i</a></li>\n",
    "            <li><a href=\"#b\">Inciso j</a></li>\n",
    "            </ol>\n",
    "            <li><a href=\"#\">Ejercicio 4.5</a></li>\n",
    "            <ol type=\"a\">\n",
    "            <li><a href=\"#a\">Inciso a</a></li>\n",
    "            <li><a href=\"#b\">Inciso b</a></li>\n",
    "            </ol>\n",
    "            <li><a href=\"#\">Ejercicio 4.12</a></li>\n",
    "            <li><a href=\"#\">Ejercicio 4.14</a></li>\n",
    "            <li><a href=\"#\">Ejercicio 4.16</a></li>\n",
    "        </ol>\n",
    "    </li>\n",
    "    <li><a href=\"#4\">Ejercicios de cómputo</a></li>\n",
    "    <ol type=\"i\">\n",
    "            <li><a href=\"#\">Ejercicio 4.1</a></li>\n",
    "                <ol type=\"a\">\n",
    "                    <li><a href=\"#a\">Inciso a</a></li>\n",
    "                </ol>\n",
    "            <li><a href=\"#\">Ejercicio 4.2</a></li>\n",
    "                <ol type=\"a\">\n",
    "                    <li><a href=\"#a\">Inciso a</a></li>\n",
    "                    <li><a href=\"#a\">Inciso c</a></li>\n",
    "                </ol>\n",
    "            <li><a href=\"#\">Ejercicio 4.4</a></li>\n",
    "            <li><a href=\"#\">Ejercicio 4.6</a></li>\n",
    "            <li><a href=\"#\">Ejercicio 4.14</a></li>\n",
    "                <ol type=\"a\">\n",
    "                    <li><a href=\"#a\">Inciso a</a></li>\n",
    "                    <li><a href=\"#a\">Inciso b</a></li>\n",
    "                </ol>\n",
    "    </ol>\n",
    "    <li><a href=\"#4\">Conclusíon</a></li>\n",
    "</ol>\n"
   ]
  },
  {
   "cell_type": "markdown",
   "metadata": {},
   "source": [
    "__4.1 (a)\tDemuestre que 5 es un eigenvalor de la matriz__<a id=\"1\"></a>\n",
    "$$\n",
    "\\begin{align}\n",
    "  A = \\begin{bmatrix}\n",
    "  6 & 3 & 3 & 1 \\\\\n",
    "  0 & 7 & 4 & 5 \\\\\n",
    "  0 & 0 & 5 & 4 \\\\\n",
    "  0 & 0 & 0 & 8 \\\\\n",
    "\\end{bmatrix}\n",
    "\\end{align}\n",
    "$$\n"
   ]
  },
  {
   "cell_type": "markdown",
   "metadata": {},
   "source": [
    "Para saber si 5 es un eigenvalor de la matriz, este debe ser una raiz del polinomio característico con $ p(5) = 0 $ donde $p(\\lambda) $ es el polinomio caracteristico.\n",
    "\n",
    "Utilizando la definición del polinomio característico $ p(\\lambda) = det(A - \\lambda I) $\n",
    "Se calcula el polinomio carcacterístico siendo : \n",
    "\n",
    "$$\n",
    "\\begin{align*}\n",
    "    p(\\lambda) = (\\lambda -  6)( \\lambda - 7) ( \\lambda - 5 )( \\lambda - 8)\\\\\n",
    "\\end{align*}\n",
    "$$\n",
    "\n",
    "Ahora $p(5) = (\\lambda -  6)( \\lambda - 7) ( 0 )( \\lambda - 8) = 0$, Así $\\lambda = 5$ es una raiz del polinomio característico. Entonces $ \\lambda = 5 $ es un valor propio de la matriz A.\n"
   ]
  },
  {
   "cell_type": "code",
   "execution_count": 1,
   "metadata": {},
   "outputs": [],
   "source": [
    "import numpy as np\n",
    "from scipy.linalg import expm\n",
    "import sympy as sp\n",
    "import pandas as pd\n"
   ]
  },
  {
   "cell_type": "code",
   "execution_count": 2,
   "metadata": {},
   "outputs": [
    {
     "name": "stdout",
     "output_type": "stream",
     "text": [
      "5 es un eigenvalor de la matriz A.\n"
     ]
    }
   ],
   "source": [
    "# Definición de la matriz A\n",
    "A = sp.Matrix([[6, 3, 3, 1], [0, 7, 4, 5], [0, 0, 5, 4], [0, 0, 0, 8]])\n",
    "\n",
    "# (a) Prove that 5 is an eigenvalue of the matrix A\n",
    "eigenvalores = A.eigenvals()\n",
    "if 5 in eigenvalores:\n",
    "    print(\"5 es un eigenvalor de la matriz A.\")\n",
    "else:\n",
    "    print(\"5 no es un eigenvalor de la matriz A.\")"
   ]
  },
  {
   "cell_type": "markdown",
   "metadata": {},
   "source": [
    "\n",
    "* **(b)\tCalcular un vector propio de A correspondiente al valor propio 5.**"
   ]
  },
  {
   "cell_type": "markdown",
   "metadata": {},
   "source": [
    "Para $ \\lambda = 5$ resolvemos $(A - \\lambda I) = 0 $, o bien : \n",
    "$$\n",
    "\\begin{align*}\n",
    "    A = \\begin{pmatrix}\n",
    "      1 & 3 & 3 & 1 \\\\\n",
    "      0 & 2 & 4 & 5 \\\\\n",
    "      0 & 0 & 0 & 4 \\\\\n",
    "      0 & 0 & 0 & 3 \\\\\n",
    "    \\end{pmatrix}\n",
    "    \\begin{pmatrix}\n",
    "      x_1 \\\\\n",
    "       x_2\\\\\n",
    "       x_3 \\\\\n",
    "       x_4\n",
    "    \\end{pmatrix}\n",
    "    =\n",
    "    \\begin{pmatrix}\n",
    "      0 \\\\\n",
    "       0\\\\\n",
    "       0 \\\\\n",
    "       0\n",
    "    \\end{pmatrix}\n",
    "\\end{align*}\n",
    "$$ \n",
    "\n",
    "De esta manera $ x_4 = 0, 2x_2 + 4x_3 = 0, x_1 - 3 x_3 = 0 $ y un vector propio es :\n",
    "$$\n",
    "\\begin{align*}\n",
    "  x = \\begin{pmatrix}\n",
    "      3 \\\\\n",
    "       -2\\\\\n",
    "       1 \\\\\n",
    "       0\n",
    "    \\end{pmatrix}\n",
    "\\end{align*}\n",
    "$$\n",
    "Entonces, cualquier múltiplo no nulo de $  x = \\begin{pmatrix}  3 \\\\ -2\\\\ 1 \\\\  0 \\end{pmatrix} $\n",
    "es un vector propio de A correspondiente el valor propio $\\lambda = 5 $"
   ]
  },
  {
   "cell_type": "code",
   "execution_count": 3,
   "metadata": {},
   "outputs": [
    {
     "name": "stdout",
     "output_type": "stream",
     "text": [
      "El eigenvector de A corresponde al eigenvalor 5: \n",
      "Matrix([[3], [-2], [1], [0]])\n"
     ]
    }
   ],
   "source": [
    "# (b) Exhibit an eigenvector of A corresponding to the eigenvalue 5\n",
    "eigenvectores = A.eigenvects()\n",
    "for eigenval, multiplicity, eigenvect_list in eigenvectores:\n",
    "    if eigenval == 5:\n",
    "        eigenvect = eigenvect_list[0]  # Selecting one eigenvector\n",
    "        print(\"El eigenvector de A corresponde al eigenvalor 5: \")\n",
    "        print(eigenvect)\n",
    "        break\n"
   ]
  },
  {
   "cell_type": "markdown",
   "metadata": {},
   "source": [
    "__4.2  ¿Cuáles son los valores propios y los correspondientes vectores propios de la siguiente matriz?__\n",
    "$$\n",
    "\\begin{align}\n",
    " A =  \\begin{bmatrix}\n",
    "  1 & 2 & -4 \\\\\n",
    "  0 & 2 & 1 \\\\\n",
    "  0 & 0 & 3\n",
    "\\end{bmatrix}\n",
    "\\end{align}\n",
    "$$"
   ]
  },
  {
   "cell_type": "markdown",
   "metadata": {},
   "source": [
    "Se puede observar que la matriz A es triangular superior, entonces por propiedades de la matriz triangular, se tiene que sus valores propios son sus entradas diagonales, es decir, $ \\lambda_1 = 1, \\quad \\lambda_2 = 2, \\quad \\lambda_3 = 3 $"
   ]
  },
  {
   "cell_type": "markdown",
   "metadata": {},
   "source": [
    "* Para $\\lambda_1 = 1$ tenemos \n",
    "$$\n",
    "\\begin{align*}\n",
    "  (A - I)x \n",
    "  =\n",
    "  \\begin{bmatrix}\n",
    "    0 & 2 & -4 \\\\\n",
    "    0 & 1 & 1 \\\\\n",
    "    0 & 0 & 2\n",
    "  \\end{bmatrix} \n",
    "  \\begin{bmatrix}\n",
    "    x_1 \\\\\n",
    "     x_2 \\\\\n",
    "     x_3 \n",
    "  \\end{bmatrix} \n",
    "  =\n",
    "  \\begin{bmatrix}\n",
    "    0 \\\\\n",
    "     0 \\\\\n",
    "     0 \n",
    "  \\end{bmatrix} \n",
    "\\end{align*}\n",
    "$$\n",
    "\n",
    "De esta manera $x_3 = 0,\\quad x_2 = -x_3,\\quad x_2 = 2x_3$ y un vector propio es : \n",
    "$$\n",
    "\\begin{align*}\n",
    "  x = \\begin{bmatrix}\n",
    "    1 \\\\\n",
    "     0 \\\\\n",
    "     0 \n",
    "  \\end{bmatrix} \n",
    "\\end{align*}\n",
    "$$"
   ]
  },
  {
   "cell_type": "markdown",
   "metadata": {},
   "source": [
    "* Para $ \\lambda = 2 $ tenemos \n",
    "$$\n",
    "\\begin{align*}\n",
    "  (A - 2I)x \n",
    "  =\n",
    "  \\begin{bmatrix}\n",
    "    -1 & 2 & -4 \\\\\n",
    "    0 & 0 & 1 \\\\\n",
    "    0 & 0 & 1\n",
    "  \\end{bmatrix} \n",
    "  \\begin{bmatrix}\n",
    "    x_1 \\\\\n",
    "     x_2 \\\\\n",
    "     x_3 \n",
    "  \\end{bmatrix} \n",
    "  =\n",
    "  \\begin{bmatrix}\n",
    "    0 \\\\\n",
    "     0 \\\\\n",
    "     0 \n",
    "  \\end{bmatrix} \n",
    "\\end{align*}\n",
    "$$\n",
    "De esta manera $x_3 = 0,\\quad x_1 = 2x_2 $ y un vector propio es : \n",
    "$$\n",
    "\\begin{align*}\n",
    "  x = \\begin{bmatrix}\n",
    "     2\\\\\n",
    "     1 \\\\\n",
    "     0 \n",
    "  \\end{bmatrix} \n",
    "\\end{align*}\n",
    "$$"
   ]
  },
  {
   "cell_type": "markdown",
   "metadata": {},
   "source": [
    "* Para $ \\lambda = 3 $ tenemos \n",
    "$$\n",
    "\\begin{align*}\n",
    "  (A - 3I)x \n",
    "  =\n",
    "  \\begin{bmatrix}\n",
    "    -2 & 2 & -4 \\\\\n",
    "    0 & -1 & 1 \\\\\n",
    "    0 & 0 & 0\n",
    "  \\end{bmatrix} \n",
    "  \\begin{bmatrix}\n",
    "    x_1 \\\\\n",
    "     x_2 \\\\\n",
    "     x_3 \n",
    "  \\end{bmatrix} \n",
    "  =\n",
    "  \\begin{bmatrix}\n",
    "    0 \\\\\n",
    "     0 \\\\\n",
    "     0 \n",
    "  \\end{bmatrix} \n",
    "\\end{align*}\n",
    "$$\n",
    "De esta manera $x_2 = x_3,\\quad x_1 = -x_3 $ y un vector propio es : \n",
    "$$\n",
    "\\begin{align*}\n",
    "  x = \\begin{bmatrix}\n",
    "     -1\\\\\n",
    "     1 \\\\\n",
    "     1 \n",
    "  \\end{bmatrix} \n",
    "\\end{align*}\n",
    "$$"
   ]
  },
  {
   "cell_type": "code",
   "execution_count": 4,
   "metadata": {},
   "outputs": [
    {
     "name": "stdout",
     "output_type": "stream",
     "text": [
      "Eigenvalue λ_1: 3\n",
      "Eigenvalue λ_2: 2\n",
      "Eigenvalue λ_3: 1\n",
      "\n",
      "\n",
      "Eigenvector de λ_1:\n",
      "Matrix([[1], [0], [0]])\n",
      "Eigenvector de λ_2:\n",
      "Matrix([[2], [1], [0]])\n",
      "Eigenvector de λ_3:\n",
      "Matrix([[-1], [1], [1]])\n"
     ]
    }
   ],
   "source": [
    "# definición de variables\n",
    "A = sp.Matrix([[1, 2, -4], [0, 2, 1], [0, 0, 3]])\n",
    "eigenvalores = A.eigenvals()\n",
    "eigenvectores = A.eigenvects()\n",
    "\n",
    "# Imprime los eigenvalores\n",
    "for i, eigenval in enumerate(eigenvalores):\n",
    "    print(f\"Eigenvalue λ_{i+1}: {eigenval}\")\n",
    "print(\"\\n\")\n",
    "# Imprime los eigenvectores\n",
    "for i, (eigenval, multiplicity, eigenvect) in enumerate(eigenvectores):\n",
    "    print(f\"Eigenvector de λ_{i+1}:\")\n",
    "    for vector in eigenvect:\n",
    "        print(vector)\n",
    "\n"
   ]
  },
  {
   "cell_type": "markdown",
   "metadata": {},
   "source": [
    "__4.3 Sea :__ \n",
    "$$\n",
    "\\begin{align}\n",
    "    A = \\begin{bmatrix}\n",
    " 1  & 4 \\\\\n",
    " 1  & 1 \\\\\n",
    "\\end{bmatrix}\n",
    "\\end{align}\n",
    "$$\n"
   ]
  },
  {
   "cell_type": "code",
   "execution_count": 28,
   "metadata": {},
   "outputs": [],
   "source": [
    "# from numpy.linalg import inv\n",
    "\n",
    "# Definición de la matriz A\n",
    "A = sp.Matrix([[1, 4], [1, 1]])\n",
    "\n",
    "# Calcula los eigenvalores y sus multiplicidades\n",
    "eigenvalores = A.eigenvals()\n",
    "eigenvectores = A.eigenvects()\n",
    "\n",
    "# Construye el polinomio característico\n",
    "λ = sp.symbols('λ')\n",
    "polinomio_caracteristico = A.charpoly(λ).as_expr()\n"
   ]
  },
  {
   "cell_type": "markdown",
   "metadata": {},
   "source": [
    "\n",
    "Las respuestas a las siguientes preguntas deben ser numéricas y específicas a esta matriz en particular, no sólo a las definiciones generales.\n",
    "\n",
    "* **(a)¿Cuál es el polinomio característico de A?**\n"
   ]
  },
  {
   "cell_type": "markdown",
   "metadata": {},
   "source": [
    "Sea $ A = \\begin{bmatrix} 1 & 4 \\\\ 1 & 1 \\\\ \\end{bmatrix} $. \n",
    "Entonces \n",
    "$$\n",
    "\\begin{align*}\n",
    "    P(\\lambda) &= det(A-\\lambda I) \n",
    "    &&=\n",
    "    \\left |\n",
    "    \\begin{bmatrix}\n",
    "      1 - \\lambda & 4 \\\\\n",
    "     1  & 1 - \\lambda \\\\\n",
    "    \\end{bmatrix}\n",
    "    \\right | \\\\\n",
    "    &= (1 - \\lambda)^2 - 4 &&= \\lambda^2 - 2 \\lambda - 3 \\\\\n",
    "\\end{align*}\n",
    "$$"
   ]
  },
  {
   "cell_type": "markdown",
   "metadata": {},
   "source": [
    "Por lo tanto el polinomio caracteristico es : $ \\lambda^2 - 2 \\lambda - 3 $"
   ]
  },
  {
   "cell_type": "code",
   "execution_count": 29,
   "metadata": {},
   "outputs": [
    {
     "data": {
      "image/png": "[encoded data removed]",
      "text/latex": [
       "$\\displaystyle λ^{2} - 2 λ - 3$"
      ],
      "text/plain": [
       " 2          \n",
       "λ  - 2⋅λ - 3"
      ]
     },
     "execution_count": 29,
     "metadata": {},
     "output_type": "execute_result"
    }
   ],
   "source": [
    "polinomio_caracteristico"
   ]
  },
  {
   "cell_type": "markdown",
   "metadata": {},
   "source": [
    "\n",
    "* (b) ¿Cuáles son las raíces del polinomio característico asociado a la matriz A?\n"
   ]
  },
  {
   "cell_type": "markdown",
   "metadata": {},
   "source": [
    "Considere el polinomio característico $ P(\\lambda) = \\lambda ^2 - 2\\lambda -3$ asosiado a la matriz A. Entonces podemos factorizarlo como :\n",
    "$$\n",
    "\\begin{align*}\n",
    "    &P(\\lambda) = \\lambda ^2 - 2\\lambda -3 \\\\\n",
    "    &P(\\lambda) = (\\lambda+1)(\\lambda -3)\\\\ \\\\\n",
    "\\end{align*}\n",
    "$$\n",
    "Las raíces de $P(\\lambda) $ son aquellos valores tal que $P(\\lambda) = 0 $, es decir, $ (\\lambda+1)(\\lambda -3) = 0 $. Entonces $\\lambda_1 = -1 \\quad y \\quad \\lambda_2 = 3. $"
   ]
  },
  {
   "cell_type": "code",
   "execution_count": 7,
   "metadata": {},
   "outputs": [
    {
     "name": "stdout",
     "output_type": "stream",
     "text": [
      "Root 1: -1\n",
      "Root 2: 3\n"
     ]
    }
   ],
   "source": [
    "roots = sp.solve(polinomio_caracteristico, λ)\n",
    "for i, root in enumerate(roots):\n",
    "    print(f\"Root {i+1}: {root}\")"
   ]
  },
  {
   "cell_type": "markdown",
   "metadata": {},
   "source": [
    "* (c)  **¿Cuáles son los valores propios de la matriz A?**"
   ]
  },
  {
   "cell_type": "markdown",
   "metadata": {},
   "source": [
    "Como $\\lambda_1 = -1 \\quad y \\quad \\lambda_2 = 3. $ satisfacen $ P(\\lambda) = det(A-\\lambda I) = \\lambda ^2 - 2\\lambda -3 $ entonces $ \\lambda_1 , \\lambda_2 $ son valores propios de la matriz A."
   ]
  },
  {
   "cell_type": "code",
   "execution_count": 8,
   "metadata": {},
   "outputs": [
    {
     "name": "stdout",
     "output_type": "stream",
     "text": [
      "Eigenvalue λ_1: 3\n",
      "Eigenvalue λ_2: -1\n"
     ]
    }
   ],
   "source": [
    "for i, eigenval in enumerate(eigenvalores):\n",
    "    print(f\"Eigenvalue λ_{i+1}: {eigenval}\")\n"
   ]
  },
  {
   "cell_type": "markdown",
   "metadata": {},
   "source": [
    "\n",
    "* **(d) ¿Cuáles son los correspondientes vectores propios de la matriz A?**\n"
   ]
  },
  {
   "cell_type": "markdown",
   "metadata": {},
   "source": [
    " + Para $ \\lambda_1 = -1 $ tenemos\n",
    "$$\n",
    "\\begin{align*}\n",
    "  (A + I)x \n",
    "  =\n",
    "  \\begin{bmatrix}\n",
    "    2 & 4 \\\\\n",
    "    1 & 2 \n",
    "  \\end{bmatrix} \n",
    "  \\begin{bmatrix}\n",
    "    x_1 \\\\\n",
    "     x_2  \n",
    "  \\end{bmatrix} \n",
    "  =\n",
    "  \\begin{bmatrix}\n",
    "    0 \\\\\n",
    "     0  \n",
    "  \\end{bmatrix} \n",
    "\\end{align*}\n",
    "$$\n",
    "De esta manera $x_1 = -2x_2,\\quad 0 \\quad x_2 = -1/2x_1 $ y un vector propio es : \n",
    "$$\n",
    "\\begin{align*}\n",
    "  x = \\begin{bmatrix}\n",
    "     1\\\\\n",
    "     -1/2 \n",
    "  \\end{bmatrix} \n",
    "\\end{align*}\n",
    "$$"
   ]
  },
  {
   "cell_type": "markdown",
   "metadata": {},
   "source": [
    " + Para $ \\lambda_2 = 3 $ tenemos\n",
    "$$\n",
    "\\begin{align*}\n",
    "  (A -3I)x \n",
    "  =\n",
    "  \\begin{bmatrix}\n",
    "    -2 & 4 \\\\\n",
    "    1 & -2 \n",
    "  \\end{bmatrix} \n",
    "  \\begin{bmatrix}\n",
    "    x_1 \\\\\n",
    "     x_2  \n",
    "  \\end{bmatrix} \n",
    "  =\n",
    "  \\begin{bmatrix}\n",
    "    0 \\\\\n",
    "     0  \n",
    "  \\end{bmatrix} \n",
    "\\end{align*}\n",
    "$$\n",
    "De esta manera $x_1 = 2x_2,\\quad 0 \\quad x_2 = 1/2x_1 $ y un vector propio es : \n",
    "$$\n",
    "\\begin{align*}\n",
    "  x = \\begin{bmatrix}\n",
    "     1\\\\\n",
    "     1/2 \n",
    "  \\end{bmatrix} \n",
    "\\end{align*}\n",
    "$$"
   ]
  },
  {
   "cell_type": "code",
   "execution_count": 9,
   "metadata": {},
   "outputs": [
    {
     "name": "stdout",
     "output_type": "stream",
     "text": [
      "Eigenvector de λ_1:\n",
      "Matrix([[-2], [1]])\n",
      "Eigenvector de λ_2:\n",
      "Matrix([[2], [1]])\n"
     ]
    }
   ],
   "source": [
    "\n",
    "for i, (eigenval, multiplicity, eigenvect) in enumerate(eigenvectores):\n",
    "    print(f\"Eigenvector de λ_{i+1}:\")\n",
    "    for vector in eigenvect:\n",
    "        print(vector)"
   ]
  },
  {
   "cell_type": "markdown",
   "metadata": {},
   "source": [
    "* **(e) Realiza una iteración del método de la potencia sobre A, utilizando $ X_0 =  \\begin{bmatrix} 1 \\\\ 1 \\end{bmatrix} $ como vector inicial.**"
   ]
  },
  {
   "cell_type": "markdown",
   "metadata": {},
   "source": [
    "Definimos librerias y métodos a usar."
   ]
  },
  {
   "cell_type": "code",
   "execution_count": 10,
   "metadata": {},
   "outputs": [],
   "source": [
    "import numpy as np\n",
    "from sympy import * \n",
    "init_printing(use_unicode=True) \n",
    "import pandas as pd\n",
    "from numpy.linalg import inv\n",
    "\n",
    "np.set_printoptions(suppress=True)"
   ]
  },
  {
   "cell_type": "code",
   "execution_count": 11,
   "metadata": {},
   "outputs": [],
   "source": [
    "def rayleigh_Quotient(matrix, vector):\n",
    "    numerador = np.dot(vector.T, np.dot(matrix, vector))\n",
    "    denominador = np.dot(vector.T, vector)\n",
    "    rq = numerador / denominador\n",
    "    return rq\n",
    "\n",
    "def normalize(x):\n",
    "    fac = abs(x).max()\n",
    "    x_n = x / x.max()\n",
    "    return fac, x_n\n",
    "\n",
    "def powerMethodN(a,x,iter):\n",
    "    result = pd.DataFrame(columns=['x_k', 'norm(y)_infinity'])\n",
    "    result.loc[0] = [x,'---']\n",
    "    for i in range(iter-1):\n",
    "        x = np.dot(a,x)\n",
    "        lambda_1,x = normalize(x)\n",
    "        result.loc[i+1]= [x,lambda_1]\n",
    "    return result\n",
    "    \n",
    "def powerMethods(a,x,iter):\n",
    "    for i in range(iter-1):\n",
    "        x = np.dot(a,x)\n",
    "        result = x \n",
    "        print(\"metodo de las potencias\")\n",
    "        print(i+1,x)\n",
    "    \n",
    "\n",
    "def PowerMethodsRQ(a, x, iter):\n",
    "    result = pd.DataFrame(columns=['x_k', 'norm(y)_infinity', 'RQ'])\n",
    "    # x debe ser un vector no nulo en Rn\n",
    "    # a se asume que la matriz A tiene un eigenvalor dominante con los correspondientes eigenvectores dominantes\n",
    "    \n",
    "    # Calcular el cociente de Rayleigh inicial\n",
    "    rq = rayleigh_Quotient(a, x)\n",
    "    result.loc[0] = [x, '---', rq]\n",
    "    \n",
    "    for i in range(iter-1):\n",
    "        # Aplicar el método de la potencia\n",
    "        x = np.dot(a, x)\n",
    "        # Normalizar el vector resultante y calcular el cociente de Rayleigh\n",
    "        lambda_1, x = normalize(x)\n",
    "        rq = rayleigh_Quotient(a, x) \n",
    "        # Registrar los resultados en el dataframe\n",
    "        result.loc[i+1] = [x, lambda_1, rq]\n",
    "        \n",
    "    return result\n",
    "\n",
    "def RQI(a,x,itera):\n",
    "    result = pd.DataFrame(columns=['x_k','norm(y)_infinity', 'RQ'])\n",
    "    rq = np.dot(x.T, np.dot(a, x)) / np.dot(x.T, x)\n",
    "    x=np.dot(a-rq*np.eye(2),x)\n",
    "    result.loc[0]=[x,'---',rq]\n",
    "    for i in range(itera-1):\n",
    "        x = np.dot(a, x)\n",
    "        # normalizamos\n",
    "        x /= np.linalg.norm(x, np.inf)\n",
    "        rq = np.dot(x.T, np.dot(a, x)) / np.dot(x.T, x)\n",
    "        a = a-rq*np.eye(2)\n",
    "        result.loc[i+1]=[x, np.linalg.norm(np.dot(a, x), np.inf), rq]\n",
    "    return result\n",
    "\n",
    "def powerMethod_inv(a,x,itera):\n",
    "    \"\"\" metodo de la potencia inversa\"\"\"\n",
    "    \n",
    "    result = pd.DataFrame(columns=['x_k','norm(y)_infinity'])\n",
    "    a_inv = inv(a)\n",
    "    result.loc[0] = [x,'---']\n",
    "    for i in range(itera-1):\n",
    "        x = np.dot(a_inv,x)\n",
    "        lamba_1, x = normalize(x)\n",
    "        result.loc[i+1] = [x, lamba_1]\n",
    "    return result\n",
    "\n",
    "\n",
    "def qr_iteration(A,num_iter=3):\n",
    "    n = A.shape[0]\n",
    "    Q = np.eye(n)\n",
    "    \n",
    "    for i in range(num_iter):\n",
    "        Q,R = np.linalg.qr(A @ Q)\n",
    "        A = R @ Q \n",
    "        print ( f\"iteracion {i+1}:\\n {A}\")\n",
    "    eigenvalues = np.diag(A)\n",
    "    return eigenvalues\n"
   ]
  },
  {
   "cell_type": "markdown",
   "metadata": {},
   "source": [
    "Resolvemos para (e)"
   ]
  },
  {
   "cell_type": "code",
   "execution_count": 12,
   "metadata": {},
   "outputs": [
    {
     "name": "stdout",
     "output_type": "stream",
     "text": [
      "metodo de las potencias\n",
      "1 [5 2]\n"
     ]
    },
    {
     "data": {
      "text/html": [
       "<div>\n",
       "<style scoped>\n",
       "    .dataframe tbody tr th:only-of-type {\n",
       "        vertical-align: middle;\n",
       "    }\n",
       "\n",
       "    .dataframe tbody tr th {\n",
       "        vertical-align: top;\n",
       "    }\n",
       "\n",
       "    .dataframe thead th {\n",
       "        text-align: right;\n",
       "    }\n",
       "</style>\n",
       "<table border=\"1\" class=\"dataframe\">\n",
       "  <thead>\n",
       "    <tr style=\"text-align: right;\">\n",
       "      <th></th>\n",
       "      <th>x_k</th>\n",
       "      <th>norm(y)_infinity</th>\n",
       "    </tr>\n",
       "  </thead>\n",
       "  <tbody>\n",
       "    <tr>\n",
       "      <th>0</th>\n",
       "      <td>[1, 1]</td>\n",
       "      <td>---</td>\n",
       "    </tr>\n",
       "    <tr>\n",
       "      <th>1</th>\n",
       "      <td>[1.0, 0.4]</td>\n",
       "      <td>5</td>\n",
       "    </tr>\n",
       "  </tbody>\n",
       "</table>\n",
       "</div>"
      ],
      "text/plain": [
       "          x_k norm(y)_infinity\n",
       "0      [1, 1]              ---\n",
       "1  [1.0, 0.4]                5"
      ]
     },
     "execution_count": 12,
     "metadata": {},
     "output_type": "execute_result"
    }
   ],
   "source": [
    "# iteramos una vez en el metodo de la potencia\n",
    "x = np.array([1,1]) \n",
    "a = np.array([[1,4],\n",
    "              [1,1]])\n",
    "\n",
    "itera = 2\n",
    "\n",
    "powerMethods(a,x,itera)\n",
    "powerMethodN(a,x,itera)\n"
   ]
  },
  {
   "cell_type": "markdown",
   "metadata": {},
   "source": [
    "\n",
    "* **(f)  ¿A qué vector propio de A convergerá finalmente el método de la potencia?**\n"
   ]
  },
  {
   "cell_type": "markdown",
   "metadata": {},
   "source": [
    "(f)  Elejimos un vector inicial $x_0$:\n",
    "$$\n",
    "\\begin{align}\n",
    "    x_0 = \\begin{bmatrix}\n",
    "  1\\\\\n",
    "  1\n",
    "\\end{bmatrix}\n",
    "\\end{align}\n",
    "$$\n",
    "y aplicamos el metodo de iteracion de potencia con el cociente de rayleigh para determinar la convergencia."
   ]
  },
  {
   "cell_type": "code",
   "execution_count": 13,
   "metadata": {},
   "outputs": [
    {
     "data": {
      "text/html": [
       "<div>\n",
       "<style scoped>\n",
       "    .dataframe tbody tr th:only-of-type {\n",
       "        vertical-align: middle;\n",
       "    }\n",
       "\n",
       "    .dataframe tbody tr th {\n",
       "        vertical-align: top;\n",
       "    }\n",
       "\n",
       "    .dataframe thead th {\n",
       "        text-align: right;\n",
       "    }\n",
       "</style>\n",
       "<table border=\"1\" class=\"dataframe\">\n",
       "  <thead>\n",
       "    <tr style=\"text-align: right;\">\n",
       "      <th></th>\n",
       "      <th>x_k</th>\n",
       "      <th>norm(y)_infinity</th>\n",
       "      <th>RQ</th>\n",
       "    </tr>\n",
       "  </thead>\n",
       "  <tbody>\n",
       "    <tr>\n",
       "      <th>9</th>\n",
       "      <td>[1.0, 0.4999830651989839]</td>\n",
       "      <td>3.000203</td>\n",
       "      <td>2.999959</td>\n",
       "    </tr>\n",
       "  </tbody>\n",
       "</table>\n",
       "</div>"
      ],
      "text/plain": [
       "                         x_k norm(y)_infinity        RQ\n",
       "9  [1.0, 0.4999830651989839]         3.000203  2.999959"
      ]
     },
     "execution_count": 13,
     "metadata": {},
     "output_type": "execute_result"
    }
   ],
   "source": [
    "# Define la matriz A\n",
    "A = np.array([[1, 4], [1, 1]])\n",
    "\n",
    "# Define el vector inicial x_0\n",
    "x_0 = np.array([1, 1])\n",
    "\n",
    "resultados = PowerMethodsRQ(A,x_0,10)\n",
    "pd.DataFrame(resultados.iloc[9]).transpose()\n"
   ]
  },
  {
   "cell_type": "markdown",
   "metadata": {},
   "source": [
    "Por lo tanto el eigenvector hacia la cual converge la irateración de potencia es aproximadamente : \n",
    "$$\n",
    "\\begin{align}\n",
    "    v \\approx \\begin{bmatrix}\n",
    "      1.0\\\\\n",
    "      0.5\n",
    "    \\end{bmatrix}\n",
    "\\end{align}\n",
    "$$"
   ]
  },
  {
   "cell_type": "markdown",
   "metadata": {},
   "source": [
    "\n",
    "* **(g)  ¿Qué estimación de valor propio viene dada por el cociente de Rayleigh, utilizando el vector $ x = \\begin{bmatrix} 1 & 1 \\\\ \\end{bmatrix}^T $ ?**\n"
   ]
  },
  {
   "cell_type": "code",
   "execution_count": 14,
   "metadata": {},
   "outputs": [
    {
     "data": {
      "image/png": "[encoded data removed]",
      "text/latex": [
       "$\\displaystyle 3.5$"
      ],
      "text/plain": [
       "3.5"
      ]
     },
     "execution_count": 14,
     "metadata": {},
     "output_type": "execute_result"
    }
   ],
   "source": [
    "x = np.array([1,1]) \n",
    "a = np.array([[1,4],[1,1]]) \n",
    "\n",
    "rayleigh_Quotient(a,x)"
   ]
  },
  {
   "cell_type": "markdown",
   "metadata": {},
   "source": [
    "\n",
    "* **(h) ¿A qué vector propio de A convergería finalmente la iteración inversa?**\n"
   ]
  },
  {
   "cell_type": "code",
   "execution_count": 15,
   "metadata": {},
   "outputs": [
    {
     "data": {
      "text/html": [
       "<div>\n",
       "<style scoped>\n",
       "    .dataframe tbody tr th:only-of-type {\n",
       "        vertical-align: middle;\n",
       "    }\n",
       "\n",
       "    .dataframe tbody tr th {\n",
       "        vertical-align: top;\n",
       "    }\n",
       "\n",
       "    .dataframe thead th {\n",
       "        text-align: right;\n",
       "    }\n",
       "</style>\n",
       "<table border=\"1\" class=\"dataframe\">\n",
       "  <thead>\n",
       "    <tr style=\"text-align: right;\">\n",
       "      <th></th>\n",
       "      <th>x_k</th>\n",
       "      <th>norm(y)_infinity</th>\n",
       "    </tr>\n",
       "  </thead>\n",
       "  <tbody>\n",
       "    <tr>\n",
       "      <th>0</th>\n",
       "      <td>[1, 1]</td>\n",
       "      <td>---</td>\n",
       "    </tr>\n",
       "    <tr>\n",
       "      <th>1</th>\n",
       "      <td>[1.0, 0.0]</td>\n",
       "      <td>1.0</td>\n",
       "    </tr>\n",
       "    <tr>\n",
       "      <th>2</th>\n",
       "      <td>[-0.9999999999999998, 1.0]</td>\n",
       "      <td>0.333333</td>\n",
       "    </tr>\n",
       "    <tr>\n",
       "      <th>3</th>\n",
       "      <td>[1.0, -0.39999999999999997]</td>\n",
       "      <td>1.666667</td>\n",
       "    </tr>\n",
       "    <tr>\n",
       "      <th>4</th>\n",
       "      <td>[-1.857142857142857, 1.0]</td>\n",
       "      <td>0.866667</td>\n",
       "    </tr>\n",
       "    <tr>\n",
       "      <th>5</th>\n",
       "      <td>[1.0, -0.48780487804878053]</td>\n",
       "      <td>1.952381</td>\n",
       "    </tr>\n",
       "    <tr>\n",
       "      <th>6</th>\n",
       "      <td>[-1.9836065573770492, 1.0]</td>\n",
       "      <td>0.98374</td>\n",
       "    </tr>\n",
       "    <tr>\n",
       "      <th>7</th>\n",
       "      <td>[1.0, -0.49863013698630143]</td>\n",
       "      <td>1.994536</td>\n",
       "    </tr>\n",
       "    <tr>\n",
       "      <th>8</th>\n",
       "      <td>[-1.9981718464351004, 1.0]</td>\n",
       "      <td>0.998174</td>\n",
       "    </tr>\n",
       "    <tr>\n",
       "      <th>9</th>\n",
       "      <td>[1.0, -0.4998476074367571]</td>\n",
       "      <td>1.999391</td>\n",
       "    </tr>\n",
       "  </tbody>\n",
       "</table>\n",
       "</div>"
      ],
      "text/plain": [
       "                           x_k norm(y)_infinity\n",
       "0                       [1, 1]              ---\n",
       "1                   [1.0, 0.0]              1.0\n",
       "2   [-0.9999999999999998, 1.0]         0.333333\n",
       "3  [1.0, -0.39999999999999997]         1.666667\n",
       "4    [-1.857142857142857, 1.0]         0.866667\n",
       "5  [1.0, -0.48780487804878053]         1.952381\n",
       "6   [-1.9836065573770492, 1.0]          0.98374\n",
       "7  [1.0, -0.49863013698630143]         1.994536\n",
       "8   [-1.9981718464351004, 1.0]         0.998174\n",
       "9   [1.0, -0.4998476074367571]         1.999391"
      ]
     },
     "execution_count": 15,
     "metadata": {},
     "output_type": "execute_result"
    }
   ],
   "source": [
    "x = np.array([1, 1])\n",
    "a = np.array([[1,4],[1,1]]) \n",
    "itera=10 \n",
    "powerMethod_inv(a,x,itera)"
   ]
  },
  {
   "cell_type": "markdown",
   "metadata": {},
   "source": [
    "Convergerá a un múltiplo de vector propio correspondiente al valor propio de menor magnitud : \n",
    "$$\n",
    "\\begin{align*}\n",
    "  x =   \\begin{bmatrix}\n",
    "       1\\\\\n",
    "       -0.5\n",
    "    \\end{bmatrix}\n",
    "\\end{align*}\n",
    "$$"
   ]
  },
  {
   "cell_type": "markdown",
   "metadata": {},
   "source": [
    "\n",
    "* **$(i)$ ¿Qué valor propio de A se obtendría si iteración inversa con desplazamiento σ = 2?**\n"
   ]
  },
  {
   "cell_type": "code",
   "execution_count": 16,
   "metadata": {},
   "outputs": [
    {
     "name": "stdout",
     "output_type": "stream",
     "text": [
      "Eigenvalue: 3.0\n"
     ]
    }
   ],
   "source": [
    "x = np.array([1, 1])\n",
    "A = np.array([[1,4],[1,1]]) \n",
    "shift = 2\n",
    "max_iter = 100\n",
    "tol = 1e-6\n",
    "for i in range(max_iter):\n",
    "    x = np.linalg.solve(A - shift * np.eye(A.shape[0]),x)\n",
    "    x = x/np.linalg.norm(x)\n",
    "    eigenvalue = np.dot(x.T, np.dot(A, x)) / np.dot(x.T, x)\n",
    "    if np.abs(np.dot(A,x)-shift * x).max() < tol: break\n",
    "\n",
    "print(\"Eigenvalue:\",eigenvalue)"
   ]
  },
  {
   "cell_type": "markdown",
   "metadata": {},
   "source": [
    "\n",
    "* **(j) Si se aplicara la iteración QR a la matriz A, a qué forma convergería: ¿diagonal o triangular? ¿Por qué?**\n",
    "\n"
   ]
  },
  {
   "cell_type": "code",
   "execution_count": 17,
   "metadata": {},
   "outputs": [
    {
     "name": "stdout",
     "output_type": "stream",
     "text": [
      "iteracion 1:\n",
      " [[ 3.5 -1.5]\n",
      " [ 1.5 -1.5]]\n",
      "iteracion 2:\n",
      " [[-1.41421356  3.53553391]\n",
      " [-0.         -2.12132034]]\n",
      "iteracion 3:\n",
      " [[ 1.41421356 -3.53553391]\n",
      " [-0.         -2.12132034]]\n",
      "Eigenvalores : [ 1.41421356 -2.12132034]\n"
     ]
    }
   ],
   "source": [
    "\n",
    "A = np.array([[1,4],[1,1]]) \n",
    "eigenvalores = qr_iteration(A)\n",
    "print(\"Eigenvalores :\",eigenvalores)"
   ]
  },
  {
   "cell_type": "markdown",
   "metadata": {},
   "source": [
    "Por lo tanto convergera a una matriz triangular, ya que A no es simétrica"
   ]
  },
  {
   "cell_type": "markdown",
   "metadata": {},
   "source": [
    "__4.5. Supongamos que todas las sumas de fila de una matriz n × n matriz A tienen el mismo valor, digamos, α.__\n"
   ]
  },
  {
   "cell_type": "markdown",
   "metadata": {},
   "source": [
    "* (a) **Demuestre que α es un valor propio de A.**\n",
    "\n",
    "Primero expresamos comodamente lo que nos dicen : \n",
    "\n",
    "$\\text{\"Supongamos que todas las sumas de filas de una matriz A de n x n tienen el mismo valor, digamos α\"}$\n",
    "\n",
    "Esto puede verse como : \n",
    "\n",
    "$$\n",
    "\\begin{align}\n",
    "    \\left[ \\begin{array}{ccccc|c}\n",
    "    a_1  & a_2 & \\cdots & a_{n-1} & a_n & \\alpha\\\\\n",
    "    b_1  & b_2 & \\cdots & b_{n-1} & b_n & \\alpha\\\\\n",
    "    \\vdots  & \\vdots & \\vdots & \\vdots & \\vdots & \\vdots\\\\\n",
    "    n_1 & n_2 & \\cdots  &n_{n-1} & n_n & \\alpha \\\\\n",
    "    \\end{array} \\right]\n",
    "\\end{align}\n",
    "$$\n",
    "\n",
    "siendo asi \n",
    "$$\n",
    "\\begin{align}\n",
    "\\begin{bmatrix}\n",
    "    a_1  & a_2 & \\cdots & a_{n-1} & a_n \\\\\n",
    "    b_1  & b_2 & \\cdots & b_{n-1} & b_n \\\\\n",
    "    \\vdots  & \\vdots & \\vdots & \\vdots & \\vdots \\\\\n",
    "    n_1 & n_2 & \\cdots  &n_{n-1} & n_n \\\\\n",
    "\\end{bmatrix}\n",
    "=\n",
    "\\begin{bmatrix}\n",
    "    \\alpha\\\\\n",
    "    \\alpha\\\\\n",
    "    \\alpha\\\\\n",
    "    \\alpha \\\\\n",
    "    \\end{bmatrix}\n",
    "\\end{align}\n",
    "$$\n",
    "Factorizando $\\alpha $ tenemos : \n",
    "$$\n",
    "\\begin{align}\n",
    "\\begin{bmatrix}\n",
    "    a_1  & a_2 & \\cdots & a_{n-1} & a_n \\\\\n",
    "    b_1  & b_2 & \\cdots & b_{n-1} & b_n \\\\\n",
    "    \\vdots  & \\vdots & \\vdots & \\vdots  \\\\\n",
    "    n_1 & n_2 & \\cdots  &n_{n-1} & n_n \\\\\n",
    "\\end{bmatrix}\n",
    "\\begin{bmatrix}\n",
    "    1\\\\\n",
    "    1\\\\\n",
    "    \\vdots\\\\\n",
    "    1 \\\\\n",
    "    \\end{bmatrix}\n",
    "= \\alpha\n",
    "\\begin{bmatrix}\n",
    "    1\\\\\n",
    "    1\\\\\n",
    "    \\vdots\\\\\n",
    "    1 \\\\\n",
    "    \\end{bmatrix}\n",
    "\\end{align}\n",
    "$$\n",
    "\n",
    "\n",
    "Con esto establecido, sabemos que para obtener los eigenvalores se debe hacer : $ Ax = \\lambda x $ \n",
    "\n",
    "en este caso buscamos $ \\lambda = \\alpha $\n",
    "\n",
    "Entonces, de la igualdad anterior determinamos que $\\alpha$ es un eigenvalor de A tal que cumple con : $ Ax = \\alpha x $ donde x es su eigenvector\n",
    "\n",
    "$$\n",
    "\\begin{align}\n",
    "Ax = \\alpha x \\rightarrow \\begin{bmatrix}\n",
    "    a_1  & a_2 & \\cdots & a_{n-1} & a_n \\\\\n",
    "    b_1  & b_2 & \\cdots & b_{n-1} & b_n \\\\\n",
    "    \\vdots  & \\vdots & \\vdots & \\vdots  \\\\\n",
    "    n_1 & n_2 & \\cdots  &n_{n-1} & n_n \\\\\n",
    "\\end{bmatrix}\n",
    "\\begin{bmatrix}\n",
    "    1\\\\\n",
    "    1\\\\\n",
    "    \\vdots\\\\\n",
    "    1 \\\\\n",
    "    \\end{bmatrix}\n",
    "= \\alpha\n",
    "\\begin{bmatrix}\n",
    "    1\\\\\n",
    "    1\\\\\n",
    "    \\vdots\\\\\n",
    "    1 \\\\\n",
    "    \\end{bmatrix}\n",
    "\\end{align}\n",
    "$$\n",
    "\n",
    "`por lo que para este caso,` $\\alpha $ `es un eigen valor de una matriz nxn`\n"
   ]
  },
  {
   "cell_type": "markdown",
   "metadata": {},
   "source": [
    "\n",
    "\n",
    "* (b)  **¿Cuál es el vector propio correspondiente?**\n",
    "\n",
    "Por lo anterior se ha demostrado que $\\alpha $ es un eigenvalor de A y \n",
    "` x es un eigen vector de la matriz A `\n",
    "$$\n",
    "\\begin{align}\n",
    "    x = \\begin{bmatrix}\n",
    "      1\\\\\n",
    "      1\\\\\n",
    "      \\vdots \\\\\n",
    "      1\n",
    "    \\end{bmatrix}\n",
    "\\end{align}\n",
    "$$"
   ]
  },
  {
   "cell_type": "markdown",
   "metadata": {},
   "source": [
    "__4.12.  Demostrar que los valores propios de una matriz positiva definida  son todos positivos.__\n"
   ]
  },
  {
   "cell_type": "markdown",
   "metadata": {},
   "source": [
    "Usamos la definicion de la matriz definida positiva  \n",
    "\n",
    "Una matriz M es definida positiva solo si existe un vector X tal que su producto escalar es positivo : \n",
    "$$\n",
    "\\begin{align}\n",
    "    X^T M X > 0 \\quad \\text{ para todo } x \\in\n",
    " R^n \\\n",
    "\\end{align}\n",
    "$$\n",
    "\n",
    "\n",
    "Con la definicion anterior, la acompletamos usando las propiedades de los eigenvalores que ya conocemos : \n",
    "$$\n",
    "\\begin{align}\n",
    "    Ax = \\lambda x \n",
    "\\end{align}\n",
    "$$\n",
    "Ahora, para saber que la matriz A es definida positiva y que eigenvector correspondiente es $v$ con su eigenvalor $ \\lambda$, le aplicamos la definicion de la matriz definida positiva : \n",
    "\n",
    "$$\n",
    "\\begin{align}\n",
    "    X^T A X = \\lambda X^T X\n",
    "\\end{align}\n",
    "$$\n",
    "Como vemos, el producto escalar de $ X^T X $  es un vector escalar y este a su vez representa la norma al cuadrado de X, podemos decir que $ X^T X > 0 $ para cualquier vector no nulo.\n",
    "\n",
    "\n",
    "Es decir, $ \\lambda$ debera ser positiva, ya que $ X^T A X $ es positivo y $\\lambda X^T X $ igual es positivo \n",
    "\n",
    "```Por lo tanto, todos los eigenvalores de una matriz definida positiva son positivos``` "
   ]
  },
  {
   "cell_type": "markdown",
   "metadata": {},
   "source": [
    "__4.14.  Demostrar que para cualquier norma matricial inducida por una norma vectorial, ρ(A)≤||A||__\n"
   ]
  },
  {
   "cell_type": "markdown",
   "metadata": {},
   "source": [
    "Sea $ \\lambda$ un valor propio de A con su correspondiente vector propo de x. Entonces $ Ax = \\lambda x $ o equivalentemente $ \\lambda x = Ax $, esto implica que  $ |\\lambda | \\| x \\| \\leq \\| A \\| \\| x \\| $ entonces $| \\lambda| \\leq \\| A \\| $ esta desigaldad se cumple para cualquier valor propio de módulo mayor de modo que $\\rho(A) \\leq \\|A\\| $"
   ]
  },
  {
   "cell_type": "markdown",
   "metadata": {},
   "source": [
    "__4.16. Supongamos que A es una matriz n x n no singular.__\n",
    "\n",
    "* (a) **¿Cuál es la relación entre los valores propios de A y  los de $A^{-1}$. Demuestre su respuesta.**\n"
   ]
  },
  {
   "cell_type": "markdown",
   "metadata": {},
   "source": [
    "Suponga que $ \\lambda $ es un valor propio de una matriz no singular $ A_{nxn}$ entonces existe un vector $v \\in \\mathbb{R}^n  $ tal que $ Av = \\lambda v $\n",
    "\n",
    "como A es invertible entonces existe $ A^{-1} $ \n",
    "$$\n",
    "\\begin{align*}\n",
    "    A^{-1}Av = A^{-1}\\lambda v = \\lambda A^{-1} v\n",
    "\\end{align*}\n",
    "$$\n",
    "o equivalentemente :\n",
    "$$\n",
    "\\begin{align*}\n",
    "    \\lambda A^{-1} v = I_{nxn}v = v\n",
    "\\end{align*}\n",
    "$$\n",
    "de la igualdad anterior y la matriz A invertible, $\\lambda \\ne  0$\n",
    "$$\n",
    "\\begin{align*}\n",
    "    A^{-1}v = \\frac{1}{\\lambda} v\n",
    "\\end{align*}\n",
    "$$\n",
    "Por tanto $\\frac{1}{\\lambda} $ es un valor propio de la matriz A con su corresponiente vector v\n",
    "\n",
    "Los valores propios de $A^{-1}$ son los recíprocros de los valores propios de A"
   ]
  },
  {
   "cell_type": "markdown",
   "metadata": {},
   "source": [
    "\n",
    "* (b) **¿Cuál es la relación entre los vectores propios de A y  los de $A^{-1}$. Demuestre su respuesta.**"
   ]
  },
  {
   "cell_type": "markdown",
   "metadata": {},
   "source": [
    "La relacion entre los vectores propios de A y los de $A^{-1}$ es que si v es un vector propio de A correspondiente al valor propio $ \\lambda $, entonces v también es un vector propio de A^{-1} correspondiente al valor propio $ \\frac{1}{\\lambda} $.Esto proporcionado por el análisis anterio."
   ]
  },
  {
   "cell_type": "markdown",
   "metadata": {},
   "source": [
    "# Problemas de cómputo\n"
   ]
  },
  {
   "cell_type": "markdown",
   "metadata": {},
   "source": [
    "__4.1 ( a )  Calcular los valores y vectores propios de la matriz__\n",
    "\n",
    "$$\n",
    "\\begin{align}\n",
    "    A = \\begin{bmatrix}\n",
    "     1  & 1000\\\\\n",
    "     0.001 & 1\n",
    "    \\end{bmatrix}\n",
    "\\end{align}\n",
    "$$\n",
    "\n"
   ]
  },
  {
   "cell_type": "code",
   "execution_count": 18,
   "metadata": {},
   "outputs": [
    {
     "name": "stdout",
     "output_type": "stream",
     "text": [
      "Eigenvalues:\n",
      "[2. 0.]\n",
      "\n",
      "Eigenvectors:\n",
      "[[ 0.9999995 -0.9999995]\n",
      " [ 0.001      0.001    ]]\n"
     ]
    }
   ],
   "source": [
    "\n",
    "A = np.array([[1, 1000],\n",
    "              [0.001, 1]])\n",
    "eigenvalues, eigenvectors = np.linalg.eig(A)\n",
    "print(\"Eigenvalues:\")\n",
    "print(eigenvalues)\n",
    "print(\"\\nEigenvectors:\")\n",
    "print(eigenvectors)"
   ]
  },
  {
   "cell_type": "markdown",
   "metadata": {},
   "source": [
    "__4.2 ( a )  Aplicar el método de la potencia para hallar el valor propio dominante y el correspondiente eigenvector de la matriz__\n",
    "\n",
    "$$\n",
    "\\begin{align}\n",
    "    A = \\begin{bmatrix}\n",
    "      2 & 3 & 2 \\\\\n",
    "      10 & 3 & 4 \\\\\n",
    "      3 & 6 & 1\n",
    "    \\end{bmatrix}\n",
    "\\end{align}\n",
    "$$\n",
    "\n",
    "As starting vector, take \n",
    "$$\n",
    "\\begin{align}\n",
    " X_0 =  \\begin{bmatrix}\n",
    "   0  & 0 & 1 \n",
    "  \\end{bmatrix}^T\n",
    "\\end{align}\n",
    "$$\n"
   ]
  },
  {
   "cell_type": "code",
   "execution_count": 19,
   "metadata": {},
   "outputs": [
    {
     "name": "stdout",
     "output_type": "stream",
     "text": [
      "Dominant Eigenvalue:\n",
      "10.047619047619047\n",
      "\n",
      "Corresponding Eigenvector:\n",
      "[[0.5 ]\n",
      " [1.  ]\n",
      " [0.25]]\n"
     ]
    }
   ],
   "source": [
    "\n",
    "A = np.array([[2, 3, 2],\n",
    "              [10, 3, 4],\n",
    "              [3, 6, 1]])\n",
    "x0 = np.array([0, 0, 1]).reshape(-1, 1)\n",
    "max_iterations = 1000\n",
    "tolerance = 1e-6\n",
    "x = x0\n",
    "for i in range(max_iterations):\n",
    "    Ax = np.dot(A, x)\n",
    "    norm = np.linalg.norm(Ax, ord=np.inf)\n",
    "    x = Ax / norm\n",
    "    if np.linalg.norm(Ax - x * norm) < tolerance:\n",
    "        break\n",
    "eigenvalue = np.dot(np.dot(A, x).T, x) / np.dot(x.T, x)\n",
    "print(\"Dominant Eigenvalue:\")\n",
    "print(eigenvalue[0, 0])\n",
    "print(\"\\nCorresponding Eigenvector:\")\n",
    "print(x)"
   ]
  },
  {
   "cell_type": "markdown",
   "metadata": {},
   "source": [
    "\n",
    "* ( c ) Utiliza una rutina general de la biblioteca de sistemas de valores propios reales para calcular todos los valores propios y vectores propios de la matriz. vectores propios de la matriz, y compare los resultados con los obtenidos en las partes a y b."
   ]
  },
  {
   "cell_type": "code",
   "execution_count": 20,
   "metadata": {},
   "outputs": [
    {
     "name": "stdout",
     "output_type": "stream",
     "text": [
      "Eigenvalues (NumPy):\n",
      "[11. -2. -3.]\n",
      "\n",
      "Eigenvectors (NumPy):\n",
      "[[ 0.37139068  0.18257419  0.        ]\n",
      " [ 0.74278135  0.36514837 -0.5547002 ]\n",
      " [ 0.55708601 -0.91287093  0.83205029]]\n",
      "\n",
      "Dominant Eigenvalue (Power Iteration):\n",
      "10.047619047619047\n",
      "\n",
      "Corresponding Eigenvector (Power Iteration):\n",
      "[[0.5 ]\n",
      " [1.  ]\n",
      " [0.25]]\n"
     ]
    }
   ],
   "source": [
    "\n",
    "A = np.array([[2, 3, 2],\n",
    "              [10, 3, 4],\n",
    "              [3, 6, 1]])\n",
    "eigenvalues_np, eigenvectors_np = np.linalg.eig(A)\n",
    "print(\"Eigenvalues (NumPy):\")\n",
    "print(eigenvalues_np)\n",
    "print(\"\\nEigenvectors (NumPy):\")\n",
    "print(eigenvectors_np)\n",
    "print(\"\\nDominant Eigenvalue (Power Iteration):\")\n",
    "print(eigenvalue[0, 0])\n",
    "print(\"\\nCorresponding Eigenvector (Power Iteration):\")\n",
    "print(x)"
   ]
  },
  {
   "cell_type": "markdown",
   "metadata": {},
   "source": [
    "__4.4 Escriba un programa que implemente la iteración cociente de Rayleigh para calcular un valor propio y el correspondiente vector propio de una matriz. Prueba tu programa con la matriz del ejercicio anterior, utilizando un vector inicial aleatorio.__"
   ]
  },
  {
   "cell_type": "code",
   "execution_count": 21,
   "metadata": {},
   "outputs": [
    {
     "name": "stdout",
     "output_type": "stream",
     "text": [
      "Eigenvalue (Rayleigh Quotient Iteration):\n",
      "7.287991943132486\n",
      "\n",
      "Eigenvector (Rayleigh Quotient Iteration):\n",
      "[0.86643225 0.45305757 0.20984279]\n"
     ]
    }
   ],
   "source": [
    "\n",
    "\n",
    "def rayleigh_quotient_iteration(A, x0, max_iterations=1000, tolerance=1e-6):\n",
    "    x = x0 / np.linalg.norm(x0)\n",
    "    eigenvalue = np.dot(np.dot(x.T, A), x) / np.dot(x.T, x)\n",
    "    for i in range(max_iterations):\n",
    "        y = np.linalg.solve(A - eigenvalue * np.eye(A.shape[0]), x)\n",
    "        y_norm = np.linalg.norm(y)\n",
    "        x = y / y_norm\n",
    "        eigenvalue_new = np.dot(np.dot(x.T, A), x) / np.dot(x.T, x)\n",
    "        if np.abs(eigenvalue_new - eigenvalue) < tolerance:\n",
    "            break\n",
    "        eigenvalue = eigenvalue_new\n",
    "    eigenvector = x\n",
    "    return eigenvalue, eigenvector\n",
    "A = np.array([[6, 2, 1],\n",
    "              [2, 3, 1],\n",
    "              [1, 1, 1]])\n",
    "x0 = np.random.rand(A.shape[0])\n",
    "eigenvalue, eigenvector = rayleigh_quotient_iteration(A, x0)\n",
    "print(\"Eigenvalue (Rayleigh Quotient Iteration):\")\n",
    "print(eigenvalue)\n",
    "print(\"\\nEigenvector (Rayleigh Quotient Iteration):\")\n",
    "print(eigenvector)"
   ]
  },
  {
   "cell_type": "markdown",
   "metadata": {},
   "source": [
    "__4.6  Implementa la siguiente versión simple de iteración QR con desplazamientos para calcular los valores propios de una matriz real general A.__\n",
    "\n",
    "Repetir hasta la convergencia : \n",
    "\n",
    "1. $\\sigma = a_{n,n}$\n",
    "2. Compute QR factorization $ QR = A - \\sigma I$\n",
    "3. $ A = RQ + \\sigma I $"
   ]
  },
  {
   "cell_type": "code",
   "execution_count": 22,
   "metadata": {},
   "outputs": [
    {
     "name": "stdout",
     "output_type": "stream",
     "text": [
      "Eigenvalues: [-1.  0.  1.]\n",
      "Eigenvalues: [11. -3. -2.]\n",
      "Eigenvalues: [7.28799214 2.13307448 0.57893339]\n"
     ]
    }
   ],
   "source": [
    "\n",
    "\n",
    "def qr_iteration_with_shift(A, max_iterations=1000, tolerance=1e-6):\n",
    "    n = A.shape[0]\n",
    "    eigenvalues = np.zeros(n)\n",
    "\n",
    "    for i in range(max_iterations):\n",
    "        # Step 1: Choose the shift (using the corner entry)\n",
    "        sigma = A[n - 1, n - 1]\n",
    "        # Step 2: Compute the QR factorization\n",
    "        Q, R = np.linalg.qr(A - sigma * np.eye(n))\n",
    "\n",
    "        # Step 3: Update A\n",
    "        A = np.dot(R, Q) + sigma * np.eye(n)\n",
    "        off_diag = np.sum(np.abs(A - np.diag(np.diagonal(A))))\n",
    "        if off_diag < tolerance:\n",
    "            break\n",
    "    eigenvalues = np.diagonal(A)\n",
    "    return eigenvalues\n",
    "A = np.array([[9, 4.5, 3],\n",
    "              [-56, -28, -18],\n",
    "              [60, 30, 19]])\n",
    "A1 = np.array([[2, 3, 2], [10, 3, 4], [3, 6, 1]])\n",
    "A2 = np.array([[6, 2, 1], [2, 3, 1], [1, 1, 1]])\n",
    "\n",
    "eigenvalues = qr_iteration_with_shift(A)\n",
    "eigenvalues1 = qr_iteration_with_shift(A1)\n",
    "eigenvalues2 = qr_iteration_with_shift(A2)\n",
    "print(\"Eigenvalues:\", eigenvalues)\n",
    "print(\"Eigenvalues:\", eigenvalues1)\n",
    "print(\"Eigenvalues:\", eigenvalues2)"
   ]
  },
  {
   "cell_type": "markdown",
   "metadata": {},
   "source": [
    "__4.14 ( a)  La función exponencial matricial de una matriz  viene definida por la serie infinita infinita__  \n",
    "$$\n",
    "\\begin{align}\n",
    "    \\exp ( A) = I + A + \\frac{A^2}{2!} + \\frac{A^3}{3!} \\cdots\n",
    "\\end{align}\n",
    "$$\n",
    "\n",
    "Escribe un programa para evaluar $ \\exp ( A )$ usando la definicíon de la serie anterior. \n"
   ]
  },
  {
   "cell_type": "code",
   "execution_count": 23,
   "metadata": {},
   "outputs": [],
   "source": [
    "\n",
    "def matrix_exp_series(A, tol=1e-10):\n",
    "   \n",
    "    n = A.shape[0]\n",
    "    exp_A = np.eye(n)  \n",
    "    term = np.eye(n)    \n",
    "    k = 1               \n",
    "\n",
    "    while np.linalg.norm(term) > tol:\n",
    "        term = np.dot(term, A) / k\n",
    "        exp_A = exp_A + term\n",
    "        k += 1\n",
    "\n",
    "    return exp_A\n"
   ]
  },
  {
   "cell_type": "markdown",
   "metadata": {},
   "source": [
    "\n",
    "* ( b )  Una forma alternativa de calcular la matriz exponencial utiliza la descomposición valor propio-vector propio\n",
    "$$\n",
    "\\begin{align}\n",
    "    A = U diag(\\lambda_1 ,\\cdots ,\\lambda_n)U^{-1}\n",
    "\\end{align}\n",
    "$$\n",
    "\n",
    "donde $ \\lambda_1, \\cdots, \\lambda_n $ son los valores propios de  A y U es una matriz cuyas columnas son los vectores propios correspondientes.Entonces la exponencial matricial viene dada por:\n",
    "$$\n",
    "\\begin{align}\n",
    "    A = U diag( \\exp^{\\lambda_1} ,\\cdots ,\\exp^{\\lambda_n})U^{-1}\n",
    "\\end{align}\n",
    "$$\n",
    "Escriba un segundo programa para evaluar $ \\exp(A) $ usando este método.\n"
   ]
  },
  {
   "cell_type": "code",
   "execution_count": 24,
   "metadata": {},
   "outputs": [],
   "source": [
    "def matrix_exp_eigen(A):\n",
    "    \n",
    "    eigenvalues, eigenvectors = np.linalg.eig(A)\n",
    "    exp_eigenvalues = np.exp(eigenvalues)\n",
    "    U = eigenvectors\n",
    "    U_inv = np.linalg.inv(U)\n",
    "    exp_diag = np.diag(exp_eigenvalues)\n",
    "    exp_A = U @ exp_diag @ U_inv\n",
    "    return exp_A"
   ]
  },
  {
   "cell_type": "markdown",
   "metadata": {},
   "source": [
    "\n",
    "Pruebe  ambos metodos usando cada una de las siguientes matrices de prueba:\n",
    "$$\n",
    "\\begin{align}\n",
    "    A_1 = \\begin{bmatrix}\n",
    "     2  & -1  \\\\\n",
    "     -1 & 2 \n",
    "    \\end{bmatrix} \\\\\n",
    "     A_2 = \\begin{bmatrix}\n",
    "     -49 & 24  \\\\\n",
    "     -64 & 31 \n",
    "    \\end{bmatrix}\n",
    "\\end{align}\n",
    "$$\n"
   ]
  },
  {
   "cell_type": "code",
   "execution_count": 25,
   "metadata": {},
   "outputs": [],
   "source": [
    "A1 = np.array([[2, -1], [-1, 2]])\n",
    "A2 = np.array([[-49, 24], [-64, 31]])"
   ]
  },
  {
   "cell_type": "markdown",
   "metadata": {},
   "source": [
    "Compare sus resultados con los de una función de python para calcular la matriz exponencial. ¿Cuál de tus dos rutinas es más precisa y robusta?\n",
    "\n",
    "Intenta explicar por qué. Consulte [275] para conocer varios métodos adicionales para calcular la matriz exponencial."
   ]
  },
  {
   "cell_type": "code",
   "execution_count": 26,
   "metadata": {},
   "outputs": [
    {
     "name": "stdout",
     "output_type": "stream",
     "text": [
      "\n",
      "Matriz exponential usando la serie para A1:\n",
      "[[11.40190938 -8.68362755]\n",
      " [-8.68362755 11.40190938]]\n",
      "\n",
      "Matriz exponential usando eigenvalue-eigenvector decomposition para A1:\n",
      "[[11.40190938 -8.68362755]\n",
      " [-8.68362755 11.40190938]]\n",
      "\n",
      "Matriz exponential usando la serie para A2:\n",
      "[[-0.73575876  0.5518191 ]\n",
      " [-1.4715176   1.10363824]]\n",
      "\n",
      "Matriz exponential usando eigenvalue-eigenvector decomposition para A2:\n",
      "[[-0.73575876  0.5518191 ]\n",
      " [-1.4715176   1.10363824]]\n"
     ]
    }
   ],
   "source": [
    "\n",
    "exp_series_A1 = matrix_exp_series(A1)\n",
    "exp_eigen_A1 = matrix_exp_eigen(A1)\n",
    "\n",
    "exp_series_A2 = matrix_exp_series(A2)\n",
    "exp_eigen_A2 = matrix_exp_eigen(A2)\n",
    "\n",
    "# Print results\n",
    "print(\"\\nMatriz exponential usando la serie para A1:\")\n",
    "print(exp_series_A1)\n",
    "print(\"\\nMatriz exponential usando eigenvalue-eigenvector decomposition para A1:\")\n",
    "print(exp_eigen_A1)\n",
    "\n",
    "print(\"\\nMatriz exponential usando la serie para A2:\")\n",
    "print(exp_series_A2)\n",
    "print(\"\\nMatriz exponential usando eigenvalue-eigenvector decomposition para A2:\")\n",
    "print(exp_eigen_A2)\n"
   ]
  },
  {
   "cell_type": "markdown",
   "metadata": {},
   "source": [
    "Si bien ambos programas calculan $exp(A)$ pero lo que se puede observar que se diferencian en los tipos de matrices para los cuales son efectivos. El que utiliza la serie Taylor es más general y puede manejar una variedad más amplia de matrices, mientras que el segundo  es más eficiente para matrices diagonalizables. \n"
   ]
  },
  {
   "cell_type": "markdown",
   "metadata": {},
   "source": [
    "# Conclusión\n",
    "\n",
    "En conclusión,Los valores propios y los vectores propios nos ayudan a comprender las características de la transformación lineal. se puede utilizar el método de potencia para obtener el valor propio más grande y el vector propio correspondiente de una matriz. El método de la potencia inversa puede ayudarnos a obtener el valor propio más pequeño y el vector propio correspondiente de una matriz. El método de potencia desplazada puede obtener todos los demás valores propios/vectores propios de una matriz. Otro método ampliamente usado para estimar los valores propios es el método QR."
   ]
  }
 ],
 "metadata": {
  "kernelspec": {
   "display_name": "Python 3 (ipykernel)",
   "language": "python",
   "name": "python3"
  },
  "language_info": {
   "codemirror_mode": {
    "name": "ipython",
    "version": 3
   },
   "file_extension": ".py",
   "mimetype": "text/x-python",
   "name": "python",
   "nbconvert_exporter": "python",
   "pygments_lexer": "ipython3",
   "version": "3.11.0"
  },
  "nbTranslate": {
   "displayLangs": [
    "*"
   ],
   "hotkey": "alt-t",
   "langInMainMenu": true,
   "sourceLang": "en",
   "targetLang": "fr",
   "useGoogleTranslate": true
  }
 },
 "nbformat": 4,
 "nbformat_minor": 2
}
