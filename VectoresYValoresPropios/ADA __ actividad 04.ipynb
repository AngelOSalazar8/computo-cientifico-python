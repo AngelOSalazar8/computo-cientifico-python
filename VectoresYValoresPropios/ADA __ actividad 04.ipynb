{
 "cells": [
  {
   "cell_type": "markdown",
   "id": "da937177",
   "metadata": {},
   "source": [
    "<p  align=\"center\" style=\"margin-left: 10%; margin-right: 10%; font-family: 'Cascadia Mono'; font-size: 18px; line-height: 2; font-style: italic;\">\n",
    "</p>\n",
    "<p  align=\"center\" style=\"margin-left: 10%; margin-right: 10%; font-family: 'Cascadia Mono'; font-size: 18px; line-height: 2; font-style: italic;\">Universidad Autónoma de Yucatán - Facultad de Matemáticas</p>\n",
    "<p  align=\"center\" style=\"margin-left: 10%; margin-right: 10%; font-family: 'Cascadia Mono'; font-size: 18px; line-height: 2; font-style: italic;\">Licenciatura en Ciencias de la Computación</p>\n",
    "\n",
    "<p  align=\"center\" style=\"margin-left: 10%; margin-right: 10%; font-family: 'Cascadia Mono'; font-size: 18px; line-height: 2; font-style: italic;\">15 de febrero de 2024</p>\n",
    "\n",
    "<p  align=\"center\" style=\"margin-left: 10%; margin-right: 10%; font-family: 'Cascadia Mono'; font-size: 18px; line-height: 2; font-style: italic;\">Problema de PageRank versión de Julian</p>"
   ]
  },
  {
   "cell_type": "markdown",
   "id": "d89b86cf",
   "metadata": {},
   "source": [
    "<p  align=\"justify\" style=\"margin-left: 10%; margin-right: 10%; font-family: 'Cascadia Mono'; font-size: 14px; line-height: 2; letter-spacing: 1px; text-indent: 40px;\"><span style=\"color: orange;\">Introducción.</span> En el estudio de las dinámicas poblacionales, el concepto de matriz de Leslie juega un papel fundamental al modelar cómo evoluciona la distribución de edades o clases a lo largo del tiempo. Este enfoque se basa en la descripción matemática de procesos naturales como nacimientos, envejecimiento y muertes en una población dividida en clases de edad. Mediante parámetros como la tasa de fecundidad y la probabilidad de supervivencia, se puede proyectar la distribución de clases en el futuro. La matriz de Leslie permite expresar de manera compacta cómo el número de individuos en cada clase cambia de un periodo a otro, brindando así una herramienta invaluable para comprender y predecir la dinámica de las poblaciones a lo largo del tiempo.</p>"
   ]
  },
  {
   "cell_type": "markdown",
   "id": "e14e4720",
   "metadata": {},
   "source": [
    "<p  align=\"justify\" style=\"margin-left: 10%; margin-right: 10%; font-family: 'Cascadia Mono'; font-size: 14px; line-height: 2; letter-spacing: 1px; text-indent: 40px;\">a. Traduzca la lista combinada a un <span style=\"color: orange;\">grafo dirigido con 4 nodos</span>, uno para cada sitio web. Cuando el <span style=\"color: orange;\">sitio web i</span> hace <span style=\"color: orange;\">referencia a j</span> , agregue un borde dirigido entre el <span style=\"color: orange;\">nodo i</span> y el <span style=\"color: orange;\">nodo j</span> en el grafo. Con el fin de calcular el ranking de su página, ignore cualquier enlace de navegación, como los botones Atrás y Siguiente, solo tome encuenta las conexiones entre diferentes sitios web.</p>\n",
    "\n",
    "<p  align=\"justify\" style=\"margin-left: 10%; margin-right: 10%; font-family: 'Cascadia Mono'; font-size: 14px; line-height: 2; letter-spacing: 1px; text-indent: 40px;\">El portal web <span style=\"color: orange;\">denominado Page1</span> se caracteriza por hacer referencia a todos los portales existentes, lo cual se traduce en la presencia de bordes salientes dirigidos hacia todos los nodos adicionales. Por su parte, el <span style=\"color: orange;\">sitio web Page3</span> exhibe únicamente un enlace, dirigido específicamente <span style=\"color: orange;\">hacia Page1</span>, dando lugar a un único borde saliente conectado al nodo <span style=\"color: orange;\">correspondiente a Page1</span>. En contraposición, <span style=\"color: orange;\">Page2 presenta</span> dos enlaces, uno <span style=\"color: orange;\">hacia Page4</span> y otro <span style=\"color: orange;\">hacia Page3</span>, por lo tanto, existen bordes salientes dirigidos hacia los <span style=\"color: orange;\">nodos Page4 y Page3</span>, respectivamente. Por último, <span style=\"color: orange;\">Page4</span>, al igual <span style=\"color: orange;\">que Page2</span>, dispone de dos enlaces, uno dirigido <span style=\"color: orange;\">a Page1 y otro a Page3</span>, lo que resulta en la presencia de bordes salientes hacia los <span style=\"color: orange;\">nodos Page1 y Page3</span>, en concordancia con la estructura de enlaces establecida.</p>"
   ]
  },
  {
   "cell_type": "markdown",
   "id": "6c31a15f",
   "metadata": {},
   "source": [
    "<p  align=\"justify\" style=\"margin-left: 10%; margin-right: 10%; font-family: 'Cascadia Mono'; font-size: 14px; line-height: 2; letter-spacing: 1px; text-indent: 40px;\">b. En el modelo, cada página debe transferir uniformemente su importancia a las páginas a las que enlaza. Denote por <span style=\"color: orange;\">$x_1$ , $x_2$ , $x_3$ y $x_4$</span> la importancia de las cuatro páginas. Analice la situación en cada nodo y obtenga un sistema lineal, represente su sistema en la forma <span style=\"color: orange;\">$Ax=x$</span></p>\n",
    "\n",
    "<p  align=\"justify\" style=\"margin-left: 10%; margin-right: 10%; font-family: 'Cascadia Mono'; font-size: 14px; line-height: 2; letter-spacing: 1px; text-indent: 40px;\">Cada página debe distribuir equitativamente su importancia a las páginas a las que se enlaza. En consecuencia, se observa que <span style=\"color: orange;\">el nodo 1</span> posee tres conexiones salientes, lo que implica que deberá transferir su importancia a cada uno de los tres nodos conectados. Por otro lado, <span style=\"color: orange;\">el nodo 3</span> exhibe únicamente una conexión saliente, resultando en la transferencia total de su importancia <span style=\"color: orange;\">al nodo 1</span>. Cuando un nodo cuenta con <span style=\"color: orange;\">k conexiones salientes</span>, se deduce que distribuirá <span style=\"color: orange;\">1/k de su importancia</span> a cada uno de los nodos a los que está enlazado.</p>\n",
    "\n",
    "<p  align=\"center\" style=\"margin-left: 10%; margin-right: 10%; font-family: 'Cascadia Mono'; font-size: 14px; line-height: 2; letter-spacing: 1px;\"><span style=\"color: orange;\">A = [ [ 0, 0, 1, 1/2 ], [ 1/3, 0, 0, 0 ], [ 1/3, 1/2, 0, 1/2 ], [ 1/3, 1/2, 0, 0 ] ]</span></p>"
   ]
  },
  {
   "cell_type": "markdown",
   "id": "a9e68af0",
   "metadata": {},
   "source": [
    "<p  align=\"justify\" style=\"margin-left: 10%; margin-right: 10%; font-family: 'Cascadia Mono'; font-size: 14px; line-height: 2; letter-spacing: 1px; text-indent: 40px;\">c. Hallar el <span style=\"color: orange;\">vector propio</span> de la <span style=\"color: orange;\">matriz $A$</span> asociado al valor propio <span style=\"color: orange;\">$\\lambda=1$</span> ¿Cuál es la razón de <span style=\"color: orange;\">seleccionar $\\lambda=1$?</span></p>\n",
    "\n",
    "<p  align=\"justify\" style=\"margin-left: 10%; margin-right: 10%; font-family: 'Cascadia Mono'; font-size: 14px; line-height: 2; letter-spacing: 1px; text-indent: 40px;\">Cuando se establece la igualdad entre la multiplicación de la <span style=\"color: orange;\">matriz A</span> por el <span style=\"color: orange;\">vector v</span> y el producto del <span style=\"color: orange;\">escalar lambda (con un valor de 1) por el mismo vector v</span>, se obtiene un sistema de ecuaciones donde cada componente del vector v está relacionado con las otras mediante operaciones específicas. Las ecuaciones resultantes son: <span style=\"color: orange;\">( 2y + z ) / 2 = w, w / 3 = x, ( 2w + 3x + 3z ) / 6 = y, y ( 2w + 3x ) / 6 = z</span>. Este sistema se resuelve utilizando <span style=\"color: orange;\">el método de Gauss</span>, que consiste en realizar operaciones elementales sobre las ecuaciones para eliminar incógnitas. Al resolver este sistema, se obtiene <span style=\"color: orange;\">el vector v</span> con los valores correspondientes: <span style=\"color: orange;\">z * [ 2, 2/3, 3/2, 1 ]</span>, lo que representa las soluciones para las <span style=\"color: orange;\">incógnitas w, x, y y z</span>.</p>"
   ]
  },
  {
   "cell_type": "markdown",
   "id": "5c530f61",
   "metadata": {},
   "source": [
    "<p  align=\"justify\" style=\"margin-left: 10%; margin-right: 10%; font-family: 'Cascadia Mono'; font-size: 14px; line-height: 2; letter-spacing: 1px; text-indent: 40px;\">d. Suponga que inicialmente la importancia se distribuye uniformemente entre <span style=\"color: orange;\">los 4 nodos</span> y cada uno <span style=\"color: orange;\">obtiene 1 / 4</span>. Denota por <span style=\"color: orange;\">$x_0$ el vector de rango inicial</span>, en el que todas las entradas son <span style=\"color: orange;\">iguales a 1 / 4</span>. construya una función que tenga como entradas la <span style=\"color: orange;\">matrix A</span>, el <span style=\"color: orange;\">vector inicial $x_0$</span> y el número de iteraciones. Use la fución para hallar el vector propio dominante (vector PageRank de del grafo web). Mencione la página de mayor relevancia. ¿Qué concluye al tener conocimiento de  la página de mayor relevancia?</p>"
   ]
  },
  {
   "cell_type": "code",
   "execution_count": 2,
   "id": "151882a0",
   "metadata": {},
   "outputs": [
    {
     "name": "stdout",
     "output_type": "stream",
     "text": [
      "El vector propio dominante (PageRank) es: [0.38709677 0.12903226 0.29032258 0.19354839]\n",
      "La página de mayor relevancia es la página: 1\n"
     ]
    }
   ],
   "source": [
    "import numpy as np\n",
    "\n",
    "def calcular_pagerank(A, x_0, iteraciones):\n",
    "    n = len(x_0)\n",
    "    x = x_0\n",
    "    for i in range(iteraciones):\n",
    "        x = np.dot(A, x)\n",
    "    return x\n",
    "\n",
    "A = np.array([[ 0, 0, 1, 1/2 ], [ 1/3, 0, 0, 0 ], [ 1/3, 1/2, 0, 1/2 ], [ 1/3, 1/2, 0, 0 ] ])\n",
    "\n",
    "x_0 = np.array([1/4, 1/4, 1/4, 1/4])\n",
    "iteraciones = 100\n",
    "pagerank = calcular_pagerank(A, x_0, iteraciones)\n",
    "\n",
    "pagina_max_relevancia = np.argmax(pagerank) + 1\n",
    "print(\"El vector propio dominante (PageRank) es:\", pagerank)\n",
    "print(\"La página de mayor relevancia es la página:\", pagina_max_relevancia)"
   ]
  },
  {
   "cell_type": "markdown",
   "id": "c4361703",
   "metadata": {},
   "source": [
    "<p  align=\"justify\" style=\"margin-left: 10%; margin-right: 10%; font-family: 'Cascadia Mono'; font-size: 14px; line-height: 2; letter-spacing: 1px; text-indent: 40px;\">I. En el tiempo <span style=\"color: orange;\">$t_k$</span> , el número de elementos de la primera clase, serán únicamente los elementos nacidos entre los <span style=\"color: orange;\">tiempos $t_{k-1}$ y $t_{k}$.</span></p>\n",
    "\n",
    "$$\n",
    "x_1\\left(\\:k\\:\\right)=a_1x_1\\left(\\:k-1\\:\\right)+a_2x_2\\left(\\:k-1\\:\\right)+...+a_nx_n\\left(\\:k-1\\:\\right)\n",
    "$$\n",
    "\n",
    "<p  align=\"justify\" style=\"margin-left: 10%; margin-right: 10%; font-family: 'Cascadia Mono'; font-size: 14px; line-height: 2; letter-spacing: 1px; text-indent: 40px;\">En el <span style=\"color: orange;\">modelo de Leslie</span>, se establece que el caso <span style=\"color: orange;\">\\( b_i = 0 \\)</span> no puede ocurrir, ya que implicaría que ninguna hembra viviría más allá de la <span style=\"color: orange;\">clase \\( i \\)</span>, lo que contradice el concepto biológico. Además, se asume que al menos hay un <span style=\"color: orange;\">\\( a_i > 0 \\)</span>, lo que garantiza la posibilidad de nacimientos. A esta clase se le llama la clase fértil. Considerando el vector de distribución de edades en el tiempo <span style=\"color: orange;\">\\( t_k \\)</span>, denotado como <span style=\"color: orange;\">\\( x(k) = [x_1(k), x_2(k), \\dots, x_n(k)] \\)</span>, el número de hembras de la primera clase en el tiempo <span style=\"color: orange;\">\\( t_k \\)</span> viene dado exclusivamente por aquellas nacidas entre los tiempos <span style=\"color: orange;\">\\( t_{k-1} \\)</span> y <span style=\"color: orange;\">\\( t_k \\)</span>. Esto se expresa algebraicamente como <span style=\"color: orange;\">\\( x_1(k) = a_1x_1(k - 1) + a_2x_2(k - 1) + \\dots + a_nx_n(k - 1) \\)</span>. Este modelo describe cómo el número de individuos en cada clase de edad cambia a lo largo del tiempo debido a la tasa de natalidad y a la estructura de supervivencia de la población.</p>"
   ]
  },
  {
   "cell_type": "markdown",
   "id": "efe15775",
   "metadata": {},
   "source": [
    "<p  align=\"justify\" style=\"margin-left: 10%; margin-right: 10%; font-family: 'Cascadia Mono'; font-size: 14px; line-height: 2; letter-spacing: 1px; text-indent: 40px;\">II. Ahora, el número de elementos de la clase de orden <span style=\"color: orange;\">$(i+1)$</span>, en el tiempo <span style=\"color: orange;\">$t_k$</span> , es igual al número de elementos de la clase\n",
    "de orden <span style=\"color: orange;\">$i$</span> en el tiempo <span style=\"color: orange;\">$t_{k-1}$</span>, que sobreviven en el tiempo <span style=\"color: orange;\">$t_k$</span>.</p>\n",
    "\n",
    "$$\n",
    "\\begin{align}\n",
    "    x_{1\\:+\\:1}(\\:k\\:) = b_ix_i(\\:k-1\\:), \\quad i = 1, 2,\\:\\cdots, n - 1\n",
    "\\end{align}\n",
    "$$\n",
    "\n",
    "<p  align=\"justify\" style=\"margin-left: 10%; margin-right: 10%; font-family: 'Cascadia Mono'; font-size: 14px; line-height: 2; letter-spacing: 1px; text-indent: 40px;\">Por otro lado, el número de hembras en la clase de orden <span style=\"color: orange;\">\\( i+1 \\)</span>, con <span style=\"color: orange;\">\\( i = 1, 2, \\dots, n-1 \\)</span>, en el tiempo <span style=\"color: orange;\">\\( t_k \\)</span>, es igual al número de hembras de la clase de orden <span style=\"color: orange;\">\\( i \\)</span> en el tiempo <span style=\"color: orange;\">\\( t_{k-1} \\)</span> que todavía están vivas en el tiempo <span style=\"color: orange;\">\\( t_k \\)</span>. Esto se expresa como <span style=\"color: orange;\">\\( x_{i+1}(k) = b_i x_i(k - 1) \\)</span>, para <span style=\"color: orange;\">\\( i = 1, 2, \\dots, n - 1 \\)</span>. Este aspecto del modelo de Leslie refleja cómo el número de individuos en una clase de edad particular en un momento dado depende del número de individuos en la clase de edad anterior en el momento anterior, teniendo en cuenta la probabilidad de supervivencia <span style=\"color: orange;\">\\( b_i \\)</span>.</p>\n"
   ]
  },
  {
   "cell_type": "markdown",
   "id": "74d16f44",
   "metadata": {},
   "source": [
    "<p  align=\"justify\" style=\"margin-left: 10%; margin-right: 10%; font-family: 'Cascadia Mono'; font-size: 14px; line-height: 2; letter-spacing: 1px; text-indent: 40px;\">III. Utilizando la notación matricial, escriba <span style=\"color: orange;\">i)</span> y <span style=\"color: orange;\">ii)</span> en forma matricial, la matriz que obtiene se llama matriz de Leslie.</p>\n",
    "\n",
    "$$\n",
    "\\begin{pmatrix}\n",
    "x_1(\\:k\\:)\\\\\n",
    "x_2(\\:k\\:)\\\\\n",
    "\\vdots \\\\\n",
    "x_n(\\:k\\:)\n",
    "\\end{pmatrix}\n",
    "= \n",
    "\\begin{pmatrix}\n",
    " a_1  & a_2 & \\cdots & a_{n\\:-\\:1} & a_n \\\\\n",
    " b_1  & 0 & \\cdots & 0 & 0 \\\\\n",
    " 0 & b_2 & \\cdots & 0 & 0 \\\\\n",
    " \\vdots  & \\vdots & \\vdots & \\vdots & \\vdots \\\\\n",
    " 0 & 0 & \\cdots  &b_{n\\:-\\:1} & 0 \\\\\n",
    "\\end{pmatrix}\n",
    "\\begin{pmatrix}\n",
    "x_1(\\:k\\:-\\:1\\:)\\\\\n",
    "x_2(\\:k\\:-\\:1\\:)\\\\\n",
    "x_3(\\:k\\:-\\:1\\:)\\\\\n",
    "\\vdots \\\\\n",
    "x_n(\\:k\\:-\\:1\\:)\n",
    "\\end{pmatrix}\n",
    "$$\n",
    "\n",
    "<p  align=\"justify\" style=\"margin-left: 10%; margin-right: 10%; font-family: 'Cascadia Mono'; font-size: 14px; line-height: 2; letter-spacing: 1px; text-indent: 40px;\">El enfoque matricial del modelo de Leslie permite representar de manera concisa y sistemática cómo evoluciona la distribución de edades de una población a lo largo del tiempo. Las ecuaciones describen cómo el número de individuos en cada clase de edad en un período dado depende del número de individuos en cada clase en el período anterior, teniendo en cuenta las tasas de natalidad y supervivencia. La matriz de Leslie captura estas relaciones, donde los elementos diagonales representan las tasas de natalidad <span style=\"color: orange;\">(\\( a_i \\))</span> y los elementos fuera de la diagonal representan las tasas de supervivencia <span style=\"color: orange;\">(\\( b_i \\))</span>. Multiplicar la matriz de Leslie por el vector de distribución de edades en un período anterior permite calcular la distribución de edades en el siguiente período. Esta formulación matricial facilita el análisis y la predicción del crecimiento de la población a lo largo del tiempo en función de los parámetros biológicos.</p>"
   ]
  },
  {
   "cell_type": "markdown",
   "id": "714e7101",
   "metadata": {},
   "source": [
    "<p  align=\"justify\" style=\"margin-left: 10%; margin-right: 10%; font-family: 'Cascadia Mono'; font-size: 14px; line-height: 2; letter-spacing: 1px; text-indent: 40px;\">IV. Considérese una población animal (exclusiva mente hembras) ficticia que consiste de 1000 animales con edad <span style=\"color: orange;\">entre 0 y 1</span>, <span style=\"color: orange;\">800 animales</span> con edad entre <span style=\"color: orange;\">1 y 2</span>  y  <span style=\"color: orange;\">600</span> con edad entre <span style=\"color: orange;\">2 y 3</span>. Se supone que ninguno de los animales vive más de tres años.</p>\n",
    "\n",
    "$$\n",
    "x_0 = \\begin{pmatrix}\n",
    "1000 \\\\\n",
    "800 \\\\\n",
    "600\n",
    "\\end{pmatrix}\n",
    "$$\n",
    "\n",
    "<p  align=\"justify\" style=\"margin-left: 10%; margin-right: 10%; font-family: 'Cascadia Mono'; font-size: 14px; line-height: 2; letter-spacing: 1px; text-indent: 40px;\">Tenemos una población ficticia de animales, exclusivamente hembras, con tres clases de edad: <span style=\"color: orange;\">0 a 1 año, 1 a 2 años y 2 a 3 años</span>. En el momento inicial, hay <span style=\"color: orange;\">1000 animales</span> en la clase de edad de <span style=\"color: orange;\">0 a 1 año</span>, <span style=\"color: orange;\">800 animales</span> en la clase de edad de <span style=\"color: orange;\">1 a 2 años</span> y <span style=\"color: orange;\">600 animales en la clase de edad de 2 a 3 años</span>. Además, según la suposición, ninguno de los animales vive más de tres años. Esta información inicial nos proporciona la distribución inicial de edades de la población y establece el punto de partida para aplicar el modelo de Leslie y predecir cómo evolucionará la población a lo largo del tiempo.</p>"
   ]
  },
  {
   "cell_type": "markdown",
   "id": "54976ea2",
   "metadata": {},
   "source": [
    "<p  align=\"justify\" style=\"margin-left: 10%; margin-right: 10%; font-family: 'Cascadia Mono'; font-size: 14px; line-height: 2; letter-spacing: 1px; text-indent: 40px;\">V. Considere lo siguiente:La mitad de los animales de la clase 1 sobrevivirán para estar en la clase 2 el próximo año, la mitad de los animales de la clase 2 sobrevivirán para estar en la clase 3 el próximo año. Los animales de la clase 1 no producen hijos, cada animal de la <span style=\"color: orange;\">clase 2 produce 1 hijo en promedio</span>, y cada animal de la <span style=\"color: orange;\">clase 3 produce 2 hijos en promedio</span>. Con estos datos se forme la matriz de Leslie.</p>\n",
    "\n",
    "$$\n",
    "A = \\begin{pmatrix}\n",
    "  0 & 1 & 2 \\\\\n",
    "  0.5 & 0 & 0 \\\\\n",
    "  0 & 0.5 & 0\n",
    "\\end{pmatrix}\n",
    "$$\n",
    "\n",
    "<p  align=\"justify\" style=\"margin-left: 10%; margin-right: 10%; font-family: 'Cascadia Mono'; font-size: 14px; line-height: 2; letter-spacing: 1px; text-indent: 40px;\">Con la información proporcionada, podemos construir la matriz de Leslie. Dado que la mitad de los animales de la clase 1 sobreviven para estar en la clase 2 el próximo año, y la mitad de los animales de la clase 2 sobreviven para estar en la clase 3 el próximo año, podemos establecer los parámetros de supervivencia <span style=\"color: orange;\">\\( b_1 = 0.5 \\)</span> y <span style=\"color: orange;\">\\( b_2 = 0.5 \\)</span>. Además, los animales de la clase 1 no producen hijos <span style=\"color: orange;\">(\\( a_1 = 0 \\))</span>, cada animal de la clase 2 produce en promedio 1 hijo <span style=\"color: orange;\">(\\( a_2 = 1 \\))</span>, y cada animal de la clase 3 produce en promedio 2 hijos <span style=\"color: orange;\">(\\( a_3 = 2 \\))</span>.</p>"
   ]
  },
  {
   "cell_type": "markdown",
   "id": "e60afbff",
   "metadata": {},
   "source": [
    "<p  align=\"justify\" style=\"margin-left: 10%; margin-right: 10%; font-family: 'Cascadia Mono'; font-size: 14px; line-height: 2; letter-spacing: 1px; text-indent: 40px;\">Basados en <span style=\"color: orange;\">iv, v</span> y usando el método de potencia responda las siguientes preguntas. vi. ¿Cuál es la distribución én las clases después de un año?</p>\n",
    "\n",
    "$$\n",
    "X^{(\\:1\\:)} = \\begin{pmatrix}\n",
    "2000 \\\\\n",
    "500 \\\\\n",
    "400\n",
    "\\end{pmatrix}\n",
    "$$\n",
    "\n",
    "<p  align=\"justify\" style=\"margin-left: 10%; margin-right: 10%; font-family: 'Cascadia Mono'; font-size: 14px; line-height: 2; letter-spacing: 1px; text-indent: 40px;\">Para calcular la distribución de las clases después de un año en base al modelo de Leslie, multiplicamos la matriz de Leslie <span style=\"color: orange;\">\\(A\\)</span> por el vector de distribución inicial de clases <span style=\"color: orange;\">\\(x^{(0)}\\)</span>, donde <span style=\"color: orange;\">\\(A\\)</span> representa las tasas de natalidad y supervivencia de las diferentes clases de edad y <span style=\"color: orange;\">\\(x^{(0)}\\)</span> es la distribución inicial de la población. En este caso, considerando una población inicial de 1000 animales en la clase de edad de 0 a 1 año, 800 animales en la clase de edad de 1 a 2 años y 600 animales en la clase de edad de 2 a 3 años, al multiplicar la matriz <span style=\"color: orange;\">\\(A\\)</span> por el vector <span style=\"color: orange;\">\\(x^{(0)}\\)</span>, obtenemos la distribución de las clases después de un año. En este caso específico, la distribución después de un año sería de 2000 animales en la clase de 0 a 1 año, 500 animales en la clase de 1 a 2 años y 400 animales en la clase de 2 a 3 años. Este proceso refleja cómo evoluciona la estructura de edad de la población en función de las tasas de natalidad y supervivencia.</p>"
   ]
  },
  {
   "cell_type": "code",
   "execution_count": 20,
   "id": "9726841a",
   "metadata": {},
   "outputs": [
    {
     "name": "stdout",
     "output_type": "stream",
     "text": [
      "Clase 1: 2000.0\n",
      "Clase 2: 500.0\n",
      "Clase 3: 400.0\n"
     ]
    }
   ],
   "source": [
    "import numpy as np\n",
    "\n",
    "def calcular_pagerank(A, x_0, iteraciones):\n",
    "    n = len(x_0)\n",
    "    x = x_0\n",
    "    for i in range(iteraciones):\n",
    "        x = np.dot(A, x)\n",
    "    return x.flatten() if iteraciones > 1 else x\n",
    "\n",
    "v = np.array([1000, 800, 600])\n",
    "A = np.array([[0, 1, 2],\n",
    "              [0.5, 0, 0],\n",
    "              [0, 0.5, 0]])\n",
    "\n",
    "x_1 = calcular_pagerank(A, v, 1)\n",
    "for i, clase in enumerate(v):\n",
    "    print(f\"Clase {i+1}: {x_1[i]}\")"
   ]
  },
  {
   "cell_type": "markdown",
   "id": "0409ab20",
   "metadata": {},
   "source": [
    "<p  align=\"justify\" style=\"margin-left: 10%; margin-right: 10%; font-family: 'Cascadia Mono'; font-size: 14px; line-height: 2; letter-spacing: 1px; text-indent: 40px;\">vii. ¿Cuál es la distribución de edades después de 2 años?</p>\n",
    "\n",
    "$$\n",
    "X^{(\\:2\\:)} = \\begin{pmatrix}\n",
    "1300 \\\\\n",
    "1000 \\\\\n",
    "250\n",
    "\\end{pmatrix}\n",
    "$$\n",
    "\n",
    "<p  align=\"justify\" style=\"margin-left: 10%; margin-right: 10%; font-family: 'Cascadia Mono'; font-size: 14px; line-height: 2; letter-spacing: 1px; text-indent: 40px;\">Para calcular la distribución de edades después de 2 años utilizando el método de la potencia y basándonos en la matriz de Leslie <span style=\"color: orange;\">\\(A\\)</span>, primero elevamos <span style=\"color: orange;\">\\(A\\)</span> al cuadrado, lo que representa el paso de un año a otro. Luego, multiplicamos esta matriz resultante por el vector de distribución inicial de edades <span style=\"color: orange;\">\\(x^{(0)}\\)</span>, lo que nos da la distribución de edades después de 2 años. Tras realizar los cálculos, obtenemos que después de 2 años, habría 1300 animales en la clase de 0 a 1 año, 1000 animales en la clase de 1 a 2 años y 250 animales en la clase de 2 a 3 años. Este proceso nos permite comprender cómo evoluciona la estructura de edad de la población a lo largo del tiempo, considerando las tasas de natalidad y supervivencia de cada clase de edad.</p>"
   ]
  },
  {
   "cell_type": "code",
   "execution_count": 17,
   "id": "f0e6669f",
   "metadata": {},
   "outputs": [
    {
     "name": "stdout",
     "output_type": "stream",
     "text": [
      "Clase 1: 1300.0 \n",
      "Clase 2: 1000.0 \n",
      "Clase 3: 250.0 \n"
     ]
    }
   ],
   "source": [
    "import numpy as np\n",
    "\n",
    "def calcular_pagerank(A, x_0, iteraciones):\n",
    "    n = len(x_0)\n",
    "    x = x_0\n",
    "    for i in range(iteraciones):\n",
    "        x = np.dot(A, x)\n",
    "    return x \n",
    "\n",
    "v = np.array([1000, 800, 600])\n",
    "A = np.array([[0, 1, 2],\n",
    "              [0.5, 0, 0],\n",
    "              [0, 0.5, 0]])\n",
    "\n",
    "x_2 = calcular_pagerank(A, v, 2)\n",
    "for i, clase in enumerate(v):\n",
    "    print(f\"Clase {i+1}: {x_2[i]} \")"
   ]
  },
  {
   "cell_type": "markdown",
   "id": "dfc8fdbc",
   "metadata": {},
   "source": [
    "<p  align=\"justify\" style=\"margin-left: 10%; margin-right: 10%; font-family: 'Cascadia Mono'; font-size: 14px; line-height: 2; letter-spacing: 1px; text-indent: 40px;\">viii. ¿Qué se puede decir acerca del vector de distribución $x^{(k)}$? suponga $k=64$</p>\n",
    "\n",
    "<p  align=\"justify\" style=\"margin-left: 10%; margin-right: 10%; font-family: 'Cascadia Mono'; font-size: 14px; line-height: 2; letter-spacing: 1px; text-indent: 40px;\">El vector de distribución \\( x^{(k)} \\) nos proporciona información sobre cómo evoluciona la estructura de edades de la población después de \\( k \\) períodos de tiempo, en este caso, \\( k = 64 \\) años. Este vector representa el número de individuos en cada clase de edad después de transcurrir 64 años, considerando las tasas de natalidad y supervivencia definidas por el modelo de Leslie. Es una herramienta fundamental para comprender cómo cambia la composición de la población a lo largo del tiempo y cómo factores como la fertilidad y la mortalidad afectan su distribución por edad.</p>"
   ]
  },
  {
   "cell_type": "code",
   "execution_count": 10,
   "id": "e7f4f136",
   "metadata": {},
   "outputs": [
    {
     "name": "stdout",
     "output_type": "stream",
     "text": [
      "x_64 = [1519.99999988  760.00000001  380.00000005]\n"
     ]
    }
   ],
   "source": [
    "import numpy as np\n",
    "\n",
    "def calcular_pagerank(A, x_0, iteraciones):\n",
    "    n = len(x_0)\n",
    "    x = x_0\n",
    "    for i in range(iteraciones):\n",
    "        x = np.dot(A, x)\n",
    "    return np.array(x)  # Asegurarse de que x sea un vector numpy\n",
    "\n",
    "v = np.array([1000, 800, 600])\n",
    "A = np.array([[0, 1, 2],\n",
    "              [0.5, 0, 0],\n",
    "              [0, 0.5, 0]])\n",
    "\n",
    "x_64 = calcular_pagerank(A, v, 64)\n",
    "print(\"x_64 =\", x_64)"
   ]
  },
  {
   "cell_type": "markdown",
   "id": "7b68cf30",
   "metadata": {},
   "source": [
    "<p  align=\"justify\" style=\"margin-left: 10%; margin-right: 10%; font-family: 'Cascadia Mono'; font-size: 14px; line-height: 2; letter-spacing: 1px; text-indent: 40px;\"><span style=\"color: orange;\">Conclusión.</span> El enfoque de la matriz de Leslie proporciona un marco sólido para entender la evolución de las poblaciones a lo largo del tiempo, considerando procesos clave como nacimientos, envejecimiento y muertes. Este modelo matemático nos permite proyectar cómo cambia la distribución de edades o clases en una población, facilitando la predicción de su comportamiento futuro. Además, al utilizar el método de potencia, podemos calcular eficientemente la distribución de clases en diferentes momentos temporales. En última instancia, comprender y aplicar la matriz de Leslie es esencial para abordar una amplia gama de problemas en ecología, conservación, epidemiología y otras áreas relacionadas con la dinámica poblacional.</p>"
   ]
  }
 ],
 "metadata": {
  "kernelspec": {
   "display_name": "Python 3 (ipykernel)",
   "language": "python",
   "name": "python3"
  },
  "language_info": {
   "codemirror_mode": {
    "name": "ipython",
    "version": 3
   },
   "file_extension": ".py",
   "mimetype": "text/x-python",
   "name": "python",
   "nbconvert_exporter": "python",
   "pygments_lexer": "ipython3",
   "version": "3.11.5"
  }
 },
 "nbformat": 4,
 "nbformat_minor": 5
}
