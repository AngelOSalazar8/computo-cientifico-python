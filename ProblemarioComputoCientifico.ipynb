{
 "cells": [
  {
   "cell_type": "markdown",
   "metadata": {},
   "source": [
    "<center><img src=\"encabezado.png\" width=\"1800\" height=\"450\"></center>\n"
   ]
  },
  {
   "cell_type": "markdown",
   "metadata": {},
   "source": [
    "\n",
    "<p style=\"text-align: center; font-size: 2em; font-weight: bold;\">\n",
    "    Problemario del curso Cómputo Cientifico\n",
    "</p>\n",
    "\n",
    "<p style=\"text-align: center; font-size: 1.2em; font-style: italic;\">\n",
    "    Enero-Mayo 2024\n",
    "</p>\n",
    "\n",
    "<p style=\"text-align: center; font-size: 1.2em; font-style: italic;\">\n",
    "    Ciencias de la Computación<br>\n",
    "    Facultad de Matemáticas\n",
    "</p>\n",
    "\n",
    "---\n"
   ]
  },
  {
   "cell_type": "markdown",
   "metadata": {},
   "source": [
    "# Prefació\n",
    "\n",
    "Este problemario presenta una amplia visión general de los métodos numéricos para estudiantes y profesionales en disciplinas orientadas a la computación que necesitan resolver problemas en las ciencias. Se diferencia de los textos tradicionales de análisis numérico en que se centra en la motivación y las ideas detrás de los algoritmos presentados en lugar de un análisis detallado de ellos.\n",
    "\n",
    "Se intenta transmitir una comprensión general de las técnicas disponibles para resolver problemas en cada categoría principal, incluida la formulación adecuada del problema y la interpretación de los resultados, se recomienda uso de software matemático escrito profesionalmente para obtener soluciones siempre que sea posible. En este curso de cómputo científico se usa el software Jupyter. El cuaderno Jupyter es un entorno computacional interactivo, en el que se puede combinar ejecución de código, texto enriquecido, matemáticas, gráficos, etc.\n",
    "\n",
    "Este problemario proporciona estrategias de solución de problemas relacionados a aproximaciones, condicionamiento, existencia y unicidad, vectores y valores propios, Ecuaciones diferenciales ordinarias, y ecuaciones diferenciales parciales. Cada ejercicio contiene el desarrollo a detalle de la solución y el tipo de estrategia para atacar el problema. Espero que el lector o grupo de lectores sean conscientes de las cuestiones relevantes a la hora de estudiar cada problema, elegir el algoritmo adecuado para la solución y utilizarlos sabiamente\n"
   ]
  },
  {
   "cell_type": "markdown",
   "metadata": {},
   "source": [
    "# Agradecimientos \n",
    "\n",
    "Nos gustaría agradecer a **Miguel Omar Solis Rodriguez**, **Julian Emiliano Ortiz Rivero** y **Angel Mariel Osalde Salazazar** que participaron en la elaboración de este problemario por sus aportaciones. A este esfuerzo contribuyeron estudiantes que tomaron el curso computo científico de la licenciatura en ciencias de la computación en el semestre Enero-Mayo 2024. La estrategia de solución a los problemas fue muy útil y contribuyeron en gran medida al producto final. Se agradece al profesor **Abraham Canul** por revisar críticamente las soluciones de los problemas propuestos en el curso de cómputo científico, por desarrollar algunos de los problemas de ejemplo y proporcionar sus soluciones."
   ]
  },
  {
   "cell_type": "markdown",
   "metadata": {},
   "source": [
    "# Introducción\n",
    "\n",
    "La computación científica se ha convertido en una herramienta indispensable en muchas ramas de la investigación, y es de vital importancia para el estudio de una amplia gama de fenómenos físicos y sociales. En este curso, examinaremos los fundamentos matemáticos de algoritmos numéricos bien establecidos y exploraremos su uso a través de ejemplos prácticos extraídos de una variedad de disciplinas científicas y de ingeniería.\n",
    "\n",
    "La siguiente nota ofrece una introducción al campo de la computación científica, proporcionando un contexto histórico y presentando algunos ejemplos modernos.\n"
   ]
  },
  {
   "cell_type": "markdown",
   "metadata": {},
   "source": [
    "\n",
    "## ¿Por qué estudiar computación científica?\n",
    "\n",
    "La computación llena la brecha entre la teoría y la experimentación. A continuación, se presentan algunas razones para estudiar computación científica:\n",
    "\n",
    "1. **Exploración de modelos teóricos/matemáticos**: La computación nos permite explorar modelos teóricos y matemáticos cuando estos no pueden resolverse analíticamente. Este suele ser el caso de muchos problemas del mundo real.\n",
    "   \n",
    "2. **Procesamiento y análisis de datos en gran escala**: La computación nos permite procesar y analizar grandes volúmenes de datos, algo que sería imposible de realizar manualmente o con herramientas tradicionales.\n",
    "   \n",
    "3. **Avances en algoritmos y hardware**: Los avances en algoritmos y hardware en los últimos 50 años han aumentado constantemente la prominencia de la computación científica, permitiendo resolver problemas cada vez más complejos de manera eficiente.\n"
   ]
  },
  {
   "cell_type": "markdown",
   "metadata": {},
   "source": [
    "\n",
    "# ¿Qué es la computación científica?\n",
    "\n",
    "La computación científica está estrechamente relacionada con el análisis numérico.\n",
    "\n",
    "a) **Análisis numérico**: Es el estudio de algoritmos para resolver problemas de la matemática continua.\n",
    "\n",
    "b) **Computación científica**: Mientras que el análisis numérico se enfoca en el estudio de los algoritmos, la computación científica enfatiza su aplicación a problemas prácticos.\n",
    "\n",
    "c) **Matemáticas continuas**: Se refiere a algoritmos que involucran números reales en lugar de enteros.\n",
    "\n",
    "# Computación científica: Cosmología\n",
    "\n",
    "La simulación cosmológica permite ilustrar teorías de formación de galaxias. Puedes encontrar más información en el siguiente enlace: [Cosmic Web](http://cosmicweb.uchicago.edu/filaments.html)\n",
    "\n",
    "![Cosmología](http://cosmicweb.uchicago.edu/images/anim1.jpg)\n"
   ]
  },
  {
   "cell_type": "markdown",
   "metadata": {},
   "source": [
    "\n",
    "# Computación científica: Biología\n",
    "\n",
    "La computación científica es ahora crucial en biología molecular, por ejemplo, en el plegamiento de proteínas. Más detalles pueden encontrarse aquí: [Protein Organization](https://comis.med.uvm.edu/VIC/coursefiles/MD540/MD540-Protein_Organization_10400_574581210/Protein-org/Protein_Organization8.html)\n",
    "\n",
    "<center><img src=\"https://comis.med.uvm.edu/VIC/coursefiles/MD540/MD540-Protein_Organization_10400_574581210/Protein-org/folding.jpg\" width=\"500\" height=\"300\"></center>\n"
   ]
  },
  {
   "cell_type": "markdown",
   "metadata": {},
   "source": [
    "\n",
    "# Modelado Matemático y Análisis de Enfermedades Infecciosas\n",
    "\n",
    "Se estudian las propiedades globales de un modelo básico de infección viral con transmisión mitótica, \"cura\" de células infectadas, tasa de infección saturada y retardo intracelular discreto.\n",
    "\n",
    "Avila-Vales, E., Canul-Pech, A., García-Almeida, G. E., & Pérez, Á. G. (2020). *Global stability of a delay virus dynamics model with mitotic transmission and cure rate*. Mathematical Modelling and Analysis of Infectious Diseases, 83-126.\n",
    "\n",
    "<center><img src=\"https://www.artennua.com/wp-content/uploads/aplicaciones-enfermedades-infecciosas.jpg\" width=\"500\" height=\"300\"></center>"
   ]
  },
  {
   "cell_type": "markdown",
   "metadata": {},
   "source": [
    "\n",
    "# Contenido\n",
    "\n",
    "## Introducción al campo del Cómputo Científico\n",
    "\n",
    "- [Ejercicio 1: Representación Númerica ](IntroduccionAlComputoCientifico/ADA%20__%20actividad%2001.ipynb)\n",
    "- [Ejercicio 2: Representación de Punto Flotante](IntroduccionAlComputoCientifico/ADA%20__%20actividad%2002.ipynb)\n",
    "- [Ejercicio 3: Aproximación Númerica](IntroduccionAlComputoCientifico/ADA%20__%20actividad%2003.ipynb)\n"
   ]
  },
  {
   "cell_type": "markdown",
   "metadata": {},
   "source": [
    "\n",
    "## Vectores y Valores Propios.\n",
    "\n",
    "\n",
    "- [ vectores y valores propios y el método de Leslie para resolver el problema de PageRank. ]()\n",
    "<ol type=\"i\">\n",
    "<li><a href=\"VectoresYValoresPropios/ADA __ actividad 04.ipynb\"> Ejercicio 1: Versión de Julian</a></li>\n",
    "<li><a href=\"VectoresYValoresPropios/Ejercicio 1 unidad 2.ipynb\">Ejercicio 1: Versión de Angel </a></li>\n",
    "<li><a href=\"VectoresYValoresPropios/Ejercicio1_Unidad2.ipynb\">Ejercicio 1:   Versión de Miguel</a></li>\n",
    "</ol>\n",
    "\n",
    "- [Ejercicio 2: Método de la potencia](Unidad2/Tarea%202%20Unidad%202.ipynb)\n"
   ]
  },
  {
   "cell_type": "markdown",
   "metadata": {},
   "source": [
    "\n",
    "## Ecuaciones diferenciales ordinarias\n",
    "\n",
    "- [Ejercicio 1: Método de Euler](EcuacionesDiferencialesOrdinarias/Metodo%20de%20Euler.ipynb)\n",
    "- [Ejercicio 2: Método de Heun](EcuacionesDiferencialesOrdinarias/Metodo%20de%20Heun.ipynb)\n",
    "- [Ejercicio 3: Método de Runge-kutta](EcuacionesDiferencialesOrdinarias/Metodo%20de%20Rungekutta.ipynb)\n",
    "- [Ejercicio 4: Método de disparo lineal](EcuacionesDiferencialesOrdinarias/Disparo%20lineal.ipynb)\n"
   ]
  },
  {
   "cell_type": "markdown",
   "metadata": {},
   "source": [
    "\n",
    "## Ecuaciones diferenciales parciales\n",
    "\n",
    "- [Ejercicio 1: Ecuacion del calor](EcuacionesDiferencialesParciales/Ejercicios%20ecuación%20del%20calor.ipynb)\n",
    "- [Ejercicio 2: Ecuacion de la onda](EcuacionesDiferencialesParciales/ejercicios%20ecuacion%20de%20la%20onda.ipynb)\n"
   ]
  },
  {
   "cell_type": "markdown",
   "metadata": {},
   "source": [
    "\n",
    "## Proyecto Final\n",
    "\n",
    "### Uso de las ecuaciones diferenciales para el análisis del comportamiento de células expuestas a una infección viral.\n",
    "\n",
    "- [Proyecto](proyectoInfeccionViral/proyecto.ipynb)\n",
    "\n"
   ]
  },
  {
   "cell_type": "markdown",
   "metadata": {},
   "source": [
    "<hr>\n",
    "\n",
    "# Referencias\n",
    "\n",
    "Linge, S., & Langtangen, H. (n.d.). Programming for Computations -A Gentle Introduction to Numerical Simulations with Python. Retrieved May 23, 2024, from https://hplgit.github.io/prog4comp/doc/pub/p4c_Python.pdf https://hplgit.github.io/prog4comp/\n",
    "\n",
    "\n",
    "‌"
   ]
  }
 ],
 "metadata": {
  "kernelspec": {
   "display_name": "Python 3 (ipykernel)",
   "language": "python",
   "name": "python3"
  },
  "language_info": {
   "codemirror_mode": {
    "name": "ipython",
    "version": 3
   },
   "file_extension": ".py",
   "mimetype": "text/x-python",
   "name": "python",
   "nbconvert_exporter": "python",
   "pygments_lexer": "ipython3",
   "version": "3.11.0"
  },
  "nbTranslate": {
   "displayLangs": [
    "*"
   ],
   "hotkey": "alt-t",
   "langInMainMenu": true,
   "sourceLang": "en",
   "targetLang": "fr",
   "useGoogleTranslate": true
  }
 },
 "nbformat": 4,
 "nbformat_minor": 2
}
